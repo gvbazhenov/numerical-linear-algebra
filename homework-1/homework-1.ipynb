{
  "nbformat": 4,
  "nbformat_minor": 0,
  "metadata": {
    "kernelspec": {
      "display_name": "Python 3",
      "language": "python",
      "name": "python3"
    },
    "language_info": {
      "codemirror_mode": {
        "name": "ipython",
        "version": 3
      },
      "file_extension": ".py",
      "mimetype": "text/x-python",
      "name": "python",
      "nbconvert_exporter": "python",
      "pygments_lexer": "ipython3",
      "version": "3.7.7"
    },
    "colab": {
      "name": "homework-1.ipynb",
      "provenance": [],
      "collapsed_sections": []
    }
  },
  "cells": [
    {
      "cell_type": "markdown",
      "metadata": {
        "id": "PsQsHsOdLaSN"
      },
      "source": [
        "# Problem Set 1 (96 points) "
      ]
    },
    {
      "cell_type": "markdown",
      "metadata": {
        "id": "zOJknAHCLaSS"
      },
      "source": [
        "## Important information\n",
        "1. We provide signatures of the functions that you have to implement. Make sure you follow the signatures defined, otherwise your coding solutions will not be graded.\n",
        "\n",
        "2. Please submit the single Jupyter Notebook file, where only Python and Markdown/$\\LaTeX$ are used. Any hand-written solutions inserted by photos or in any other way **are prohibitive and will not be graded**. If you will have any questions about using Markdown, ask them!  "
      ]
    },
    {
      "cell_type": "markdown",
      "metadata": {
        "id": "B0jk0pf5LaST"
      },
      "source": [
        "# Problem 1 (Theoretical tasks)  (36 pts)\n",
        "\n",
        "_1._\n",
        "- (1 pts) What are the constants $C_1$ and $C_2$ such that $C_1 \\|x\\|_{1} \\leq \\|x\\|_{\\infty} \\leq C_2 \\| x\\|_{1}$ for any vector $x$\n",
        "- (5 pts) Prove that $\\| U A \\|_F = \\| A U \\|_F = \\| A \\|_F$ for any unitary matrix $U$.\n",
        "- (5 pts) Prove that $\\| U A \\|_2 = \\| A U \\|_2 = \\| A \\|_2$ for any unitary matrix $U$.\n",
        "  \n",
        "_2._\n",
        "- (5 pts) Using the results from the previous subproblem, prove that $\\| A \\|_F \\le \\sqrt{\\mathrm{rank}(A)} \\| A \\|_2$. _Hint:_ SVD will help you.\n",
        "- (5 pts) Show that for any $m, n$ and $k \\le \\min(m, n)$ there exists $A \\in \\mathbb{R}^{m \\times n}: \\mathrm{rank}(A) = k$, such that $\\| A \\|_F = \\sqrt{\\mathrm{rank}(A)} \\| A \\|_2$. In other words, show that the previous inequality is not strict.\n",
        "- (5 pts) Prove that if $A \\in \\mathbb{R}^{n \\times n}$ - diagonalizable matrix, then $\\det(\\exp(A)) = \\exp(\\mathrm{trace}(A))$. \n",
        "\n",
        "_Hint:_ $\\exp(S^{-1}AS) = \\sum\\limits_{k=0}^{\\infty}\\frac{(S^{-1}AS)^k}{k!} = S^{-1}\\exp(A)S$, moreover $\\exp(D) = \\mathrm{diag}(\\exp(d_1), \\exp(d_2), ..., \\exp(d_n))$ where $D = \\mathrm{diag}(d_1, d_2, ..., d_n)$ - diagonal matrix with diagonal values $d_1, d_2, ..., d_n$\n",
        "\n",
        "\n",
        "- (5 pts) Prove that $\\| A B \\|_2 \\le \\| A \\|_2 \\| B \\|_F$.\n",
        "\n",
        "_3._\n",
        "\n",
        "- (2 pts) Let $U \\in \\mathbb{C}^{n \\times k}, k < n$ be a matrix so that $U^*U = I_k$. \n",
        "Find a pseudoinverse of $UU^*$\n",
        "- (3 pts) Compute  pseudoinverse of the matrix analytically \n",
        "\n",
        "$$\n",
        "A = \\begin{bmatrix}\n",
        "2\\\\\n",
        "3\\\\\n",
        "\\vdots\\\\\n",
        "\\sqrt{5n-1}\n",
        "\\end{bmatrix}\n",
        "\\begin{bmatrix}\n",
        "-1 & 1 & -1 & \\ldots & (-1)^{n}\n",
        "\\end{bmatrix}\n",
        "$$"
      ]
    },
    {
      "cell_type": "markdown",
      "metadata": {
        "id": "mYMR0NjLMpC4"
      },
      "source": [
        "# Solution"
      ]
    },
    {
      "cell_type": "markdown",
      "metadata": {
        "id": "zab6lASnMsX_"
      },
      "source": [
        "1.1.1\n",
        "$$\\|x\\|_1 = \\sum\\limits_{i = 1}^n |x_i| \\leqslant \\sum\\limits_{i = 1}^n \\max_j|x_j| = n \\max_j|x_j| = n\\|x\\|_{\\infty} \n",
        "\\Longrightarrow \\frac{1}{n}\\|x\\|_1 \\leqslant \\|x\\|_{\\infty},\\;C_1 = \\frac{1}{n}$$\n",
        "\n",
        "$$k = \\underset{j}{\\text{argmax}}\\,|x_j| \\Longrightarrow \\|x\\|_{\\infty} = \\max_j|x_j| = |x_k| \\leqslant |x_k| + \n",
        "\\sum\\limits_{i \\neq k} |x_i| = \\sum\\limits_{i = 1}^n |x_i| = \\|x\\|_1 \\Longrightarrow C_2 = 1$$\n",
        "\n",
        "1.1.2\n",
        "$$\\|UA\\|_F^2 = \\text{trace}\\,(UA)^*UA = \\text{trace}\\,A^*U^*UA = \n",
        "\\text{trace}\\,A^*A = \\|A\\|_F^2$$\n",
        "\n",
        "$$\\|AU\\|_F^2 = \\text{trace}\\,(AU)^*AU = \\text{trace}\\,U^*A^*AU = \n",
        "\\text{trace}\\,A^*AUU^* = \\text{trace}\\,A^*A = \\|A\\|_F^2$$\n",
        "\n",
        "1.1.3\n",
        "$$\\|UA\\|_2^2 = \\sup_{\\|x\\|_2 = 1} \\|UAx\\|_2^2 = \\sup_{\\|x\\|_2 = 1} (UAx, UAx) = \n",
        "\\sup_{\\|x\\|_2 = 1} (A^*U^*UAx, x) = \\sup_{\\|x\\|_2 = 1} (A^*Ax, x) = \n",
        "\\sup_{\\|x\\|_2 = 1} (Ax, Ax) = \\|A\\|_2^2$$\n",
        "\n",
        "$$\\|AU\\|_2^2 = \\sup_{\\|x\\|_2 = 1} \\|AUx\\|_2^2 = \\sup_{\\|x\\|_2 = 1} (AUx, AUx) = \n",
        "\\sup_{\\|Ux\\|_2 = 1} (AUx, AUx) = \\sup_{\\|y\\|_2 = 1} (Ay, Ay) = \\sup_{\\|y\\|_2 = 1} \\|Ay\\|_2^2 = \\|A\\|_2^2$$"
      ]
    },
    {
      "cell_type": "markdown",
      "metadata": {
        "id": "xF4fkzv1jAUJ"
      },
      "source": [
        "1.2.1\n",
        "$$A = U\\Sigma V^* \\Longrightarrow \\|A\\|_F^2 = \\text{trace}\\,A^*A = \\text{trace}\\,V\\Sigma^* U^* U\\Sigma V^* = \n",
        "\\text{trace}\\,V\\Sigma^*\\Sigma V^* = \\text{trace}\\,V^*V\\Sigma^*\\Sigma = $$\n",
        "$$= \\text{trace}\\,\\Sigma^*\\Sigma = \\sum\\limits_{i = 1}^{\\min(m, n)} |\\sigma_i|^2 \\leqslant \n",
        "\\sum\\limits_{i = 1}^{\\min(m, n)} \\max_j|\\sigma_j|^2 = \\text{rank}\\,A\\max_j|\\sigma_j|^2 = \\text{rank}\\,A \\cdot \\|A\\|_2^2$$\n",
        "\n",
        "1.2.2\n",
        "\n",
        "Example of $A$ for which $\\|A\\|_F^2 = \\mathrm{rank}\\,A \\cdot \\|A\\|_2^2$ is\n",
        "\n",
        "$$k = \\min(m, n) \\Longrightarrow \n",
        "A = \\begin{bmatrix}\n",
        "I_{k \\times k} & O_{k \\times (n - k)} \\\\\n",
        "O_{(m - k) \\times k} & O_{(m - k) \\times (n - k)}\n",
        "\\end{bmatrix}$$\n",
        "\n",
        "This leads to \n",
        "\n",
        "$$\\sum\\limits_{i = 1}^{\\min(m, n)} \\sigma_i^2 = \\sum\\limits_{i = 1}^{\\min(m, n)} \\max_j\\sigma_j^2$$\n",
        "\n",
        "1.2.3\n",
        "\n",
        "$$A = S^{-1}D S \\Longrightarrow \\det\\exp A = \\det\\exp S^{-1}D S = \\det S^{-1}(\\exp D) S = \\det\\exp D = \n",
        "\\prod_{i = 1}^n \\exp(d_i) = $$\n",
        "$$= \\exp \\sum_{i = 1}^n d_i = \\exp \\text{trace}\\,D = \\exp \\text{trace}\\,D S^{-1}S = \\exp\\text{trace}\\,S^{-1}DS = \\exp \\text{trace}\\,A$$\n",
        "\n",
        "1.2.4\n",
        "\n",
        "$$B = U\\Sigma V^* \\Longrightarrow \\|B\\|_F^2 = \\text{trace}\\,\\Sigma^*\\Sigma = \\sum\\limits_{j = 1}^{\\min(m, n)} \\sigma_j^2 \n",
        "\\geqslant \\max_j |\\sigma_j|^2 = \\|B\\|_2^2$$\n",
        "$$\\|AB\\|_2 \\leqslant \\|A\\|_2\\|B\\|_2 \\leqslant \\|A\\|_2\\|B\\|_F$$"
      ]
    },
    {
      "cell_type": "markdown",
      "metadata": {
        "id": "Z7vqG_8g7BPl"
      },
      "source": [
        "1.3.1\n",
        "\n",
        "$$k = \\text{rank}\\,I_k = \\text{rank}\\,U^*U \\leqslant \\text{rank}\\,U \\leqslant k \\Longrightarrow \\text{rank}\\,U = k$$\n",
        "\n",
        "Moreover, it can be clearly seen that all columns of $A$ are orthonormal, so we can use SVD in the following way\n",
        "\n",
        "$$UU^* = W\\Sigma V^* \\Longrightarrow U = W = V,\\;\\Sigma = \\Sigma^+ = I_k$$\n",
        "\n",
        "$$(UU^*)^+ = (W\\Sigma V^*)^+ = V\\Sigma^+ W^* = V \\Sigma W^* = UU^*$$\n",
        "\n",
        "So if $A = UU^*$, then $A^+ = A$\n",
        "\n",
        "Let us demonstrate that the following matrix is actually pseudoinverse\n",
        "\n",
        "$$AA = UU^*UU^* = UI_kU^* = UU^* = A,\\;A^* = (UU^*)^* = UU^* = A$$\n",
        "\n",
        "$$AA^+A = AAA = A,\\;A^+AA^+ = AAA = A$$\n",
        "\n",
        "$$(AA^+)^* = (AA)^* = A* = A = AA = AA^+,\\;(A^+A)^* = (AA)^* = A* = A = AA = A^+A$$\n",
        "\n",
        "1.3.2\n",
        "\n",
        "Here we can use the compact SVD without constructing the orthonormal bases for left and right kernels of $A$\n",
        "\n",
        "$$A = U\\Sigma V^* = u\\sigma v^T = ab^T \\Longrightarrow \n",
        "u = \\frac{a}{\\|a\\|_2},\\;v = \\frac{b}{\\|b\\|_2},\\;\\sigma = \\|a\\|_2\\|b\\|_2$$\n",
        "\n",
        "$$\\|a\\|_2^2 = \\sum\\limits_{k = 1}^n (5k - 1) = 5\\sum_{k = 1}^n k - n = \\frac{5n^2 + 3n}{2},\\;\n",
        "\\|b\\|_2^2 = n \\Longrightarrow \\sigma^2 = \\frac{5n^3 + 3n^2}{2}$$\n",
        "\n",
        "$$A^+ = V\\Sigma^+U^* = v\\sigma^{-1}u^T = \\frac{ba^T}{\\sigma^2} = \n",
        "\\frac{2}{5n^3 + 3n^2}\\,\\begin{bmatrix}\n",
        "-1\\\\\n",
        "1\\\\\n",
        "\\vdots\\\\\n",
        "(-1)^n\n",
        "\\end{bmatrix}\n",
        "\\begin{bmatrix}\n",
        "2 & 3 & \\dots & \\sqrt{5n - 1}\n",
        "\\end{bmatrix}$$"
      ]
    },
    {
      "cell_type": "markdown",
      "metadata": {
        "id": "xFa-xXh6LaSW"
      },
      "source": [
        "# Problem 2 (Matrix calculus) (15 pts)\n",
        "\n",
        "_1._ (11 pts) Consider the following function\n",
        "\n",
        "$$ F(U, V) = \\frac{1}{2}\\|X - UDV\\|_F^2, $$\n",
        "\n",
        "where $X \\in \\mathbb{R}^{n \\times n}$, $U \\in \\mathbb{R}^{n \\times k}$, $V \\in \\mathbb{R}^{k \\times n}$, $k < n$ and $D = diag(d_1, \\ldots, d_k)$ is given diagonal matrix.\n",
        "\n",
        "- (2 pts) Derive analytical expression for the gradient of the function $F$ with respect to $U$ \n",
        "- (2 pts) Derive analytical expression for the gradient of the function $F$ with respect to $V$\n",
        "- (7 pts) Estimate computational complexity of computing these gradients (in big-O notation). Also, compare timing of analytical computations versus timing the automatic differentiation with JAX. Study some range of dimensions to extract asymptotic complexity and make a conclusion, what approach is faster. Plot the dependence of running time on the dimension (row and column separately) to proof your conclusion \n",
        "\n",
        "_2._ (4 pts) Derive analytical expression for the gradient and hessian of the function $f$:\n",
        "\n",
        "$$ R(x) = \\frac{(Ax, x)}{(x, x)}, $$\n",
        "\n",
        "where $A$ is a symmetric real matrix. Why the gradient of this function is important in NLA you will know in the lectures later."
      ]
    },
    {
      "cell_type": "markdown",
      "metadata": {
        "id": "R26WnRq0dst9"
      },
      "source": [
        "# Solution\n",
        "\n",
        "2.1.1\n",
        "\n",
        "$$B = DV,\\;Y = UB - X,\\;y_{ij} = \\sum\\limits_{t = 1}^k u_{it}b_{tj} - x_{ij}$$\n",
        "$$F = \\frac{1}{2}\\sum\\limits_{i = 1}^n\\sum\\limits_{j = 1}^n y_{ij}^2 \\Longrightarrow \n",
        "\\frac{\\partial F}{\\partial u_{km}} = \\sum\\limits_{i = 1}^n\\sum\\limits_{j = 1}^n\n",
        "\\frac{\\partial F}{\\partial y_{ij}}\\frac{\\partial y_{ij}}{\\partial u_{km}} = \n",
        "\\sum\\limits_{i = 1}^n\\sum\\limits_{j = 1}^n y_{ij}\\frac{\\partial y_{ij}}{\\partial u_{km}} =$$\n",
        "$$= \\sum\\limits_{i = 1}^n\\sum\\limits_{j = 1}^n y_{ij} \\delta_{ik}b_{mj} = \n",
        "\\sum\\limits_{j = 1}^n y_{kj}b_{mj} = \\sum\\limits_{j = 1}^n y_{kj}b'_{jm} \\Longrightarrow \n",
        "\\frac{\\partial F}{\\partial U} = (UB - X)B^T = (UDV - X)(DV)^T$$\n",
        "\n",
        "2.1.2\n",
        "\n",
        "$$B = UD,\\;Y = BV - X,\\;y_{ij} = \\sum\\limits_{t = 1}^k b_{it}v_{tj} - x_{ij}$$\n",
        "$$F = \\frac{1}{2}\\sum\\limits_{i = 1}^n\\sum\\limits_{j = 1}^n y_{ij}^2 \\Longrightarrow \n",
        "\\frac{\\partial F}{\\partial v_{km}} = \\sum\\limits_{i = 1}^n\\sum\\limits_{j = 1}^n\n",
        "\\frac{\\partial F}{\\partial y_{ij}}\\frac{\\partial y_{ij}}{\\partial v_{km}} = \n",
        "\\sum\\limits_{i = 1}^n\\sum\\limits_{j = 1}^n y_{ij}\\frac{\\partial y_{ij}}{\\partial v_{km}} =$$\n",
        "$$= \\sum\\limits_{i = 1}^n\\sum\\limits_{j = 1}^n y_{ij} b_{ik}\\delta_{jm} = \n",
        "\\sum\\limits_{i = 1}^n y_{im}b_{ik} = \\sum\\limits_{i = 1}^n b'_{ki}y_{im} \\Longrightarrow \n",
        "\\frac{\\partial F}{\\partial V} = B^T(BV - X) = (UD)^T(UDV - X)$$\n",
        "\n",
        "2.1.3\n",
        "\n",
        "See next code snippets"
      ]
    },
    {
      "cell_type": "code",
      "metadata": {
        "id": "9CJIbvVVFa0F"
      },
      "source": [
        "import jax.numpy as jnp\n",
        "import jax\n",
        "\n",
        "import matplotlib.pyplot as plt\n",
        "import timeit\n",
        "\n",
        "import numpy as np\n",
        "from tqdm import tqdm"
      ],
      "execution_count": 42,
      "outputs": []
    },
    {
      "cell_type": "code",
      "metadata": {
        "id": "Nx8kd6V2n-Z8"
      },
      "source": [
        "def initialize_matrices(n, k, seed):\n",
        "    return jax.random.normal(seed, (n, k)), jnp.diag(jax.random.normal(seed, (k, ))), \\\n",
        "    jax.random.normal(seed, (k, n)), jax.random.normal(seed, (n, n))"
      ],
      "execution_count": 43,
      "outputs": []
    },
    {
      "cell_type": "code",
      "metadata": {
        "id": "Y5YnS_YRrtXd"
      },
      "source": [
        "def function(u, d, v, x):\n",
        "    return jnp.sum(jnp.square(u @ d @ v - x)) / 2\n",
        "\n",
        "gradient_u = jax.grad(function, 0)\n",
        "gradient_v = jax.grad(function, 2)"
      ],
      "execution_count": 44,
      "outputs": []
    },
    {
      "cell_type": "code",
      "metadata": {
        "id": "vnn7d7GvshNi"
      },
      "source": [
        "seed = jax.random.PRNGKey(17)"
      ],
      "execution_count": 45,
      "outputs": []
    },
    {
      "cell_type": "markdown",
      "metadata": {
        "id": "y7Q0ClOwpbr5"
      },
      "source": [
        "Time complexity for $\\cfrac{\\partial F}{\\partial U}$ can be estimated as follows\n",
        "\n",
        "$$T_U(n, k) = O(nk^2) + O(kn^2) + O(n^2) + O(nk^2) + O(kn^2) = O(nk^2) + O(kn^2) \\Longrightarrow T_U(n) = n^2,\\;T_U(k) = O(k^2)$$"
      ]
    },
    {
      "cell_type": "code",
      "metadata": {
        "id": "Nm89RhP9po-3"
      },
      "source": [
        "def analytical_derivative_u(u, d, v, x):\n",
        "    return (u @ d @ v - x) @ (d @ v).T"
      ],
      "execution_count": 5,
      "outputs": []
    },
    {
      "cell_type": "code",
      "metadata": {
        "id": "890lacEVLaSX",
        "colab": {
          "base_uri": "https://localhost:8080/"
        },
        "outputId": "2a82049f-9035-4275-e156-2c13b79b0e6a"
      },
      "source": [
        "k, nn = 1000, list(range(100, 5001, 300))\n",
        "analytical_u_time_per_n = []\n",
        "automatic_u_time_per_n = []\n",
        "\n",
        "for n in tqdm(nn):\n",
        "    u, d, v, x = initialize_matrices(n, k, seed)\n",
        "    analytical_u_time = timeit.timeit(lambda: analytical_derivative_u(u, d, v, x), number=10) / 10\n",
        "    analytical_u_time_per_n.append(analytical_u_time)\n",
        "\n",
        "    automatic_u_time = timeit.timeit(lambda: gradient_u(u, d, v, x), number=10) / 10\n",
        "    automatic_u_time_per_n.append(automatic_u_time)"
      ],
      "execution_count": 6,
      "outputs": [
        {
          "output_type": "stream",
          "name": "stderr",
          "text": [
            "100%|██████████| 17/17 [04:41<00:00, 16.55s/it]\n"
          ]
        }
      ]
    },
    {
      "cell_type": "code",
      "metadata": {
        "colab": {
          "base_uri": "https://localhost:8080/"
        },
        "id": "AHrCJiwtpGX7",
        "outputId": "0c42f633-6f6e-4f19-cc68-ce95f597a8e4"
      },
      "source": [
        "n, kk = 1000, list(range(100, 5001, 300))\n",
        "analytical_u_time_per_k = []\n",
        "automatic_u_time_per_k = []\n",
        "\n",
        "for k in tqdm(kk):\n",
        "    u, d, v, x = initialize_matrices(n, k, seed)\n",
        "    analytical_u_time = timeit.timeit(lambda: analytical_derivative_u(u, d, v, x), number=10) / 10\n",
        "    analytical_u_time_per_k.append(analytical_u_time)\n",
        "\n",
        "    automatic_u_time = timeit.timeit(lambda: gradient_u(u, d, v, x), number=10) / 10\n",
        "    automatic_u_time_per_k.append(automatic_u_time)"
      ],
      "execution_count": 7,
      "outputs": [
        {
          "output_type": "stream",
          "name": "stderr",
          "text": [
            "100%|██████████| 17/17 [04:40<00:00, 16.51s/it]\n"
          ]
        }
      ]
    },
    {
      "cell_type": "code",
      "metadata": {
        "colab": {
          "base_uri": "https://localhost:8080/",
          "height": 520
        },
        "id": "1qxFDQolqnFu",
        "outputId": "2b60c47a-192f-40e7-f5fe-4db925c8cf08"
      },
      "source": [
        "fig, axes = plt.subplots(1, 2, figsize=(20, 8))\n",
        "\n",
        "axes[0].plot(nn, analytical_u_time_per_n, marker='o')\n",
        "axes[0].plot(nn, automatic_u_time_per_n, marker='o')\n",
        "axes[0].grid()\n",
        "axes[0].set_title('Time for computing derivative wrt $U$ depending on $n$', fontsize=14)\n",
        "axes[0].set_xlabel('n', fontsize=14)\n",
        "axes[0].set_ylabel('time', fontsize=14)\n",
        "axes[0].legend(['analytical', 'automatic JAX'], fontsize=14)\n",
        "\n",
        "axes[1].plot(kk, analytical_u_time_per_k, marker='o')\n",
        "axes[1].plot(kk, automatic_u_time_per_k, marker='o')\n",
        "axes[1].grid()\n",
        "axes[1].set_title('Time for computing derivative wrt $U$ depending on $k$', fontsize=14)\n",
        "axes[1].set_xlabel('k', fontsize=14)\n",
        "axes[1].set_ylabel('time', fontsize=14)\n",
        "axes[1].legend(['analytical', 'automatic JAX'], fontsize=14)\n",
        "\n",
        "plt.show()"
      ],
      "execution_count": 8,
      "outputs": [
        {
          "output_type": "display_data",
          "data": {
            "image/png": "[encoded data removed]",
            "text/plain": [
              "<Figure size 1440x576 with 2 Axes>"
            ]
          },
          "metadata": {
            "needs_background": "light"
          }
        }
      ]
    },
    {
      "cell_type": "markdown",
      "metadata": {
        "id": "4ng69UC2wfKB"
      },
      "source": [
        "Time complexity for $\\cfrac{\\partial F}{\\partial V}$ can be estimated as follows\n",
        "\n",
        "$$T_V(n, k) = T_U(n, k) = O(nk^2) + O(kn^2) \\Longrightarrow T_V(n) = n^2,\\;T_V(k) = O(k^2)$$"
      ]
    },
    {
      "cell_type": "code",
      "metadata": {
        "id": "X9gkWFUpwfKB"
      },
      "source": [
        "def analytical_derivative_v(u, d, v, x):\n",
        "    return (u @ d).T @ (u @ d @ v - x)"
      ],
      "execution_count": 47,
      "outputs": []
    },
    {
      "cell_type": "code",
      "metadata": {
        "colab": {
          "base_uri": "https://localhost:8080/"
        },
        "id": "MtLDwUtIwfKC",
        "outputId": "256c0d8d-34d1-45dc-dc99-1d475a4dc886"
      },
      "source": [
        "k, nn = 1000, list(range(100, 5001, 300))\n",
        "analytical_v_time_per_n = []\n",
        "automatic_v_time_per_n = []\n",
        "\n",
        "for n in tqdm(nn):\n",
        "    u, d, v, x = initialize_matrices(n, k, seed)\n",
        "    analytical_v_time = timeit.timeit(lambda: analytical_derivative_v(u, d, v, x), number=10) / 10\n",
        "    analytical_v_time_per_n.append(analytical_v_time)\n",
        "\n",
        "    automatic_v_time = timeit.timeit(lambda: gradient_v(u, d, v, x), number=10) / 10\n",
        "    automatic_v_time_per_n.append(automatic_v_time)"
      ],
      "execution_count": 48,
      "outputs": [
        {
          "output_type": "stream",
          "name": "stderr",
          "text": [
            "100%|██████████| 17/17 [04:12<00:00, 14.86s/it]\n"
          ]
        }
      ]
    },
    {
      "cell_type": "code",
      "metadata": {
        "colab": {
          "base_uri": "https://localhost:8080/"
        },
        "id": "aCYEK5z_wfKC",
        "outputId": "9c1161fb-46c3-4ca6-9f03-6dbf6bd3972a"
      },
      "source": [
        "n, kk = 1000, list(range(100, 5001, 300))\n",
        "analytical_v_time_per_k = []\n",
        "automatic_v_time_per_k = []\n",
        "\n",
        "for k in tqdm(kk):\n",
        "    u, d, v, x = initialize_matrices(n, k, seed)\n",
        "    analytical_v_time = timeit.timeit(lambda: analytical_derivative_v(u, d, v, x), number=10) / 10\n",
        "    analytical_v_time_per_k.append(analytical_v_time)\n",
        "\n",
        "    automatic_v_time = timeit.timeit(lambda: gradient_v(u, d, v, x), number=10) / 10\n",
        "    automatic_v_time_per_k.append(automatic_v_time)"
      ],
      "execution_count": 49,
      "outputs": [
        {
          "output_type": "stream",
          "name": "stderr",
          "text": [
            "100%|██████████| 17/17 [03:28<00:00, 12.28s/it]\n"
          ]
        }
      ]
    },
    {
      "cell_type": "code",
      "metadata": {
        "colab": {
          "base_uri": "https://localhost:8080/",
          "height": 520
        },
        "id": "fNiolVrmwfKC",
        "outputId": "dd669b39-6178-49f8-a0d8-b056eda95fcd"
      },
      "source": [
        "fig, axes = plt.subplots(1, 2, figsize=(20, 8))\n",
        "\n",
        "axes[0].plot(nn, analytical_v_time_per_n, marker='o')\n",
        "axes[0].plot(nn, automatic_v_time_per_n, marker='o')\n",
        "axes[0].grid()\n",
        "axes[0].set_title('Time for computing derivative wrt $V$ depending on $n$', fontsize=14)\n",
        "axes[0].set_xlabel('n', fontsize=14)\n",
        "axes[0].set_ylabel('time', fontsize=14)\n",
        "axes[0].legend(['analytical', 'automatic JAX'], fontsize=14)\n",
        "\n",
        "axes[1].plot(kk, analytical_v_time_per_k, marker='o')\n",
        "axes[1].plot(kk, automatic_v_time_per_k, marker='o')\n",
        "axes[1].grid()\n",
        "axes[1].set_title('Time for computing derivative wrt $V$ depending on $k$', fontsize=14)\n",
        "axes[1].set_xlabel('k', fontsize=14)\n",
        "axes[1].set_ylabel('time', fontsize=14)\n",
        "axes[1].legend(['analytical', 'automatic JAX'], fontsize=14)\n",
        "\n",
        "plt.show()"
      ],
      "execution_count": 50,
      "outputs": [
        {
          "output_type": "display_data",
          "data": {
            "image/png": "[encoded data removed]",
            "text/plain": [
              "<Figure size 1440x576 with 2 Axes>"
            ]
          },
          "metadata": {
            "needs_background": "light"
          }
        }
      ]
    },
    {
      "cell_type": "markdown",
      "metadata": {
        "id": "im6JgnYp-cIo"
      },
      "source": [
        "Our conclusions about quadratic dependency of computational costs have been proved. However, if we want to take into account the structure of $D$ and use it for efficient multiplication, we need to define new operation."
      ]
    },
    {
      "cell_type": "code",
      "metadata": {
        "id": "u7KNrpqJDrAj"
      },
      "source": [
        "def multiply_by_diagonal_left(d, x):\n",
        "    return jnp.multiply(d[:, None], x)\n",
        "\n",
        "def multiply_by_diagonal_right(x, d):\n",
        "    return jnp.multiply(x, d)"
      ],
      "execution_count": 51,
      "outputs": []
    },
    {
      "cell_type": "code",
      "metadata": {
        "id": "ZfWu2Q3_GFLb"
      },
      "source": [
        "def efficient_analytical_derivative_u(u, d, v, x):\n",
        "    return (u @ multiply_by_diagonal_left(d, v) - x) @ multiply_by_diagonal_left(d, v).T\n",
        "\n",
        "def efficient_analytical_derivative_v(u, d, v, x):\n",
        "    return multiply_by_diagonal_right(u, d).T @ (multiply_by_diagonal_right(u, d) @ v - x)"
      ],
      "execution_count": 52,
      "outputs": []
    },
    {
      "cell_type": "code",
      "metadata": {
        "colab": {
          "base_uri": "https://localhost:8080/"
        },
        "id": "36B8zlg6F-Sq",
        "outputId": "f55f85ae-8851-4d62-8b83-6cfd1e260f6d"
      },
      "source": [
        "n, kk = 1000, list(range(100, 5001, 300))\n",
        "efficient_analytical_v_time_per_k = []\n",
        "efficient_analytical_u_time_per_k = []\n",
        "\n",
        "for k in tqdm(kk):\n",
        "    u, d, v, x = initialize_matrices(n, k, seed)\n",
        "    d = jnp.diag(d)\n",
        "\n",
        "    efficient_analytical_v_time = timeit.timeit(lambda: efficient_analytical_derivative_v(u, d, v, x), number=10) / 10\n",
        "    efficient_analytical_v_time_per_k.append(efficient_analytical_v_time)\n",
        "\n",
        "    efficient_analytical_u_time = timeit.timeit(lambda: efficient_analytical_derivative_u(u, d, v, x), number=10) / 10\n",
        "    efficient_analytical_u_time_per_k.append(efficient_analytical_u_time)"
      ],
      "execution_count": 53,
      "outputs": [
        {
          "output_type": "stream",
          "name": "stderr",
          "text": [
            "100%|██████████| 17/17 [01:09<00:00,  4.10s/it]\n"
          ]
        }
      ]
    },
    {
      "cell_type": "code",
      "metadata": {
        "colab": {
          "base_uri": "https://localhost:8080/",
          "height": 520
        },
        "id": "a0pTjpLXJ0J1",
        "outputId": "e9881959-7f3c-4be0-cd81-2b7d4373cbab"
      },
      "source": [
        "fig, axes = plt.subplots(1, 2, figsize=(20, 8))\n",
        "\n",
        "axes[0].plot(nn, efficient_analytical_u_time_per_k, marker='o')\n",
        "axes[0].plot(nn, analytical_u_time_per_k, marker='o')\n",
        "axes[0].plot(nn, automatic_u_time_per_k, marker='o')\n",
        "axes[0].grid()\n",
        "axes[0].set_title('Time for computing derivative wrt $U$ depending on $k$', fontsize=14)\n",
        "axes[0].set_xlabel('k', fontsize=14)\n",
        "axes[0].set_ylabel('time', fontsize=14)\n",
        "axes[0].legend(['efficient analytical', 'analytical', 'automatic JAX'], fontsize=14)\n",
        "\n",
        "axes[1].plot(nn, efficient_analytical_v_time_per_k, marker='o')\n",
        "axes[1].plot(nn, analytical_v_time_per_k, marker='o')\n",
        "axes[1].plot(nn, automatic_v_time_per_k, marker='o')\n",
        "axes[1].grid()\n",
        "axes[1].set_title('Time for computing derivative wrt $V$ depending on $k$', fontsize=14)\n",
        "axes[1].set_xlabel('k', fontsize=14)\n",
        "axes[1].set_ylabel('time', fontsize=14)\n",
        "axes[1].legend(['efficient analytical', 'analytical', 'automatic JAX'], fontsize=14)\n",
        "\n",
        "plt.show()"
      ],
      "execution_count": 54,
      "outputs": [
        {
          "output_type": "display_data",
          "data": {
            "image/png": "[encoded data removed]",
            "text/plain": [
              "<Figure size 1440x576 with 2 Axes>"
            ]
          },
          "metadata": {
            "needs_background": "light"
          }
        }
      ]
    },
    {
      "cell_type": "markdown",
      "metadata": {
        "id": "k1kXoDHtbePm"
      },
      "source": [
        "Here we can see that\n",
        "\n",
        "$$T_U(n, k) = T_V(n, k) = O(nk) + O(kn^2) + O(n^2) + O(nk) + O(kn^2) \\Longrightarrow T_U(k) = T_V(k) = O(k)$$"
      ]
    },
    {
      "cell_type": "markdown",
      "metadata": {
        "id": "-JeFFRPdQ7Xj"
      },
      "source": [
        "2.2\n",
        "\n",
        "First derivative\n",
        "$$R(x) = \\frac{x^TAx}{x^Tx},\\;\\frac{\\partial}{\\partial x}(x^TAx) = 2Ax,\\;\\frac{\\partial}{\\partial x}(x^Tx) = 2x \\Longrightarrow \n",
        "\\frac{\\partial R}{\\partial x} = \\frac{2(x^Tx) Ax - 2(x^TAx) x}{(x^Tx)^2} = \\frac{2Ax}{x^Tx} - \\frac{2(x^TAx) x}{(x^Tx)^2}$$\n",
        "\n",
        "---\n",
        "\n",
        "Second derivative (Hessian)\n",
        "$$\\frac{\\partial}{\\partial x}(Ax) = A \\Longrightarrow \\frac{\\partial}{\\partial x}\\left(\\frac{2Ax}{x^Tx}\\right) = \n",
        "\\frac{2Ax^Tx - 4Ax{x}^T}{(x^Tx)^2}$$\n",
        "$~$\n",
        "\n",
        "$$\\frac{\\partial}{\\partial x}\\Big((x^TAx)x\\Big) = 2Axx^T + x^TAxI,\\;\\frac{\\partial}{\\partial x}\\Big((x^Tx)^2\\Big) = 4x^Txx \n",
        "\\Longrightarrow \\frac{\\partial}{\\partial x}\\left(\\frac{2(x^TAx) x}{(x^Tx)^2}\\right) =$$\n",
        "\n",
        "$$= \\frac{4(x^Tx)^2Axx^T + 2(x^Tx)^2x^TAxI - 8(x^TAx)(x^Tx)xx^T}{(x^Tx)^4} = \n",
        "\\frac{4Axx^T}{(x^Tx)^2} + \\frac{2x^TAxI}{(x^Tx)^2} - \\frac{8(x^TAx)xx^T}{(x^Tx)^3}$$\n",
        "$~$\n",
        "\n",
        "$$\\frac{\\partial^2 R}{\\partial x \\partial x^T} = \\frac{2Ax^Tx - 4Ax{x}^T}{(x^Tx)^2} - \n",
        "\\frac{4Axx^T}{(x^Tx)^2} - \\frac{2x^TAxI}{(x^Tx)^2} + \\frac{8(x^TAx)xx^T}{(x^Tx)^3} = \n",
        "\\frac{2Ax^Tx - 8Ax{x}^T - 2x^TAxI}{(x^Tx)^2} + \\frac{8(x^TAx)xx^T}{(x^Tx)^3}$$"
      ]
    },
    {
      "cell_type": "markdown",
      "metadata": {
        "id": "jgUfbzI_LaSY"
      },
      "source": [
        "# Problem 3. Compression of the fully-connected layers in neural network with simple architecture (30 pts)\n",
        "\n",
        "In this problem we consider the neural network that performs classification of the dataset of images. \n",
        "Any neural network can be considered as composition of simple linear and non-linear functions.\n",
        "For example, a neural network with 3 layers can be represented as \n",
        "\n",
        "$$f_3(f_2(f_1(x, w_1), w_2), w_3),$$\n",
        "\n",
        "where $x$ is input data (in our case it will be images) and $w_i, \\; i =1,\\dots,3$ are parameters that are going to be trained. \n",
        "\n",
        "We will study the compression potential of neural network with simple architecture: alternating some numbers of linear and non-linear functions. \n",
        "\n",
        "The main task in this problem is to study how the compression of fully-connected layers affects the test accuracy.\n",
        "Any fully-connected layer is represented as linear function $AX + B$, where $X$ is input matrix and $A, B$ are trainable matrices. Matrices $A$ in every layer are going to be compressed.\n",
        "The main result that you should get is the plot of dependence of test accuracy on the total number of parameters in the neural network."
      ]
    },
    {
      "cell_type": "markdown",
      "metadata": {
        "id": "VP_KxdQBLaSZ"
      },
      "source": [
        "#### Zero step: install PyTorch\n",
        "\n",
        "- Follow the steps in [official instructions](https://pytorch.org/get-started/locally/)"
      ]
    },
    {
      "cell_type": "markdown",
      "metadata": {
        "id": "xxuOw6XnLaSZ"
      },
      "source": [
        "#### First step: download CIFAR10 dataset"
      ]
    },
    {
      "cell_type": "code",
      "metadata": {
        "id": "GinV-rOgLaSa"
      },
      "source": [
        "import torch\n",
        "import torchvision\n",
        "import torchvision.transforms as transforms\n",
        "from torchvision import datasets, transforms\n",
        "import torch.nn as nn\n",
        "import torch.optim as optim\n",
        "import torch.nn.functional as F\n",
        "import matplotlib.pyplot as plt\n",
        "%matplotlib inline\n",
        "import numpy as np\n",
        "import timeit\n",
        "\n",
        "from tqdm import tqdm\n",
        "\n",
        "batch_size = 100\n",
        "\n",
        "transform = transforms.Compose(\n",
        "    [transforms.ToTensor(),\n",
        "     transforms.Normalize((0.5, 0.5, 0.5), (0.5, 0.5, 0.5))])\n",
        "\n",
        "train_loader = torch.utils.data.DataLoader(datasets.CIFAR10('./', train=True, download=True, transform=transform), \n",
        "                                           batch_size=batch_size, shuffle=True)\n",
        "\n",
        "test_loader = torch.utils.data.DataLoader(datasets.CIFAR10('./', train=False, transform=transform), \n",
        "                                          batch_size=batch_size, shuffle=True)\n",
        "\n",
        "classes = ('plane', 'car', 'bird', 'cat',\n",
        "           'deer', 'dog', 'frog', 'horse', 'ship', 'truck')"
      ],
      "execution_count": null,
      "outputs": []
    },
    {
      "cell_type": "markdown",
      "metadata": {
        "id": "se9eziJyLaSb"
      },
      "source": [
        "#### Check what images are we going to classify"
      ]
    },
    {
      "cell_type": "code",
      "metadata": {
        "id": "1cTkIMocLaSb"
      },
      "source": [
        "def imshow(img):\n",
        "    img = img / 2 + 0.5     # unnormalize\n",
        "    np_img = img.numpy()\n",
        "    plt.figure(figsize=(20, 10))\n",
        "    plt.imshow(np.transpose(np_img, (1, 2, 0)))\n",
        "    plt.show()\n",
        "\n",
        "# get some random training images\n",
        "data_iter = iter(train_loader)\n",
        "images, labels = data_iter.next()\n",
        "\n",
        "# show images\n",
        "imshow(torchvision.utils.make_grid(images))\n",
        "\n",
        "# print labels\n",
        "print(list(classes[labels[j]] for j in range(8)))"
      ],
      "execution_count": null,
      "outputs": []
    },
    {
      "cell_type": "markdown",
      "metadata": {
        "id": "PWec9UmILaSb"
      },
      "source": [
        "### Second step: neural network architecture\n",
        "\n",
        "For simplicity and demonstration purposes of the neural network compression idea consider the architecture consisting of the only fully-connected layers and non-linear ReLU functions between them.\n",
        "To demonstrate compression effect, consider the dimension of the inner layers equals to 1000.\n",
        "\n",
        "Below you see implementation of such neural network in PyTorch.\n",
        "More details about neural networks you will study in the *Deep learning* course in one of the upcoming term"
      ]
    },
    {
      "cell_type": "code",
      "metadata": {
        "id": "lZuO5UuuLaSc"
      },
      "source": [
        "class ResidualBlock(nn.Module):\n",
        "    def __init__(self, in_features, middle_features, activation=nn.ReLU()):\n",
        "        super().__init__()\n",
        "        self.layer1 = nn.Linear(in_features, middle_features)\n",
        "        self.layer2 = nn.Linear(middle_features, in_features)\n",
        "        self.activation = activation\n",
        "        \n",
        "    def forward(self, x):\n",
        "        out = self.layer1(x)\n",
        "        out = self.activation(out)\n",
        "        out = self.layer2(out)\n",
        "        out = out + x\n",
        "        out = self.activation(out)\n",
        "        return out\n",
        "\n",
        "class Net(nn.Module):\n",
        "    def __init__(self):\n",
        "        super(Net, self).__init__()\n",
        "        self.fc1 = nn.Linear(3 * 32 * 32, 1000)\n",
        "        self.res1 = ResidualBlock(1000,1000)\n",
        "        self.res2 = ResidualBlock(1000,1000)\n",
        "        self.fc2 = nn.Linear(1000, 10)\n",
        "        self.ReLU = nn.ReLU()\n",
        "\n",
        "    def forward(self, x):\n",
        "        x = self.fc1(x.view(-1, 3 * 32 * 32))\n",
        "        x = self.ReLU(x)\n",
        "        x = self.res1(x)\n",
        "        x = self.res2(x)\n",
        "        x = self.fc2(x)\n",
        "        return F.log_softmax(x, dim=1)"
      ],
      "execution_count": null,
      "outputs": []
    },
    {
      "cell_type": "markdown",
      "metadata": {
        "id": "xAafvSKcLaSc"
      },
      "source": [
        "#### Implement functions for training and testing after every sweep over all dataset entries"
      ]
    },
    {
      "cell_type": "code",
      "metadata": {
        "id": "vNjQ7zkSLaSc"
      },
      "source": [
        "def train(model, train_loader, optimizer, epoch, verbose=True):\n",
        "    device = \"cuda\" if torch.cuda.is_available() else \"cpu\"\n",
        "    model.train()\n",
        "    model.to(device)\n",
        "    \n",
        "    for batch_idx, (data, target) in enumerate(train_loader):\n",
        "        data, target = data.to(device), target.to(device)\n",
        "        optimizer.zero_grad()\n",
        "\n",
        "        output = model(data)\n",
        "        loss = F.nll_loss(output, target)\n",
        "        \n",
        "        loss.backward()\n",
        "        optimizer.step()\n",
        "        \n",
        "        if batch_idx % log_interval == 0 and verbose:\n",
        "            print(f'Train Epoch: {epoch} [{batch_idx * len(data)}/{len(train_loader.dataset)} \\\n",
        "            ({100. * batch_idx / len(train_loader):.0f}%)]\\tLoss: {loss.item():.6f}')"
      ],
      "execution_count": null,
      "outputs": []
    },
    {
      "cell_type": "code",
      "metadata": {
        "id": "JBY78miFLaSd"
      },
      "source": [
        "def test(model, test_loader, verbose=True):\n",
        "    device = \"cuda\" if torch.cuda.is_available() else \"cpu\"\n",
        "    model.eval()\n",
        "\n",
        "    test_loss = 0\n",
        "    correct = 0\n",
        "\n",
        "    with torch.no_grad():\n",
        "        for data, target in test_loader:\n",
        "            data, target = data.to(device), target.to(device)\n",
        "            output = model(data)\n",
        "            test_loss += F.nll_loss(output, target, reduction='sum').item() # sum up batch loss\n",
        "            pred = output.argmax(dim=1, keepdim=True) # get the index of the max log-probability\n",
        "            correct += pred.eq(target.view_as(pred)).sum().item()\n",
        "    test_loss /= len(test_loader.dataset)\n",
        "    test_accuracy = 100. * correct / len(test_loader.dataset)\n",
        "\n",
        "    if verbose:\n",
        "        print(f'\\nTest set: Average loss: {test_loss:.4f}, \\\n",
        "        Accuracy: {correct}/{len(test_loader.dataset)} ({test_accuracy:.0f}%)\\n')\n",
        "    \n",
        "    return test_accuracy"
      ],
      "execution_count": null,
      "outputs": []
    },
    {
      "cell_type": "markdown",
      "metadata": {
        "id": "HdUq15nWLaSd"
      },
      "source": [
        "### Set parameters for training and print intermediate loss values"
      ]
    },
    {
      "cell_type": "code",
      "metadata": {
        "id": "Gj7gdHI_LaSd"
      },
      "source": [
        "log_interval = 50\n",
        "epochs = 7"
      ],
      "execution_count": null,
      "outputs": []
    },
    {
      "cell_type": "markdown",
      "metadata": {
        "id": "R0iX6XlXLaSd"
      },
      "source": [
        "### Third step: run training with the [Adam](https://arxiv.org/pdf/1412.6980.pdf%20%22%20entire%20document) optimization method\n",
        "\n",
        "If your laptop is not very fast, you will wait some time till training is finished. "
      ]
    },
    {
      "cell_type": "code",
      "metadata": {
        "colab": {
          "base_uri": "https://localhost:8080/"
        },
        "id": "2CLGm2X571cX",
        "outputId": "c3d7a654-b5d7-488d-cb30-9d835fe06c69"
      },
      "source": [
        "model = Net()\n",
        "optimizer = optim.Adam(model.parameters(), lr=1e-3)\n",
        "\n",
        "for epoch in range(1, epochs + 1):\n",
        "    train(model,  train_loader, optimizer, epoch)\n",
        "    test(model, test_loader)"
      ],
      "execution_count": 23,
      "outputs": [
        {
          "output_type": "stream",
          "name": "stdout",
          "text": [
            "Train Epoch: 1 [0/50000             (0%)]\tLoss: 2.302641\n",
            "Train Epoch: 1 [5000/50000             (10%)]\tLoss: 1.936564\n",
            "Train Epoch: 1 [10000/50000             (20%)]\tLoss: 1.708840\n",
            "Train Epoch: 1 [15000/50000             (30%)]\tLoss: 1.712613\n",
            "Train Epoch: 1 [20000/50000             (40%)]\tLoss: 1.789605\n",
            "Train Epoch: 1 [25000/50000             (50%)]\tLoss: 1.726674\n",
            "Train Epoch: 1 [30000/50000             (60%)]\tLoss: 1.597303\n",
            "Train Epoch: 1 [35000/50000             (70%)]\tLoss: 1.561105\n",
            "Train Epoch: 1 [40000/50000             (80%)]\tLoss: 1.466923\n",
            "Train Epoch: 1 [45000/50000             (90%)]\tLoss: 1.401659\n",
            "\n",
            "Test set: Average loss: 1.4528,         Accuracy: 4829/10000 (48%)\n",
            "\n",
            "Train Epoch: 2 [0/50000             (0%)]\tLoss: 1.319965\n",
            "Train Epoch: 2 [5000/50000             (10%)]\tLoss: 1.470474\n",
            "Train Epoch: 2 [10000/50000             (20%)]\tLoss: 1.362560\n",
            "Train Epoch: 2 [15000/50000             (30%)]\tLoss: 1.420892\n",
            "Train Epoch: 2 [20000/50000             (40%)]\tLoss: 1.528058\n",
            "Train Epoch: 2 [25000/50000             (50%)]\tLoss: 1.647402\n",
            "Train Epoch: 2 [30000/50000             (60%)]\tLoss: 1.362726\n",
            "Train Epoch: 2 [35000/50000             (70%)]\tLoss: 1.148456\n",
            "Train Epoch: 2 [40000/50000             (80%)]\tLoss: 1.349846\n",
            "Train Epoch: 2 [45000/50000             (90%)]\tLoss: 1.427248\n",
            "\n",
            "Test set: Average loss: 1.4112,         Accuracy: 5009/10000 (50%)\n",
            "\n",
            "Train Epoch: 3 [0/50000             (0%)]\tLoss: 1.214397\n",
            "Train Epoch: 3 [5000/50000             (10%)]\tLoss: 1.265281\n",
            "Train Epoch: 3 [10000/50000             (20%)]\tLoss: 1.268816\n",
            "Train Epoch: 3 [15000/50000             (30%)]\tLoss: 1.301789\n",
            "Train Epoch: 3 [20000/50000             (40%)]\tLoss: 1.117509\n",
            "Train Epoch: 3 [25000/50000             (50%)]\tLoss: 1.268982\n",
            "Train Epoch: 3 [30000/50000             (60%)]\tLoss: 1.209514\n",
            "Train Epoch: 3 [35000/50000             (70%)]\tLoss: 1.169899\n",
            "Train Epoch: 3 [40000/50000             (80%)]\tLoss: 1.231211\n",
            "Train Epoch: 3 [45000/50000             (90%)]\tLoss: 1.385282\n",
            "\n",
            "Test set: Average loss: 1.3888,         Accuracy: 5175/10000 (52%)\n",
            "\n",
            "Train Epoch: 4 [0/50000             (0%)]\tLoss: 1.212971\n",
            "Train Epoch: 4 [5000/50000             (10%)]\tLoss: 1.218453\n",
            "Train Epoch: 4 [10000/50000             (20%)]\tLoss: 1.242568\n",
            "Train Epoch: 4 [15000/50000             (30%)]\tLoss: 1.280686\n",
            "Train Epoch: 4 [20000/50000             (40%)]\tLoss: 1.295276\n",
            "Train Epoch: 4 [25000/50000             (50%)]\tLoss: 1.179219\n",
            "Train Epoch: 4 [30000/50000             (60%)]\tLoss: 1.204389\n",
            "Train Epoch: 4 [35000/50000             (70%)]\tLoss: 1.282373\n",
            "Train Epoch: 4 [40000/50000             (80%)]\tLoss: 1.190125\n",
            "Train Epoch: 4 [45000/50000             (90%)]\tLoss: 1.127004\n",
            "\n",
            "Test set: Average loss: 1.3864,         Accuracy: 5240/10000 (52%)\n",
            "\n",
            "Train Epoch: 5 [0/50000             (0%)]\tLoss: 0.893093\n",
            "Train Epoch: 5 [5000/50000             (10%)]\tLoss: 0.836686\n",
            "Train Epoch: 5 [10000/50000             (20%)]\tLoss: 1.053648\n",
            "Train Epoch: 5 [15000/50000             (30%)]\tLoss: 1.073388\n",
            "Train Epoch: 5 [20000/50000             (40%)]\tLoss: 1.031487\n",
            "Train Epoch: 5 [25000/50000             (50%)]\tLoss: 1.000332\n",
            "Train Epoch: 5 [30000/50000             (60%)]\tLoss: 1.103083\n",
            "Train Epoch: 5 [35000/50000             (70%)]\tLoss: 1.179969\n",
            "Train Epoch: 5 [40000/50000             (80%)]\tLoss: 1.070566\n",
            "Train Epoch: 5 [45000/50000             (90%)]\tLoss: 1.146522\n",
            "\n",
            "Test set: Average loss: 1.3849,         Accuracy: 5359/10000 (54%)\n",
            "\n",
            "Train Epoch: 6 [0/50000             (0%)]\tLoss: 0.947092\n",
            "Train Epoch: 6 [5000/50000             (10%)]\tLoss: 0.836440\n",
            "Train Epoch: 6 [10000/50000             (20%)]\tLoss: 0.965842\n",
            "Train Epoch: 6 [15000/50000             (30%)]\tLoss: 1.022450\n",
            "Train Epoch: 6 [20000/50000             (40%)]\tLoss: 1.012242\n",
            "Train Epoch: 6 [25000/50000             (50%)]\tLoss: 0.819565\n",
            "Train Epoch: 6 [30000/50000             (60%)]\tLoss: 1.015107\n",
            "Train Epoch: 6 [35000/50000             (70%)]\tLoss: 0.893753\n",
            "Train Epoch: 6 [40000/50000             (80%)]\tLoss: 1.050935\n",
            "Train Epoch: 6 [45000/50000             (90%)]\tLoss: 0.828861\n",
            "\n",
            "Test set: Average loss: 1.4172,         Accuracy: 5417/10000 (54%)\n",
            "\n",
            "Train Epoch: 7 [0/50000             (0%)]\tLoss: 0.874586\n",
            "Train Epoch: 7 [5000/50000             (10%)]\tLoss: 0.836801\n",
            "Train Epoch: 7 [10000/50000             (20%)]\tLoss: 0.718905\n",
            "Train Epoch: 7 [15000/50000             (30%)]\tLoss: 0.713200\n",
            "Train Epoch: 7 [20000/50000             (40%)]\tLoss: 0.663986\n",
            "Train Epoch: 7 [25000/50000             (50%)]\tLoss: 0.717503\n",
            "Train Epoch: 7 [30000/50000             (60%)]\tLoss: 0.762702\n",
            "Train Epoch: 7 [35000/50000             (70%)]\tLoss: 0.620644\n",
            "Train Epoch: 7 [40000/50000             (80%)]\tLoss: 0.772601\n",
            "Train Epoch: 7 [45000/50000             (90%)]\tLoss: 0.843059\n",
            "\n",
            "Test set: Average loss: 1.4829,         Accuracy: 5399/10000 (54%)\n",
            "\n"
          ]
        }
      ]
    },
    {
      "cell_type": "markdown",
      "metadata": {
        "id": "LkeSBRmiLaSe"
      },
      "source": [
        "Now we have somehow trained neural network and we are ready to perform compression of the weigths in the fully-connected layers."
      ]
    },
    {
      "cell_type": "markdown",
      "metadata": {
        "id": "AvIzbJ_wLaSe"
      },
      "source": [
        "- (3 pts) Compute SVD of the matrix $1000 \\times 1000$, which corresponds to a weight matrix $A$ in each layer of residual blocks. To find more information about accessing this matrix please refer to [PyTorch manual](https://pytorch.org/docs/stable/index.html).\n",
        "Plot decaying of the singular values like it was shown in the lecture. What conclusion can you make?\n",
        "- (17 pts) Create a new model, which is an analogue to the class ```Net```, but with some significant distinctions. \n",
        "It takes as input parameters the instance of the class ```Net``` and compression rank $r > 0$. \n",
        "After that, this model has to compress all matrices $A$ in fully-connected layers with SVD using first $r$ singular vectors and singular values.\n",
        "Pay attention to efficient storing of compress representation of the layers.\n",
        "Also ```forward``` method of your new residual block has to be implemented in a way to use compressed representation of the fully-connected layers (inside it) in the most efficient way. In all other aspects it has to reproduce ```forward``` method in the original non-compressed model (number of layers, activations, loss function etc).\n",
        "- (5 pts) Plot dependence of test accuracy on the number of parameters in the compressed model. This number of parameters obviously depends on the compression rank $r$.\n",
        "Also plot dependence of time to compute inference on the compression rank $r$.\n",
        "Explain obtained results.\n",
        "To measure time, use [%timeit](https://docs.python.org/3.6/library/timeit.html) with necessary parameters (examples of using this command see in lectures) \n",
        "\n",
        "- (5 pts) After such transformations, your model depends on the factors obtained from SVD. Therefore, these factors are also can be trained with the same gradient method during some number of epochs. This procedure is called **fine-tuning**. We ask you make this fine-tuning of your compressed model during from 1 to 5 epochs and compare the result test accuracy with the test accuracy that you get after compression. Explain the observed results.\n",
        "\n",
        "    **Hint 1**. Please, check that during fine-tuning, factors are updated. If they are not updated according to some reason, please check that their parameter ```requires_grad``` is setted to ```True```.\n",
        "    \n",
        "    **Hint 2**. You can use class ```torch.nn.Parameter``` to convert factors to parameters of the network"
      ]
    },
    {
      "cell_type": "code",
      "metadata": {
        "colab": {
          "base_uri": "https://localhost:8080/"
        },
        "id": "ZTD6YQV5-Tan",
        "outputId": "972778af-8162-4ee6-e4e9-ce79893bbf45"
      },
      "source": [
        "model"
      ],
      "execution_count": 24,
      "outputs": [
        {
          "output_type": "execute_result",
          "data": {
            "text/plain": [
              "Net(\n",
              "  (fc1): Linear(in_features=3072, out_features=1000, bias=True)\n",
              "  (res1): ResidualBlock(\n",
              "    (layer1): Linear(in_features=1000, out_features=1000, bias=True)\n",
              "    (layer2): Linear(in_features=1000, out_features=1000, bias=True)\n",
              "    (activation): ReLU()\n",
              "  )\n",
              "  (res2): ResidualBlock(\n",
              "    (layer1): Linear(in_features=1000, out_features=1000, bias=True)\n",
              "    (layer2): Linear(in_features=1000, out_features=1000, bias=True)\n",
              "    (activation): ReLU()\n",
              "  )\n",
              "  (fc2): Linear(in_features=1000, out_features=10, bias=True)\n",
              "  (ReLU): ReLU()\n",
              ")"
            ]
          },
          "metadata": {},
          "execution_count": 24
        }
      ]
    },
    {
      "cell_type": "code",
      "metadata": {
        "id": "Q0pTfQUIAC0b"
      },
      "source": [
        "matrices = []\n",
        "\n",
        "for parameter in model.parameters():\n",
        "    if parameter.detach().size() == (1000, 1000):\n",
        "        matrices.append(parameter.detach().cpu())"
      ],
      "execution_count": 25,
      "outputs": []
    },
    {
      "cell_type": "code",
      "metadata": {
        "id": "jSDUIsfK-WCW"
      },
      "source": [
        "singular_values = list(torch.linalg.svdvals(matrix) for matrix in matrices)"
      ],
      "execution_count": 26,
      "outputs": []
    },
    {
      "cell_type": "code",
      "metadata": {
        "id": "afCL0Vj6LaSe",
        "colab": {
          "base_uri": "https://localhost:8080/",
          "height": 934
        },
        "outputId": "8ab029b3-0036-43a1-dfc0-a5a701ef33e8"
      },
      "source": [
        "fig, axes = plt.subplots(2, 2, figsize=(16, 16))\n",
        "\n",
        "for i in range(2):\n",
        "    for j in range(2):\n",
        "        axes[i, j].plot(singular_values[2 * i + j])\n",
        "        axes[i, j].grid()\n",
        "        axes[i, j].set_title(f'Singular values of matrix {2 * i + j}', fontsize=14)\n",
        "        axes[i, j].set_ylim(-1, 18)\n",
        "\n",
        "plt.show()"
      ],
      "execution_count": 27,
      "outputs": [
        {
          "output_type": "display_data",
          "data": {
            "image/png": "[encoded data removed]",
            "text/plain": [
              "<Figure size 1152x1152 with 4 Axes>"
            ]
          },
          "metadata": {
            "needs_background": "light"
          }
        }
      ]
    },
    {
      "cell_type": "markdown",
      "metadata": {
        "id": "h59XPMyQFEsA"
      },
      "source": [
        "Since there are many quite small singular values, one can try to perform SVD and low-rank approximation of these matrices, hoping to save the most of information"
      ]
    },
    {
      "cell_type": "code",
      "metadata": {
        "id": "kykMMKljExHs"
      },
      "source": [
        "class ApproxLinear(nn.Module):\n",
        "    def __init__(self, layer, rank):\n",
        "        super(ApproxLinear, self).__init__()\n",
        "        self.rank = rank\n",
        "\n",
        "        vs_t, u_t = self.compute_reduced_svd(layer.weight.detach().clone())\n",
        "        self.vs_t = torch.nn.Parameter(vs_t)\n",
        "        self.u_t = torch.nn.Parameter(u_t)\n",
        "        \n",
        "        bias = layer.bias.detach().clone()\n",
        "        self.bias = torch.nn.Parameter(bias)\n",
        "\n",
        "    def compute_reduced_svd(self, matrix):\n",
        "        u, s, v_t = torch.linalg.svd(matrix, full_matrices=False)\n",
        "\n",
        "        # prepare u and v for proper forward\n",
        "        u_r_t = torch.transpose(u[:, :self.rank], 0, 1)\n",
        "        v_r = torch.transpose(v_t[:self.rank, :], 0, 1)\n",
        "\n",
        "        # create s from diagonal values\n",
        "        s_r_t = torch.diag(s[:self.rank])\n",
        "\n",
        "        # precompute v_r @ s_r_t — particularly useful for small rank approximation because\n",
        "        # batch x in_features x out_features > batch x in_features x rank + batch x rank x out_features\n",
        "        return v_r @ s_r_t, u_r_t\n",
        "\n",
        "    def forward(self, x):\n",
        "        return x @ self.vs_t @ self.u_t + self.bias\n",
        "\n",
        "\n",
        "class ApproxResidualBlock(nn.Module):\n",
        "    def __init__(self, res_block, rank):\n",
        "        super(ApproxResidualBlock, self).__init__()\n",
        "        self.layer1 = ApproxLinear(res_block.layer1, rank)\n",
        "        self.layer2 = ApproxLinear(res_block.layer2, rank)\n",
        "        self.activation = res_block.activation\n",
        "        \n",
        "    def forward(self, x):\n",
        "        out = self.layer1(x)\n",
        "        out = self.activation(out)\n",
        "        out = self.layer2(out)\n",
        "        out = out + x\n",
        "        out = self.activation(out)\n",
        "\n",
        "        return out\n",
        "\n",
        "\n",
        "class ApproxNet(nn.Module):\n",
        "    def __init__(self, net, rank):\n",
        "        super(ApproxNet, self).__init__()\n",
        "        self.fc1 = ApproxLinear(net.fc1, rank)\n",
        "        self.res1 = ApproxResidualBlock(net.res1, rank)\n",
        "        self.res2 = ApproxResidualBlock(net.res2, rank)\n",
        "        self.fc2 = ApproxLinear(net.fc2, rank)\n",
        "        self.ReLU = net.ReLU\n",
        "\n",
        "    def forward(self, x):\n",
        "        x = self.fc1(x.view(-1, 3 * 32 * 32))\n",
        "        x = self.ReLU(x)\n",
        "        x = self.res1(x)\n",
        "        x = self.res2(x)\n",
        "        x = self.fc2(x)\n",
        "\n",
        "        return F.log_softmax(x, dim=1)"
      ],
      "execution_count": 28,
      "outputs": []
    },
    {
      "cell_type": "code",
      "metadata": {
        "id": "qP-ctyON_ZLM"
      },
      "source": [
        "def evaluate(model, test_loader):\n",
        "    data, target = next(iter(test_loader))\n",
        "    data = data.to(next(model.parameters()).device)\n",
        "\n",
        "    inference_time = timeit.timeit(lambda: model(data), number=100) / 100\n",
        "    test_accuracy = test(model, test_loader)\n",
        "\n",
        "    return test_accuracy, inference_time"
      ],
      "execution_count": 29,
      "outputs": []
    },
    {
      "cell_type": "code",
      "metadata": {
        "colab": {
          "base_uri": "https://localhost:8080/"
        },
        "id": "zIdKPpard-Ok",
        "outputId": "705a4584-ec54-4a29-cc7c-736cbfa00c7b"
      },
      "source": [
        "runs, epochs = 3, 7\n",
        "ranks = np.logspace(0, 3, num=10, dtype=np.int64)\n",
        "\n",
        "precise_test_accuracy_per_run = []\n",
        "precise_inference_time_per_run = []\n",
        "\n",
        "approx_test_accuracy_per_run = []\n",
        "approx_inference_time_per_run = []\n",
        "\n",
        "for run in tqdm(range(1, runs + 1)):\n",
        "    print(f'\\n---------------------- begin run {run} ----------------------\\n')\n",
        "    # create and train precise model\n",
        "    model = Net()\n",
        "    optimizer = optim.Adam(model.parameters(), lr=1e-3)\n",
        "    \n",
        "    for epoch in range(1, epochs + 1):\n",
        "        train(model, train_loader, optimizer, epoch)\n",
        "    \n",
        "    # evaluate test accuracy and average inference time for precise model\n",
        "    test_accuracy, inference_time = evaluate(model, test_loader)\n",
        "    precise_test_accuracy_per_run.append(test_accuracy)\n",
        "    precise_inference_time_per_run.append(inference_time)\n",
        "\n",
        "    # prepare per rank test accuracy and average inference time history for approximate model\n",
        "    test_accuracy_per_rank = []\n",
        "    inference_time_per_rank = []\n",
        "\n",
        "    for rank in ranks:\n",
        "        # for given rank, evaluate test accuracy and average inference time for approximate model\n",
        "        approx_model = ApproxNet(model, rank)\n",
        "\n",
        "        test_accuracy, inference_time = evaluate(approx_model, test_loader)\n",
        "        test_accuracy_per_rank.append(test_accuracy)\n",
        "        inference_time_per_rank.append(inference_time)\n",
        "\n",
        "    # save per rank test accuracy and average inference time history for approximate model\n",
        "    approx_test_accuracy_per_run.append(test_accuracy_per_rank)\n",
        "    approx_inference_time_per_run.append(inference_time_per_rank)"
      ],
      "execution_count": 30,
      "outputs": [
        {
          "metadata": {
            "tags": null
          },
          "name": "stderr",
          "output_type": "stream",
          "text": [
            "\r  0%|          | 0/3 [00:00<?, ?it/s]"
          ]
        },
        {
          "output_type": "stream",
          "name": "stdout",
          "text": [
            "\n",
            "---------------------- begin run 1 ----------------------\n",
            "\n",
            "Train Epoch: 1 [0/50000             (0%)]\tLoss: 2.291120\n",
            "Train Epoch: 1 [5000/50000             (10%)]\tLoss: 1.621653\n",
            "Train Epoch: 1 [10000/50000             (20%)]\tLoss: 1.484483\n",
            "Train Epoch: 1 [15000/50000             (30%)]\tLoss: 1.481642\n",
            "Train Epoch: 1 [20000/50000             (40%)]\tLoss: 1.500507\n",
            "Train Epoch: 1 [25000/50000             (50%)]\tLoss: 1.530860\n",
            "Train Epoch: 1 [30000/50000             (60%)]\tLoss: 1.530267\n",
            "Train Epoch: 1 [35000/50000             (70%)]\tLoss: 1.565355\n",
            "Train Epoch: 1 [40000/50000             (80%)]\tLoss: 1.669074\n",
            "Train Epoch: 1 [45000/50000             (90%)]\tLoss: 1.389830\n",
            "Train Epoch: 2 [0/50000             (0%)]\tLoss: 1.425453\n",
            "Train Epoch: 2 [5000/50000             (10%)]\tLoss: 1.391797\n",
            "Train Epoch: 2 [10000/50000             (20%)]\tLoss: 1.408455\n",
            "Train Epoch: 2 [15000/50000             (30%)]\tLoss: 1.364398\n",
            "Train Epoch: 2 [20000/50000             (40%)]\tLoss: 1.438053\n",
            "Train Epoch: 2 [25000/50000             (50%)]\tLoss: 1.395059\n",
            "Train Epoch: 2 [30000/50000             (60%)]\tLoss: 1.238542\n",
            "Train Epoch: 2 [35000/50000             (70%)]\tLoss: 1.561442\n",
            "Train Epoch: 2 [40000/50000             (80%)]\tLoss: 1.538473\n",
            "Train Epoch: 2 [45000/50000             (90%)]\tLoss: 1.305297\n",
            "Train Epoch: 3 [0/50000             (0%)]\tLoss: 1.340623\n",
            "Train Epoch: 3 [5000/50000             (10%)]\tLoss: 1.382380\n",
            "Train Epoch: 3 [10000/50000             (20%)]\tLoss: 1.252842\n",
            "Train Epoch: 3 [15000/50000             (30%)]\tLoss: 1.209554\n",
            "Train Epoch: 3 [20000/50000             (40%)]\tLoss: 1.370295\n",
            "Train Epoch: 3 [25000/50000             (50%)]\tLoss: 1.274979\n",
            "Train Epoch: 3 [30000/50000             (60%)]\tLoss: 1.272213\n",
            "Train Epoch: 3 [35000/50000             (70%)]\tLoss: 1.219990\n",
            "Train Epoch: 3 [40000/50000             (80%)]\tLoss: 1.126582\n",
            "Train Epoch: 3 [45000/50000             (90%)]\tLoss: 1.276545\n",
            "Train Epoch: 4 [0/50000             (0%)]\tLoss: 0.951822\n",
            "Train Epoch: 4 [5000/50000             (10%)]\tLoss: 1.265286\n",
            "Train Epoch: 4 [10000/50000             (20%)]\tLoss: 1.377045\n",
            "Train Epoch: 4 [15000/50000             (30%)]\tLoss: 1.365028\n",
            "Train Epoch: 4 [20000/50000             (40%)]\tLoss: 1.040236\n",
            "Train Epoch: 4 [25000/50000             (50%)]\tLoss: 1.125651\n",
            "Train Epoch: 4 [30000/50000             (60%)]\tLoss: 1.240048\n",
            "Train Epoch: 4 [35000/50000             (70%)]\tLoss: 1.112310\n",
            "Train Epoch: 4 [40000/50000             (80%)]\tLoss: 1.286562\n",
            "Train Epoch: 4 [45000/50000             (90%)]\tLoss: 1.132826\n",
            "Train Epoch: 5 [0/50000             (0%)]\tLoss: 0.908785\n",
            "Train Epoch: 5 [5000/50000             (10%)]\tLoss: 0.977882\n",
            "Train Epoch: 5 [10000/50000             (20%)]\tLoss: 1.117786\n",
            "Train Epoch: 5 [15000/50000             (30%)]\tLoss: 0.934555\n",
            "Train Epoch: 5 [20000/50000             (40%)]\tLoss: 0.997745\n",
            "Train Epoch: 5 [25000/50000             (50%)]\tLoss: 1.159191\n",
            "Train Epoch: 5 [30000/50000             (60%)]\tLoss: 1.015007\n",
            "Train Epoch: 5 [35000/50000             (70%)]\tLoss: 1.124125\n",
            "Train Epoch: 5 [40000/50000             (80%)]\tLoss: 1.119634\n",
            "Train Epoch: 5 [45000/50000             (90%)]\tLoss: 1.002634\n",
            "Train Epoch: 6 [0/50000             (0%)]\tLoss: 0.854267\n",
            "Train Epoch: 6 [5000/50000             (10%)]\tLoss: 1.000176\n",
            "Train Epoch: 6 [10000/50000             (20%)]\tLoss: 0.774759\n",
            "Train Epoch: 6 [15000/50000             (30%)]\tLoss: 0.855743\n",
            "Train Epoch: 6 [20000/50000             (40%)]\tLoss: 0.928560\n",
            "Train Epoch: 6 [25000/50000             (50%)]\tLoss: 0.778118\n",
            "Train Epoch: 6 [30000/50000             (60%)]\tLoss: 0.865239\n",
            "Train Epoch: 6 [35000/50000             (70%)]\tLoss: 0.974123\n",
            "Train Epoch: 6 [40000/50000             (80%)]\tLoss: 1.004851\n",
            "Train Epoch: 6 [45000/50000             (90%)]\tLoss: 0.875712\n",
            "Train Epoch: 7 [0/50000             (0%)]\tLoss: 0.723527\n",
            "Train Epoch: 7 [5000/50000             (10%)]\tLoss: 0.862913\n",
            "Train Epoch: 7 [10000/50000             (20%)]\tLoss: 0.787758\n",
            "Train Epoch: 7 [15000/50000             (30%)]\tLoss: 1.046141\n",
            "Train Epoch: 7 [20000/50000             (40%)]\tLoss: 0.777660\n",
            "Train Epoch: 7 [25000/50000             (50%)]\tLoss: 0.958053\n",
            "Train Epoch: 7 [30000/50000             (60%)]\tLoss: 0.627927\n",
            "Train Epoch: 7 [35000/50000             (70%)]\tLoss: 0.859330\n",
            "Train Epoch: 7 [40000/50000             (80%)]\tLoss: 0.997376\n",
            "Train Epoch: 7 [45000/50000             (90%)]\tLoss: 0.867250\n",
            "\n",
            "Test set: Average loss: 1.5369,         Accuracy: 5369/10000 (54%)\n",
            "\n",
            "\n",
            "Test set: Average loss: 3.0462,         Accuracy: 1087/10000 (11%)\n",
            "\n",
            "\n",
            "Test set: Average loss: 3.1961,         Accuracy: 1236/10000 (12%)\n",
            "\n",
            "\n",
            "Test set: Average loss: 2.6880,         Accuracy: 1687/10000 (17%)\n",
            "\n",
            "\n",
            "Test set: Average loss: 2.5906,         Accuracy: 2995/10000 (30%)\n",
            "\n",
            "\n",
            "Test set: Average loss: 2.2809,         Accuracy: 4069/10000 (41%)\n",
            "\n",
            "\n",
            "Test set: Average loss: 1.7657,         Accuracy: 5065/10000 (51%)\n",
            "\n",
            "\n",
            "Test set: Average loss: 1.5498,         Accuracy: 5316/10000 (53%)\n",
            "\n",
            "\n",
            "Test set: Average loss: 1.5390,         Accuracy: 5359/10000 (54%)\n",
            "\n",
            "\n",
            "Test set: Average loss: 1.5376,         Accuracy: 5383/10000 (54%)\n",
            "\n"
          ]
        },
        {
          "output_type": "stream",
          "name": "stderr",
          "text": [
            "\r 33%|███▎      | 1/3 [13:44<27:28, 824.20s/it]"
          ]
        },
        {
          "output_type": "stream",
          "name": "stdout",
          "text": [
            "\n",
            "Test set: Average loss: 1.5369,         Accuracy: 5369/10000 (54%)\n",
            "\n",
            "\n",
            "---------------------- begin run 2 ----------------------\n",
            "\n",
            "Train Epoch: 1 [0/50000             (0%)]\tLoss: 2.303274\n",
            "Train Epoch: 1 [5000/50000             (10%)]\tLoss: 1.770497\n",
            "Train Epoch: 1 [10000/50000             (20%)]\tLoss: 1.786672\n",
            "Train Epoch: 1 [15000/50000             (30%)]\tLoss: 1.714471\n",
            "Train Epoch: 1 [20000/50000             (40%)]\tLoss: 1.531205\n",
            "Train Epoch: 1 [25000/50000             (50%)]\tLoss: 1.679052\n",
            "Train Epoch: 1 [30000/50000             (60%)]\tLoss: 1.813679\n",
            "Train Epoch: 1 [35000/50000             (70%)]\tLoss: 1.513135\n",
            "Train Epoch: 1 [40000/50000             (80%)]\tLoss: 1.631722\n",
            "Train Epoch: 1 [45000/50000             (90%)]\tLoss: 1.502882\n",
            "Train Epoch: 2 [0/50000             (0%)]\tLoss: 1.435263\n",
            "Train Epoch: 2 [5000/50000             (10%)]\tLoss: 1.250079\n",
            "Train Epoch: 2 [10000/50000             (20%)]\tLoss: 1.359847\n",
            "Train Epoch: 2 [15000/50000             (30%)]\tLoss: 1.478833\n",
            "Train Epoch: 2 [20000/50000             (40%)]\tLoss: 1.272661\n",
            "Train Epoch: 2 [25000/50000             (50%)]\tLoss: 1.405859\n",
            "Train Epoch: 2 [30000/50000             (60%)]\tLoss: 1.420851\n",
            "Train Epoch: 2 [35000/50000             (70%)]\tLoss: 1.475281\n",
            "Train Epoch: 2 [40000/50000             (80%)]\tLoss: 1.327585\n",
            "Train Epoch: 2 [45000/50000             (90%)]\tLoss: 1.479409\n",
            "Train Epoch: 3 [0/50000             (0%)]\tLoss: 1.444046\n",
            "Train Epoch: 3 [5000/50000             (10%)]\tLoss: 1.297981\n",
            "Train Epoch: 3 [10000/50000             (20%)]\tLoss: 1.098197\n",
            "Train Epoch: 3 [15000/50000             (30%)]\tLoss: 1.369677\n",
            "Train Epoch: 3 [20000/50000             (40%)]\tLoss: 1.239885\n",
            "Train Epoch: 3 [25000/50000             (50%)]\tLoss: 1.278294\n",
            "Train Epoch: 3 [30000/50000             (60%)]\tLoss: 1.503964\n",
            "Train Epoch: 3 [35000/50000             (70%)]\tLoss: 1.227664\n",
            "Train Epoch: 3 [40000/50000             (80%)]\tLoss: 1.338037\n",
            "Train Epoch: 3 [45000/50000             (90%)]\tLoss: 1.271652\n",
            "Train Epoch: 4 [0/50000             (0%)]\tLoss: 1.198817\n",
            "Train Epoch: 4 [5000/50000             (10%)]\tLoss: 1.034254\n",
            "Train Epoch: 4 [10000/50000             (20%)]\tLoss: 1.189619\n",
            "Train Epoch: 4 [15000/50000             (30%)]\tLoss: 1.161810\n",
            "Train Epoch: 4 [20000/50000             (40%)]\tLoss: 1.222178\n",
            "Train Epoch: 4 [25000/50000             (50%)]\tLoss: 1.182550\n",
            "Train Epoch: 4 [30000/50000             (60%)]\tLoss: 1.186777\n",
            "Train Epoch: 4 [35000/50000             (70%)]\tLoss: 1.247179\n",
            "Train Epoch: 4 [40000/50000             (80%)]\tLoss: 1.108760\n",
            "Train Epoch: 4 [45000/50000             (90%)]\tLoss: 1.081782\n",
            "Train Epoch: 5 [0/50000             (0%)]\tLoss: 1.025694\n",
            "Train Epoch: 5 [5000/50000             (10%)]\tLoss: 0.957408\n",
            "Train Epoch: 5 [10000/50000             (20%)]\tLoss: 1.233737\n",
            "Train Epoch: 5 [15000/50000             (30%)]\tLoss: 1.059417\n",
            "Train Epoch: 5 [20000/50000             (40%)]\tLoss: 1.046202\n",
            "Train Epoch: 5 [25000/50000             (50%)]\tLoss: 0.885287\n",
            "Train Epoch: 5 [30000/50000             (60%)]\tLoss: 1.113637\n",
            "Train Epoch: 5 [35000/50000             (70%)]\tLoss: 1.032590\n",
            "Train Epoch: 5 [40000/50000             (80%)]\tLoss: 1.041652\n",
            "Train Epoch: 5 [45000/50000             (90%)]\tLoss: 1.099470\n",
            "Train Epoch: 6 [0/50000             (0%)]\tLoss: 0.894103\n",
            "Train Epoch: 6 [5000/50000             (10%)]\tLoss: 0.831517\n",
            "Train Epoch: 6 [10000/50000             (20%)]\tLoss: 0.905850\n",
            "Train Epoch: 6 [15000/50000             (30%)]\tLoss: 0.798648\n",
            "Train Epoch: 6 [20000/50000             (40%)]\tLoss: 0.995241\n",
            "Train Epoch: 6 [25000/50000             (50%)]\tLoss: 1.038159\n",
            "Train Epoch: 6 [30000/50000             (60%)]\tLoss: 1.150926\n",
            "Train Epoch: 6 [35000/50000             (70%)]\tLoss: 0.891011\n",
            "Train Epoch: 6 [40000/50000             (80%)]\tLoss: 1.019443\n",
            "Train Epoch: 6 [45000/50000             (90%)]\tLoss: 0.881991\n",
            "Train Epoch: 7 [0/50000             (0%)]\tLoss: 0.862539\n",
            "Train Epoch: 7 [5000/50000             (10%)]\tLoss: 0.779588\n",
            "Train Epoch: 7 [10000/50000             (20%)]\tLoss: 1.026284\n",
            "Train Epoch: 7 [15000/50000             (30%)]\tLoss: 0.775925\n",
            "Train Epoch: 7 [20000/50000             (40%)]\tLoss: 0.899002\n",
            "Train Epoch: 7 [25000/50000             (50%)]\tLoss: 0.830619\n",
            "Train Epoch: 7 [30000/50000             (60%)]\tLoss: 0.745495\n",
            "Train Epoch: 7 [35000/50000             (70%)]\tLoss: 0.817296\n",
            "Train Epoch: 7 [40000/50000             (80%)]\tLoss: 0.933380\n",
            "Train Epoch: 7 [45000/50000             (90%)]\tLoss: 0.848093\n",
            "\n",
            "Test set: Average loss: 1.4393,         Accuracy: 5446/10000 (54%)\n",
            "\n",
            "\n",
            "Test set: Average loss: 3.0212,         Accuracy: 1081/10000 (11%)\n",
            "\n",
            "\n",
            "Test set: Average loss: 3.4018,         Accuracy: 1188/10000 (12%)\n",
            "\n",
            "\n",
            "Test set: Average loss: 2.8351,         Accuracy: 2225/10000 (22%)\n",
            "\n",
            "\n",
            "Test set: Average loss: 2.5640,         Accuracy: 2957/10000 (30%)\n",
            "\n",
            "\n",
            "Test set: Average loss: 2.1557,         Accuracy: 3917/10000 (39%)\n",
            "\n",
            "\n",
            "Test set: Average loss: 1.7007,         Accuracy: 4966/10000 (50%)\n",
            "\n",
            "\n",
            "Test set: Average loss: 1.4509,         Accuracy: 5415/10000 (54%)\n",
            "\n",
            "\n",
            "Test set: Average loss: 1.4364,         Accuracy: 5436/10000 (54%)\n",
            "\n",
            "\n",
            "Test set: Average loss: 1.4381,         Accuracy: 5421/10000 (54%)\n",
            "\n"
          ]
        },
        {
          "output_type": "stream",
          "name": "stderr",
          "text": [
            "\r 67%|██████▋   | 2/3 [27:00<13:27, 807.77s/it]"
          ]
        },
        {
          "output_type": "stream",
          "name": "stdout",
          "text": [
            "\n",
            "Test set: Average loss: 1.4393,         Accuracy: 5446/10000 (54%)\n",
            "\n",
            "\n",
            "---------------------- begin run 3 ----------------------\n",
            "\n",
            "Train Epoch: 1 [0/50000             (0%)]\tLoss: 2.297917\n",
            "Train Epoch: 1 [5000/50000             (10%)]\tLoss: 1.793365\n",
            "Train Epoch: 1 [10000/50000             (20%)]\tLoss: 1.810735\n",
            "Train Epoch: 1 [15000/50000             (30%)]\tLoss: 1.668261\n",
            "Train Epoch: 1 [20000/50000             (40%)]\tLoss: 1.625828\n",
            "Train Epoch: 1 [25000/50000             (50%)]\tLoss: 1.493161\n",
            "Train Epoch: 1 [30000/50000             (60%)]\tLoss: 1.483112\n",
            "Train Epoch: 1 [35000/50000             (70%)]\tLoss: 1.516871\n",
            "Train Epoch: 1 [40000/50000             (80%)]\tLoss: 1.483869\n",
            "Train Epoch: 1 [45000/50000             (90%)]\tLoss: 1.522661\n",
            "Train Epoch: 2 [0/50000             (0%)]\tLoss: 1.420091\n",
            "Train Epoch: 2 [5000/50000             (10%)]\tLoss: 1.221707\n",
            "Train Epoch: 2 [10000/50000             (20%)]\tLoss: 1.486066\n",
            "Train Epoch: 2 [15000/50000             (30%)]\tLoss: 1.420005\n",
            "Train Epoch: 2 [20000/50000             (40%)]\tLoss: 1.173645\n",
            "Train Epoch: 2 [25000/50000             (50%)]\tLoss: 1.304610\n",
            "Train Epoch: 2 [30000/50000             (60%)]\tLoss: 1.370419\n",
            "Train Epoch: 2 [35000/50000             (70%)]\tLoss: 1.473544\n",
            "Train Epoch: 2 [40000/50000             (80%)]\tLoss: 1.361513\n",
            "Train Epoch: 2 [45000/50000             (90%)]\tLoss: 1.458953\n",
            "Train Epoch: 3 [0/50000             (0%)]\tLoss: 1.215405\n",
            "Train Epoch: 3 [5000/50000             (10%)]\tLoss: 1.351781\n",
            "Train Epoch: 3 [10000/50000             (20%)]\tLoss: 1.269395\n",
            "Train Epoch: 3 [15000/50000             (30%)]\tLoss: 1.545052\n",
            "Train Epoch: 3 [20000/50000             (40%)]\tLoss: 1.344541\n",
            "Train Epoch: 3 [25000/50000             (50%)]\tLoss: 1.144244\n",
            "Train Epoch: 3 [30000/50000             (60%)]\tLoss: 1.288160\n",
            "Train Epoch: 3 [35000/50000             (70%)]\tLoss: 1.235402\n",
            "Train Epoch: 3 [40000/50000             (80%)]\tLoss: 1.231601\n",
            "Train Epoch: 3 [45000/50000             (90%)]\tLoss: 1.175413\n",
            "Train Epoch: 4 [0/50000             (0%)]\tLoss: 1.350214\n",
            "Train Epoch: 4 [5000/50000             (10%)]\tLoss: 1.144380\n",
            "Train Epoch: 4 [10000/50000             (20%)]\tLoss: 1.094509\n",
            "Train Epoch: 4 [15000/50000             (30%)]\tLoss: 1.148306\n",
            "Train Epoch: 4 [20000/50000             (40%)]\tLoss: 1.208833\n",
            "Train Epoch: 4 [25000/50000             (50%)]\tLoss: 1.365201\n",
            "Train Epoch: 4 [30000/50000             (60%)]\tLoss: 1.156497\n",
            "Train Epoch: 4 [35000/50000             (70%)]\tLoss: 1.276772\n",
            "Train Epoch: 4 [40000/50000             (80%)]\tLoss: 0.964344\n",
            "Train Epoch: 4 [45000/50000             (90%)]\tLoss: 1.213975\n",
            "Train Epoch: 5 [0/50000             (0%)]\tLoss: 1.027249\n",
            "Train Epoch: 5 [5000/50000             (10%)]\tLoss: 1.129289\n",
            "Train Epoch: 5 [10000/50000             (20%)]\tLoss: 1.151063\n",
            "Train Epoch: 5 [15000/50000             (30%)]\tLoss: 1.087369\n",
            "Train Epoch: 5 [20000/50000             (40%)]\tLoss: 1.117366\n",
            "Train Epoch: 5 [25000/50000             (50%)]\tLoss: 0.909378\n",
            "Train Epoch: 5 [30000/50000             (60%)]\tLoss: 1.085105\n",
            "Train Epoch: 5 [35000/50000             (70%)]\tLoss: 0.940295\n",
            "Train Epoch: 5 [40000/50000             (80%)]\tLoss: 1.235934\n",
            "Train Epoch: 5 [45000/50000             (90%)]\tLoss: 1.116030\n",
            "Train Epoch: 6 [0/50000             (0%)]\tLoss: 0.870456\n",
            "Train Epoch: 6 [5000/50000             (10%)]\tLoss: 0.958389\n",
            "Train Epoch: 6 [10000/50000             (20%)]\tLoss: 0.787391\n",
            "Train Epoch: 6 [15000/50000             (30%)]\tLoss: 0.849385\n",
            "Train Epoch: 6 [20000/50000             (40%)]\tLoss: 0.904544\n",
            "Train Epoch: 6 [25000/50000             (50%)]\tLoss: 0.921155\n",
            "Train Epoch: 6 [30000/50000             (60%)]\tLoss: 1.125824\n",
            "Train Epoch: 6 [35000/50000             (70%)]\tLoss: 0.797105\n",
            "Train Epoch: 6 [40000/50000             (80%)]\tLoss: 1.083063\n",
            "Train Epoch: 6 [45000/50000             (90%)]\tLoss: 0.958830\n",
            "Train Epoch: 7 [0/50000             (0%)]\tLoss: 0.850036\n",
            "Train Epoch: 7 [5000/50000             (10%)]\tLoss: 0.757587\n",
            "Train Epoch: 7 [10000/50000             (20%)]\tLoss: 0.798380\n",
            "Train Epoch: 7 [15000/50000             (30%)]\tLoss: 0.826617\n",
            "Train Epoch: 7 [20000/50000             (40%)]\tLoss: 0.847712\n",
            "Train Epoch: 7 [25000/50000             (50%)]\tLoss: 0.880779\n",
            "Train Epoch: 7 [30000/50000             (60%)]\tLoss: 0.852604\n",
            "Train Epoch: 7 [35000/50000             (70%)]\tLoss: 1.011652\n",
            "Train Epoch: 7 [40000/50000             (80%)]\tLoss: 0.741443\n",
            "Train Epoch: 7 [45000/50000             (90%)]\tLoss: 0.726294\n",
            "\n",
            "Test set: Average loss: 1.4822,         Accuracy: 5376/10000 (54%)\n",
            "\n",
            "\n",
            "Test set: Average loss: 2.7100,         Accuracy: 1118/10000 (11%)\n",
            "\n",
            "\n",
            "Test set: Average loss: 2.8148,         Accuracy: 1123/10000 (11%)\n",
            "\n",
            "\n",
            "Test set: Average loss: 2.7109,         Accuracy: 1811/10000 (18%)\n",
            "\n",
            "\n",
            "Test set: Average loss: 2.9183,         Accuracy: 2911/10000 (29%)\n",
            "\n",
            "\n",
            "Test set: Average loss: 2.2788,         Accuracy: 3861/10000 (39%)\n",
            "\n",
            "\n",
            "Test set: Average loss: 1.7281,         Accuracy: 5038/10000 (50%)\n",
            "\n",
            "\n",
            "Test set: Average loss: 1.4984,         Accuracy: 5346/10000 (53%)\n",
            "\n",
            "\n",
            "Test set: Average loss: 1.4917,         Accuracy: 5365/10000 (54%)\n",
            "\n",
            "\n",
            "Test set: Average loss: 1.4833,         Accuracy: 5346/10000 (53%)\n",
            "\n"
          ]
        },
        {
          "output_type": "stream",
          "name": "stderr",
          "text": [
            "100%|██████████| 3/3 [40:00<00:00, 800.06s/it]"
          ]
        },
        {
          "output_type": "stream",
          "name": "stdout",
          "text": [
            "\n",
            "Test set: Average loss: 1.4822,         Accuracy: 5376/10000 (54%)\n",
            "\n"
          ]
        },
        {
          "output_type": "stream",
          "name": "stderr",
          "text": [
            "\n"
          ]
        }
      ]
    },
    {
      "cell_type": "code",
      "metadata": {
        "id": "CUKzPx9KDVlP"
      },
      "source": [
        "precise_test_accuracy = sum(precise_test_accuracy_per_run) / runs\n",
        "precise_inference_time = sum(precise_inference_time_per_run) / runs\n",
        "\n",
        "approx_test_accuracy_per_run = np.array(approx_test_accuracy_per_run)\n",
        "approx_test_accuracy_per_rank = approx_test_accuracy_per_run.mean(axis=0)\n",
        "\n",
        "approx_inference_time_per_run = np.array(approx_inference_time_per_run)\n",
        "approx_inference_time_per_rank = approx_inference_time_per_run.mean(axis=0)"
      ],
      "execution_count": 31,
      "outputs": []
    },
    {
      "cell_type": "code",
      "metadata": {
        "colab": {
          "base_uri": "https://localhost:8080/",
          "height": 522
        },
        "id": "inbcGoZ2nNfI",
        "outputId": "07db900c-7383-4b42-8e44-db540c479954"
      },
      "source": [
        "fig, axes = plt.subplots(1, 2, figsize=(20, 8))\n",
        "\n",
        "axes[0].plot(ranks, approx_test_accuracy_per_rank, marker='o')\n",
        "axes[0].axhline(y=precise_test_accuracy, color = 'r', linestyle = '-')\n",
        "axes[0].grid()\n",
        "axes[0].set_title('Test accuracy depending on rank', fontsize=14)\n",
        "axes[0].set_xscale('log')\n",
        "axes[0].set_xlabel('rank', fontsize=14)\n",
        "axes[0].set_ylabel('test accuracy', fontsize=14)\n",
        "\n",
        "axes[1].plot(ranks, approx_inference_time_per_rank, marker='o')\n",
        "axes[1].axhline(y=precise_inference_time, color = 'r', linestyle = '-')\n",
        "axes[1].grid()\n",
        "axes[1].set_title('Inference time depending on rank', fontsize=14)\n",
        "# axes[1].set_xscale('log')\n",
        "axes[1].set_xlabel('rank', fontsize=14)\n",
        "axes[1].set_ylabel('inference time', fontsize=14)\n",
        "\n",
        "plt.show()"
      ],
      "execution_count": 32,
      "outputs": [
        {
          "output_type": "display_data",
          "data": {
            "image/png": "[encoded data removed]",
            "text/plain": [
              "<Figure size 1440x576 with 2 Axes>"
            ]
          },
          "metadata": {
            "needs_background": "light"
          }
        }
      ]
    },
    {
      "cell_type": "code",
      "metadata": {
        "colab": {
          "base_uri": "https://localhost:8080/"
        },
        "id": "iEeI0SB6WO6V",
        "outputId": "c2789cf1-1478-436b-9ca9-ad02724db8a3"
      },
      "source": [
        "ranks[6], approx_test_accuracy_per_rank[6], precise_test_accuracy"
      ],
      "execution_count": 33,
      "outputs": [
        {
          "output_type": "execute_result",
          "data": {
            "text/plain": [
              "(100, 53.59, 53.97)"
            ]
          },
          "metadata": {},
          "execution_count": 33
        }
      ]
    },
    {
      "cell_type": "markdown",
      "metadata": {
        "id": "jxQu-jM-U83F"
      },
      "source": [
        "So, the following statements hold\n",
        "\n",
        "* test accuracy increases as logarithm of approximation rank until the value of 100, where this metric becomes almost the same as for precise (uncompressed) model, which provides opportunity for compression without loss of performance\n",
        "\n",
        "* inference time has linear growth with approximation rank"
      ]
    },
    {
      "cell_type": "code",
      "metadata": {
        "id": "q_vwyJXfdB0W"
      },
      "source": [
        "epochs, rank = 3, 100"
      ],
      "execution_count": 34,
      "outputs": []
    },
    {
      "cell_type": "code",
      "metadata": {
        "id": "bA_x0gt6dFJU"
      },
      "source": [
        "approx_model = ApproxNet(model, rank)\n",
        "optimizer = optim.Adam(approx_model.parameters(), lr=1e-4)"
      ],
      "execution_count": 35,
      "outputs": []
    },
    {
      "cell_type": "code",
      "metadata": {
        "colab": {
          "base_uri": "https://localhost:8080/"
        },
        "id": "_M9R0X8qc9rj",
        "outputId": "e618dad4-ecc5-4c33-9978-3286baa2d0c1"
      },
      "source": [
        "test_accuracy, _ = evaluate(approx_model, test_loader)\n",
        "test_accuracy_per_epoch = [test_accuracy]\n",
        "\n",
        "for epoch in range(1, epochs + 1):\n",
        "    train(approx_model,  train_loader, optimizer, epoch)\n",
        "    test_accuracy, _ = evaluate(approx_model, test_loader)\n",
        "    test_accuracy_per_epoch.append(test_accuracy)"
      ],
      "execution_count": 36,
      "outputs": [
        {
          "output_type": "stream",
          "name": "stdout",
          "text": [
            "\n",
            "Test set: Average loss: 1.4984,         Accuracy: 5346/10000 (53%)\n",
            "\n",
            "Train Epoch: 1 [0/50000             (0%)]\tLoss: 0.740046\n",
            "Train Epoch: 1 [5000/50000             (10%)]\tLoss: 0.901509\n",
            "Train Epoch: 1 [10000/50000             (20%)]\tLoss: 0.883438\n",
            "Train Epoch: 1 [15000/50000             (30%)]\tLoss: 0.891762\n",
            "Train Epoch: 1 [20000/50000             (40%)]\tLoss: 0.693080\n",
            "Train Epoch: 1 [25000/50000             (50%)]\tLoss: 0.633631\n",
            "Train Epoch: 1 [30000/50000             (60%)]\tLoss: 0.656848\n",
            "Train Epoch: 1 [35000/50000             (70%)]\tLoss: 0.936917\n",
            "Train Epoch: 1 [40000/50000             (80%)]\tLoss: 0.712110\n",
            "Train Epoch: 1 [45000/50000             (90%)]\tLoss: 0.536124\n",
            "\n",
            "Test set: Average loss: 1.4550,         Accuracy: 5603/10000 (56%)\n",
            "\n",
            "Train Epoch: 2 [0/50000             (0%)]\tLoss: 0.550745\n",
            "Train Epoch: 2 [5000/50000             (10%)]\tLoss: 0.500776\n",
            "Train Epoch: 2 [10000/50000             (20%)]\tLoss: 0.519628\n",
            "Train Epoch: 2 [15000/50000             (30%)]\tLoss: 0.461489\n",
            "Train Epoch: 2 [20000/50000             (40%)]\tLoss: 0.520954\n",
            "Train Epoch: 2 [25000/50000             (50%)]\tLoss: 0.541175\n",
            "Train Epoch: 2 [30000/50000             (60%)]\tLoss: 0.488364\n",
            "Train Epoch: 2 [35000/50000             (70%)]\tLoss: 0.540684\n",
            "Train Epoch: 2 [40000/50000             (80%)]\tLoss: 0.470500\n",
            "Train Epoch: 2 [45000/50000             (90%)]\tLoss: 0.459001\n",
            "\n",
            "Test set: Average loss: 1.5098,         Accuracy: 5605/10000 (56%)\n",
            "\n",
            "Train Epoch: 3 [0/50000             (0%)]\tLoss: 0.518333\n",
            "Train Epoch: 3 [5000/50000             (10%)]\tLoss: 0.497645\n",
            "Train Epoch: 3 [10000/50000             (20%)]\tLoss: 0.375100\n",
            "Train Epoch: 3 [15000/50000             (30%)]\tLoss: 0.485923\n",
            "Train Epoch: 3 [20000/50000             (40%)]\tLoss: 0.581534\n",
            "Train Epoch: 3 [25000/50000             (50%)]\tLoss: 0.422595\n",
            "Train Epoch: 3 [30000/50000             (60%)]\tLoss: 0.415192\n",
            "Train Epoch: 3 [35000/50000             (70%)]\tLoss: 0.426022\n",
            "Train Epoch: 3 [40000/50000             (80%)]\tLoss: 0.651255\n",
            "Train Epoch: 3 [45000/50000             (90%)]\tLoss: 0.450010\n",
            "\n",
            "Test set: Average loss: 1.5520,         Accuracy: 5671/10000 (57%)\n",
            "\n"
          ]
        }
      ]
    },
    {
      "cell_type": "code",
      "metadata": {
        "colab": {
          "base_uri": "https://localhost:8080/"
        },
        "id": "kqHEltgntbh4",
        "outputId": "12c5433e-9f4e-425c-f4ac-e79dc172c445"
      },
      "source": [
        "precise_test_accuracy_per_run[-1], test_accuracy_per_epoch[-1]"
      ],
      "execution_count": 62,
      "outputs": [
        {
          "output_type": "execute_result",
          "data": {
            "text/plain": [
              "(53.76, 56.71)"
            ]
          },
          "metadata": {},
          "execution_count": 62
        }
      ]
    },
    {
      "cell_type": "code",
      "metadata": {
        "colab": {
          "base_uri": "https://localhost:8080/",
          "height": 514
        },
        "id": "RCh8mrJ9tdui",
        "outputId": "0ad5b18d-8d36-468b-8c7a-69215c77f0cd"
      },
      "source": [
        "plt.figure(figsize=(8, 8))\n",
        "plt.plot(list(range(len(test_accuracy_per_epoch))), test_accuracy_per_epoch, marker='o')\n",
        "plt.axhline(y=precise_test_accuracy_per_run[-1], color = 'r', linestyle = '-')\n",
        "\n",
        "plt.title('Test accuracy', fontsize=14)\n",
        "plt.xlabel('Epoch')\n",
        "plt.ylabel('Accuracy')\n",
        "\n",
        "plt.grid()\n",
        "plt.show()"
      ],
      "execution_count": 63,
      "outputs": [
        {
          "output_type": "display_data",
          "data": {
            "image/png": "[encoded data removed]",
            "text/plain": [
              "<Figure size 576x576 with 1 Axes>"
            ]
          },
          "metadata": {
            "needs_background": "light"
          }
        }
      ]
    },
    {
      "cell_type": "markdown",
      "metadata": {
        "id": "qZInRv7DgiN0"
      },
      "source": [
        "As can be seen, we are able to compress models and fine-tune them, both reducing the training time and increasing the test accuracy."
      ]
    },
    {
      "cell_type": "markdown",
      "metadata": {
        "id": "qc8HB6aULaSe"
      },
      "source": [
        "## Problem 4. «Reducio!» (15 pts)  "
      ]
    },
    {
      "cell_type": "markdown",
      "metadata": {
        "id": "XNjLKFjjLaSf"
      },
      "source": [
        "Hermione Granger is well versed in all magical disciplines. In particular, she is a great expert in Numerical Linear Algebra and JAX.\n",
        "\n",
        "She has invited Harry Potter to play the game. \n",
        "\n",
        "Hermione chooses a number $r \\in [1, 95]$ and two matrices $W_1 \\in \\mathbb{R}^{r \\times 100}$ and $W_2 \\in \\mathbb{R}^{100 \\times r}$.\n",
        "Harry can tell her any 100-dimensional vector $x$, and Hermione gives Harry the result of \n",
        "\n",
        "$$ ||\\sin(W_2 \\cos(W_1 x))||^2_2,$$ \n",
        "\n",
        "where trigonometric functions are applied element-wise. The result is the squared norm of a 100-dimensional vector.\n",
        "\n",
        "Not to lose, Harry should guess what number $r$ Hermione has chosen.   \n",
        "Harry knows the python language, but he is an absolute layman in algebra. Please, help him to get at least 95% correct answers! \n",
        "\n",
        "<i> Hint 1: SVD might help you, but use it wisely! </i>\n",
        "\n",
        "<i> Hint 2: Suppose that a special magic allows you to compute gradients through automatic differentiation in JAX. You can also estimate gradients via finite differences, if you want it.</i>\n",
        "\n",
        "<i> Hint 3: You can estimate the matrix rank using simple heuristics.\n",
        "    \n",
        "You should write code into the `harry_answers` function. Good luck! "
      ]
    },
    {
      "cell_type": "code",
      "metadata": {
        "id": "019yq0Uut26p"
      },
      "source": [
        "import jax.numpy as jnp\n",
        "import jax\n",
        "import numpy as np\n",
        "import random\n",
        "\n",
        "class Game:\n",
        "    def __init__(self, key):\n",
        "        # key is a jax.random.PRNGKey\n",
        "        self.key = key\n",
        "        return\n",
        "    def hermione_chooses_r_and_W(self):\n",
        "        self.r = random.randint(1, 95)\n",
        "        self.key, subkey = jax.random.split(self.key)\n",
        "        self.W1 = jax.random.uniform(subkey, (self.r, 100), maxval=100., minval=0., dtype=jnp.float32)\n",
        "        self.key, subkey = jax.random.split(self.key)\n",
        "        self.W2 = jax.random.uniform(subkey, (100, self.r), maxval=100., minval=0., dtype=jnp.float32)\n",
        "    def hermione_computes_function(self, x):\n",
        "        return jnp.sum(jnp.square(jnp.sin(self.W2 @ jnp.cos(self.W1 @ x))))\n",
        "    def harry_answers(self):\n",
        "        \n",
        "        # Here I use active subspace technique\n",
        "        x, eps = jax.random.normal(self.key, (100, 100)), 5e-1\n",
        "\n",
        "        jacobian = jax.jacfwd(self.hermione_computes_function)\n",
        "        stacked_jacobians = np.apply_along_axis(jacobian, 0, x)\n",
        "        \n",
        "        u, s, v = np.linalg.svd(stacked_jacobians, full_matrices=False)\n",
        "        return (s > eps).sum()\n",
        "    \n",
        "    def play(self, n_rounds, verbose=True):\n",
        "        # n_rounds: a number of rounds of the game\n",
        "        # verbose: print or not the result of each round\n",
        "        n_right_answers = 0\n",
        "        for _ in range(n_rounds):\n",
        "            self.hermione_chooses_r_and_W()\n",
        "            r = self.harry_answers()\n",
        "            if abs(r - self.r) == 0:\n",
        "                if verbose:\n",
        "                    print(\"Good job! The true answer is {}, Harry's answer is {}!\".format(self.r, r))\n",
        "                n_right_answers += 1\n",
        "            else:\n",
        "                if verbose:\n",
        "                    print(\"Harry's answers is {}, but the true answer is {} :(\".format(r, self.r))\n",
        "        if float(n_right_answers) / n_rounds > 0.95:\n",
        "            print('Well done: {}/{} right answers!'.format(n_right_answers, n_rounds))\n",
        "        else:\n",
        "            print('Only {}/{} right answers :( Work a little more and you will succeed!'.format(\n",
        "                n_right_answers, n_rounds))"
      ],
      "execution_count": 60,
      "outputs": []
    },
    {
      "cell_type": "code",
      "metadata": {
        "colab": {
          "base_uri": "https://localhost:8080/"
        },
        "id": "xuUuaOvgt5AL",
        "outputId": "7b1d661b-cfee-4fc2-9cd5-a9db80346dc6"
      },
      "source": [
        "key = jax.random.PRNGKey(713)\n",
        "game = Game(key)\n",
        "game.play(n_rounds=100, verbose=False)"
      ],
      "execution_count": 61,
      "outputs": [
        {
          "output_type": "stream",
          "name": "stdout",
          "text": [
            "Well done: 100/100 right answers!\n"
          ]
        }
      ]
    },
    {
      "cell_type": "code",
      "metadata": {
        "id": "FX4Kg3JMqcj4"
      },
      "source": [
        ""
      ],
      "execution_count": null,
      "outputs": []
    }
  ]
}