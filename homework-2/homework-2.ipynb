{
  "nbformat": 4,
  "nbformat_minor": 0,
  "metadata": {
    "colab": {
      "name": "homework-2.ipynb",
      "provenance": [],
      "collapsed_sections": [
        "FOMNJ4TcOGIV",
        "I_JQggewCNwk",
        "c_8OYe7wOGI-"
      ]
    },
    "kernelspec": {
      "display_name": "Python 3",
      "language": "python",
      "name": "python3"
    },
    "language_info": {
      "codemirror_mode": {
        "name": "ipython",
        "version": 3
      },
      "file_extension": ".py",
      "mimetype": "text/x-python",
      "name": "python",
      "nbconvert_exporter": "python",
      "pygments_lexer": "ipython3",
      "version": "3.7.7"
    }
  },
  "cells": [
    {
      "cell_type": "markdown",
      "metadata": {
        "id": "t9v1vX4-OGIT"
      },
      "source": [
        "# Problem set 2 (45 + 50 + 33 + 15 = 143 pts)"
      ]
    },
    {
      "cell_type": "code",
      "metadata": {
        "id": "smO2eGcYP7Ei"
      },
      "source": [
        "import timeit\n",
        "import numpy as np\n",
        "import scipy as sp\n",
        "import matplotlib.pyplot as plt\n",
        "\n",
        "from tqdm import tqdm\n",
        "from scipy.linalg import lu as scipy_lu, cholesky as scipy_cholesky, pascal"
      ],
      "execution_count": null,
      "outputs": []
    },
    {
      "cell_type": "code",
      "metadata": {
        "colab": {
          "base_uri": "https://localhost:8080/"
        },
        "id": "ksUXXCTn3k75",
        "outputId": "e854c02b-5990-4dde-8573-e48d1bcd999a"
      },
      "source": [
        "from google.colab import drive\n",
        "drive.mount('/content/gdrive')"
      ],
      "execution_count": null,
      "outputs": [
        {
          "output_type": "stream",
          "name": "stdout",
          "text": [
            "Mounted at /content/gdrive\n"
          ]
        }
      ]
    },
    {
      "cell_type": "code",
      "metadata": {
        "colab": {
          "base_uri": "https://localhost:8080/"
        },
        "id": "yi3WjesM4EGo",
        "outputId": "d4477360-804e-40b8-cb20-6e6d98b2f208"
      },
      "source": [
        "%cd '/content/gdrive/MyDrive/Colab Notebooks/Numerical Linear Algebra'"
      ],
      "execution_count": null,
      "outputs": [
        {
          "output_type": "stream",
          "name": "stdout",
          "text": [
            "/content/gdrive/MyDrive/Colab Notebooks/Numerical Linear Algebra\n"
          ]
        }
      ]
    },
    {
      "cell_type": "markdown",
      "metadata": {
        "id": "FOMNJ4TcOGIV"
      },
      "source": [
        "## Problem 1 (LU decomposition) 45 pts\n"
      ]
    },
    {
      "cell_type": "markdown",
      "metadata": {
        "id": "pYHDl6ppOGIV"
      },
      "source": [
        "### 1. LU  for band matrices and Cholesky decomposition (13 pts)\n",
        "\n",
        "The complexity to find an LU decomposition of a dense $n\\times n$ matrix is $\\mathcal{O}(n^3)$.\n",
        "Significant reduction in complexity can be achieved if the matrix has a certain structure, e.g. it is sparse. \n",
        "In the following task we consider an important example of $LU$ for a special type of matrices –– band matrices with top left entry equal to 1 and the bandwidth $m$ equal to 3 or 5 which called tridiagonal and pentadiagonal respectively. The bands may be ```[1, 2, 1]``` and ```[1, 1, 2, 1, 1]``` respectively\n",
        "\n",
        "- (4 pts) Write a function ```band_lu(diag_broadcast, n)``` which computes LU decomposition for tridiagonal or pentadiagonal matrix with top left entry equal to 1 with given diagonal bands. \n",
        "For example, input parametres ```(diag_broadcast = [1,2,1], n = 4)``` mean that we need to find LU decomposition for the triangular matrix of the form:\n",
        "\n",
        "$$A = \\begin{bmatrix}\n",
        "1 & 1 & 0 & 0\\\\\n",
        "1 & 2 & 1 & 0 \\\\\n",
        "0 & 1 & 2 & 1 \\\\\n",
        "0 & 0 & 1 & 2 \\\\\n",
        "\\end{bmatrix}.$$\n",
        "\n",
        "Provide the extensive testing of the implemented function that will works correctly for large $n$,  e.g. $n=100$.\n",
        "As an output it is considered to make ```L``` and ```U``` - 2D arrays representing diagonals in factors $L$ (```L[0]``` keeps first lower diagonal, ```L[1]``` keeps second lower, ...), and $U$ (```U[:,0]``` keeps main diagonal, ```U[:,1]``` keeps first upper, ...).\n",
        "\n",
        "- (2 pts) Compare execution time of the band LU decomposition using standard function from ```scipy```, i.e. which takes the whole matrix and does not know about its special structure, and band decomposition of yours implementation. Comment on the results.\n",
        "\n",
        "- (7 pts) Write a function ```cholesky(n)``` for computing Cholesky decomposition. It should take the the single argument - the matrix that will be factorized and return the single output - lower-triangular factor $L$. Think about the efficiency of your implementation and if necessary update it to achieve the best performance (eliminate Python loops, where it is possible and so on). Explicitly describe the difference with LU decomposition that reduces the complexity from $2n^3/3$ for LU to $n^3/3$ for Cholesky. \n",
        "Test the implemented function on the Pascal matrix of given size $n$ for $n = 5, 10, 50$. \n",
        "Pascal matrix is square matrix of the following form (here for $n=4$)\n",
        "$$P = \\begin{bmatrix}\n",
        "1 & 1 & 1 & 1\\\\\n",
        "1 & 2 & 3 & 4 \\\\\n",
        "1 & 3 & 6 & 10 \\\\\n",
        "1 & 4 & 10 & 20 \\\\\n",
        "\\end{bmatrix}.$$\n",
        "\n",
        "    [Here](https://en.wikipedia.org/wiki/Pascal_matrix) you can find more details about such matrices and analytical form for factor $L$ from Cholesky decomposition. Compare the result of your implementation with analytical expression in terms of some matrix norm of difference.  "
      ]
    },
    {
      "cell_type": "code",
      "metadata": {
        "id": "IXil8vSRfwLg"
      },
      "source": [
        "def get_matrix_from_broadcast(diag_broadcast, n):\n",
        "    A = np.zeros((n, n))\n",
        "    shift = len(diag_broadcast) // 2\n",
        "\n",
        "    for i in range(len(diag_broadcast)):\n",
        "        band = diag_broadcast[i] * np.ones(n - abs(i - shift))\n",
        "        A += np.diag(band, i - shift)\n",
        "    \n",
        "    A[0, 0] = 1\n",
        "    return A"
      ],
      "execution_count": null,
      "outputs": []
    },
    {
      "cell_type": "code",
      "metadata": {
        "id": "NR5yKGNMezth"
      },
      "source": [
        "def get_matrix_from_band_lu(L_diag, U_diag):\n",
        "    n = U_diag.shape[0]\n",
        "    L, U = np.identity(n), np.zeros((n, n))\n",
        "    \n",
        "    for i, d in enumerate(L_diag):\n",
        "        L += np.diag(d[:len(d) - i], -(i + 1))\n",
        "        \n",
        "    for i, d in enumerate(U_diag.T):\n",
        "        U += np.diag(d[:len(d) - i], i)\n",
        "    \n",
        "    return L @ U"
      ],
      "execution_count": null,
      "outputs": []
    },
    {
      "cell_type": "code",
      "metadata": {
        "id": "6vjTpkp7hZb9"
      },
      "source": [
        "diag_broadcast, n = [1, 3, 2], 8"
      ],
      "execution_count": null,
      "outputs": []
    },
    {
      "cell_type": "markdown",
      "metadata": {
        "id": "CvyIW8PEiRQu"
      },
      "source": [
        "Basic LU decomposition is constructed from the sequence of Guassian elimination snapshots $U_k$, where the first $k$ columns under the diagonal  equal to zero, and the lower triangular matrices $L_k$ which provide the elimination of $k$ 'th column under the diagonal of matrix \n",
        "$U_{k - 1}$ and yield new matrix $U_k$, so the final snapshot $U_{n - 1} = U$ is an upper triangular matrix\n",
        "$$U_0 = A \\Longrightarrow \\forall k \\geqslant 0: L_{k + 1} U_k = U_{k + 1}$$\n",
        "\n",
        "We can describe the process as\n",
        "$$\\left[\\prod_{k = 1}^{n - 1}L_{n - k}\\right] A = \\left[\\prod_{k = 1}^{n - 1}L_{n - k}\\right] U_0 = \n",
        "\\left[\\prod_{k = 1}^{n - 2}L_{n - k}\\right] U_1 = \\dots = L_{n - 1} U_{n - 2} = U_{n - 1} = U$$\n",
        "<!-- $$L_{n - 1} L_{n - 2} \\dots L_1 A = L_{n - 1} L_{n - 2} \\dots L_1 U_0 = L_{n - 1} L_{n - 2} \\dots L_2 U_1 = \n",
        "\\dots = L_{n - 1} U_{n - 2} = U_{n - 1} = U$$ -->\n",
        "$$A = \\left[\\prod_{k = 1}^{n - 1}L_{n - k}\\right]^{-1}\\!\\!\\!\\! U = \\left[\\prod_{k = 1}^{n - 1}L_k^{-1}\\right] U = LU$$\n",
        "<!-- $$A = L_1^{-1}L_2^{-1} \\dots L_{n - 1}^{-1}U = LU$$ -->\n",
        "\n",
        "Finally, we can notice that the matrix $L_k^{-1}$ contains the eliminating column from $L_k$, but with the opposite sign \n",
        "(if the elimination step is performed by subtracting some row, we can invert this step by adding it back)"
      ]
    },
    {
      "cell_type": "code",
      "metadata": {
        "id": "a1rRRU3VPvBm"
      },
      "source": [
        "def fast_lu(A):\n",
        "    n = A.shape[0]\n",
        "    L = np.identity(n)\n",
        "    U = A.copy()\n",
        "\n",
        "    for j in range(n - 1):\n",
        "\n",
        "        # define proper coefficients for reverting row operations and put them into matrix L\n",
        "        eliminating_coefficients = U[j + 1:, j] / U[j, j]\n",
        "        L[j + 1:, j] = eliminating_coefficients\n",
        "\n",
        "        # perform one step of Gaussian elimination — zero out j'th column under j'th row in matrix A\n",
        "        U[j + 1:, :] = U[j + 1:, :] - eliminating_coefficients.reshape(-1, 1) * U[j, :]\n",
        "    \n",
        "    return L, U"
      ],
      "execution_count": null,
      "outputs": []
    },
    {
      "cell_type": "code",
      "metadata": {
        "id": "6fkNaAqBhaD3",
        "colab": {
          "base_uri": "https://localhost:8080/"
        },
        "outputId": "f5cb07fc-4a41-4388-c030-9c5d33cd0895"
      },
      "source": [
        "A = get_matrix_from_broadcast(diag_broadcast, n)\n",
        "L, U = fast_lu(A)\n",
        "np.allclose(L @ U, A)"
      ],
      "execution_count": null,
      "outputs": [
        {
          "output_type": "execute_result",
          "data": {
            "text/plain": [
              "True"
            ]
          },
          "metadata": {},
          "execution_count": 8
        }
      ]
    },
    {
      "cell_type": "markdown",
      "metadata": {
        "id": "-YwCL4Iaojdu"
      },
      "source": [
        "What changes in the LU decomposition for matrix with band of width $2m + 1$ is that the eliminating matrix $L$ contains up to $m$ non-zero \n",
        "values beyond the main diagonal, while the resulting matrix $U$ — up to $m$ non-zero values above the main diagonal. Moreover, we can employ the fact that the vertical slice of the matrix $A$ always has the same form (contains the same values in specific order)."
      ]
    },
    {
      "cell_type": "code",
      "metadata": {
        "id": "BvY7icWBOGIW"
      },
      "source": [
        "# INPUT : diag_broadcast - list of diagonals value to broadcast, length equal to 3 or 5\n",
        "#         n - integer, band matrix shape\n",
        "# \n",
        "# OUTPUT : L - 2D np.ndarray, L.shape[0] depends on bandwidth, L.shape[1] = n - 1, do not store main diagonal, where all ones\n",
        "#          add zeros to the right side of rows to handle with changing length of diagonals\n",
        "# \n",
        "#          U - 2D np.ndarray, U.shape[0] = n, U.shape[1] depends on bandwidth\n",
        "#          add zeros to the bottom of columns to handle with changing length of diagonals\n",
        "\n",
        "def band_lu(diag_broadcast, n):\n",
        "    band_width = len(diag_broadcast)\n",
        "    L = np.zeros(\n",
        "        ((band_width - 1) // 2, n - 1)\n",
        "    )\n",
        "    U = np.zeros(\n",
        "        (n, (band_width + 1) // 2)\n",
        "    )\n",
        "    U[0, 0] = 1\n",
        "\n",
        "    if band_width == 3:\n",
        "        for i in range(n - 1):\n",
        "            U[i, 1] = diag_broadcast[2]\n",
        "\n",
        "            L[0, i] = diag_broadcast[0] / U[i, 0]\n",
        "            U[i + 1, 0] = diag_broadcast[1] - L[0, i] * U[i, 1]\n",
        "\n",
        "    elif band_width == 5:\n",
        "        L[0, 0] = diag_broadcast[1] / U[0, 0]\n",
        "\n",
        "        U[0, 1] = diag_broadcast[3]\n",
        "        U[1, 0] = diag_broadcast[2] - L[0, 0] * U[0, 1]\n",
        "\n",
        "        for i in range(1, n - 1):\n",
        "            U[i - 1, 2] = diag_broadcast[4]\n",
        "            U[i, 1] = diag_broadcast[3] - L[0, i - 1] * U[i - 1, 2]\n",
        "\n",
        "            L[1, i - 1] = diag_broadcast[0] / U[i - 1, 0]\n",
        "            L[0, i] = (diag_broadcast[1] - L[1, i - 1] * U[i - 1, 1]) / U[i, 0]\n",
        "            U[i + 1, 0] = diag_broadcast[2] - L[1, i - 1] * U[i - 1, 2] - L[0, i] * U[i, 1]\n",
        "\n",
        "    return L, U"
      ],
      "execution_count": null,
      "outputs": []
    },
    {
      "cell_type": "markdown",
      "metadata": {
        "id": "Kvom8zJmx_rp"
      },
      "source": [
        "* check whether the implementation is correct"
      ]
    },
    {
      "cell_type": "code",
      "metadata": {
        "id": "XVySYJbTOGIa",
        "colab": {
          "base_uri": "https://localhost:8080/"
        },
        "outputId": "c2566c0e-9f66-41ae-c56e-b9f79cb90d17"
      },
      "source": [
        "nn = np.logspace(1, 4, 20).astype('int')\n",
        "\n",
        "for n in tqdm(nn):\n",
        "    diag_broadcast = np.random.randn(3)\n",
        "    L, U = band_lu(diag_broadcast, n)\n",
        "    assert np.allclose(get_matrix_from_broadcast(diag_broadcast, n), get_matrix_from_band_lu(L, U))"
      ],
      "execution_count": null,
      "outputs": [
        {
          "output_type": "stream",
          "name": "stderr",
          "text": [
            "100%|██████████| 20/20 [01:27<00:00,  4.37s/it]\n"
          ]
        }
      ]
    },
    {
      "cell_type": "code",
      "metadata": {
        "colab": {
          "base_uri": "https://localhost:8080/"
        },
        "id": "w8VKn3txHPcY",
        "outputId": "f864a6ae-c0bd-4dd1-e691-5c6e9978ec8e"
      },
      "source": [
        "nn = np.logspace(1, 4, 20).astype('int')\n",
        "\n",
        "for n in tqdm(nn):\n",
        "    diag_broadcast = np.random.randn(5)\n",
        "    L, U = band_lu(diag_broadcast, n)\n",
        "    assert np.allclose(get_matrix_from_broadcast(diag_broadcast, n), get_matrix_from_band_lu(L, U))"
      ],
      "execution_count": null,
      "outputs": [
        {
          "output_type": "stream",
          "name": "stderr",
          "text": [
            "100%|██████████| 20/20 [01:30<00:00,  4.51s/it]\n"
          ]
        }
      ]
    },
    {
      "cell_type": "markdown",
      "metadata": {
        "id": "X3pm20Qhz6Em"
      },
      "source": [
        "* plot execution time"
      ]
    },
    {
      "cell_type": "code",
      "metadata": {
        "colab": {
          "base_uri": "https://localhost:8080/"
        },
        "id": "_cNYrBi3z5kq",
        "outputId": "c8d638d2-6e49-46ee-dc98-262fbeaea8f1"
      },
      "source": [
        "execution_scipy_3d, execution_band_3d = [], []\n",
        "execution_scipy_5d, execution_band_5d = [], []\n",
        "\n",
        "nn = np.logspace(1, 3, 20).astype('int')\n",
        "\n",
        "for n in tqdm(nn):\n",
        "    # for 3 diagonals\n",
        "    diag_broadcast = np.random.randn(3)\n",
        "\n",
        "    time = timeit.timeit(lambda: band_lu(diag_broadcast, n), number=10) / 10\n",
        "    execution_band_3d.append(time)\n",
        "    \n",
        "    A = get_matrix_from_broadcast(diag_broadcast, n)\n",
        "    time = timeit.timeit(lambda: scipy_lu(A), number=10) / 10\n",
        "    execution_scipy_3d.append(time)\n",
        "    \n",
        "    # for 5 diagonals\n",
        "    diag_broadcast = np.random.randn(5)\n",
        "\n",
        "    time = timeit.timeit(lambda: band_lu(diag_broadcast, n), number=10) / 10\n",
        "    execution_band_5d.append(time)\n",
        "    \n",
        "    A = get_matrix_from_broadcast(diag_broadcast, n)\n",
        "    time = timeit.timeit(lambda: scipy_lu(A), number=10) / 10\n",
        "    execution_scipy_5d.append(time)"
      ],
      "execution_count": null,
      "outputs": [
        {
          "output_type": "stream",
          "name": "stderr",
          "text": [
            "100%|██████████| 20/20 [00:06<00:00,  3.04it/s]\n"
          ]
        }
      ]
    },
    {
      "cell_type": "code",
      "metadata": {
        "colab": {
          "base_uri": "https://localhost:8080/",
          "height": 524
        },
        "id": "75rJ3mo-0fi_",
        "outputId": "13b0f362-8f59-46d8-81f4-73c6a38c3495"
      },
      "source": [
        "plt.figure(figsize=(10, 8))\n",
        "\n",
        "plt.plot(nn, execution_scipy_3d, label='scipy LU', marker='o')\n",
        "plt.plot(nn, execution_band_3d, label='banded LU', marker='o')\n",
        "plt.xlabel('matrix size, $n$', fontsize=14)\n",
        "plt.ylabel('execution time, s', fontsize=14)\n",
        "\n",
        "plt.yscale('log')\n",
        "plt.xscale('log')\n",
        "\n",
        "plt.legend(fontsize=14)\n",
        "plt.title('3 diagonals', fontsize=14)\n",
        "plt.grid()\n",
        "plt.show()"
      ],
      "execution_count": null,
      "outputs": [
        {
          "output_type": "display_data",
          "data": {
            "image/png": "[encoded data removed]",
            "text/plain": [
              "<Figure size 720x576 with 1 Axes>"
            ]
          },
          "metadata": {
            "needs_background": "light"
          }
        }
      ]
    },
    {
      "cell_type": "code",
      "metadata": {
        "colab": {
          "base_uri": "https://localhost:8080/",
          "height": 524
        },
        "id": "lj0GrqBBJCDn",
        "outputId": "e9e2deea-682f-4f5b-db9d-9b78aab2dbb8"
      },
      "source": [
        "plt.figure(figsize=(10, 8))\n",
        "\n",
        "plt.plot(nn, execution_scipy_5d, label='scipy LU', marker='o')\n",
        "plt.plot(nn, execution_band_5d, label='banded LU', marker='o')\n",
        "plt.xlabel('matrix size, $n$', fontsize=14)\n",
        "plt.ylabel('execution time, s', fontsize=14)\n",
        "\n",
        "plt.yscale('log')\n",
        "plt.xscale('log')\n",
        "\n",
        "plt.legend(fontsize=14)\n",
        "plt.title('5 diagonals', fontsize=14)\n",
        "plt.grid()\n",
        "plt.show()"
      ],
      "execution_count": null,
      "outputs": [
        {
          "output_type": "display_data",
          "data": {
            "image/png": "[encoded data removed]",
            "text/plain": [
              "<Figure size 720x576 with 1 Axes>"
            ]
          },
          "metadata": {
            "needs_background": "light"
          }
        }
      ]
    },
    {
      "cell_type": "markdown",
      "metadata": {
        "id": "k-rO9FAb_lfc"
      },
      "source": [
        "As it was expected, we can see non-linear (cubic) dependence of computational time on matrix size $n$ for scipy implementation and linear dependence for our structure-aware implementation.\n",
        "\n",
        "<!-- The dependencies for scipy implementation is the same for both 3-diagonal and 5-diagonal matrices since the algorithm doesn't utilize the matrix structure. However, they vary for our implementations, as the 5-diagonal case requires more operations. -->"
      ]
    },
    {
      "cell_type": "code",
      "metadata": {
        "id": "cpbTcVMwVPY8"
      },
      "source": [
        "def cholesky(A):\n",
        "    n = A.shape[0]\n",
        "    L = np.zeros((n, n))\n",
        "\n",
        "    for i in range(n):\n",
        "        L[i, i] = np.sqrt(A[i, i] - np.sum(L[i, :i] ** 2))\n",
        "        L[i + 1:, i] = (A[i + 1:, i] - np.sum(L[i + 1:, :i] * L[i, :i].reshape(1, -1), axis=1)) / L[i, i]\n",
        "    \n",
        "    return L"
      ],
      "execution_count": null,
      "outputs": []
    },
    {
      "cell_type": "markdown",
      "metadata": {
        "id": "HZOugE3kjKSa"
      },
      "source": [
        "According to https://rosettacode.org/wiki/Pascal_matrix_generation, Cholesky factor of Pascal matrix is the same Pascal matrix in \n",
        "the lower triangular form"
      ]
    },
    {
      "cell_type": "code",
      "metadata": {
        "colab": {
          "base_uri": "https://localhost:8080/"
        },
        "id": "sY4qMHpXjXQi",
        "outputId": "15b48466-dcad-4120-f7c9-04244c7ae219"
      },
      "source": [
        "pascal_matrix = pascal(10)\n",
        "pascal_cholesky_factor = pascal(10, kind='lower')\n",
        "not np.any(pascal_matrix - pascal_cholesky_factor @ pascal_cholesky_factor.T)"
      ],
      "execution_count": null,
      "outputs": [
        {
          "output_type": "execute_result",
          "data": {
            "text/plain": [
              "True"
            ]
          },
          "metadata": {},
          "execution_count": 16
        }
      ]
    },
    {
      "cell_type": "code",
      "metadata": {
        "colab": {
          "base_uri": "https://localhost:8080/"
        },
        "id": "gsGhHxzBcdQT",
        "outputId": "5bfeba00-0a97-4266-a930-16e8d522d447"
      },
      "source": [
        "nn = np.arange(5, 51, 5).astype('int')\n",
        "cholesky_errors_custom, cholesky_errors_scipy = [], []\n",
        "\n",
        "for n in tqdm(nn):\n",
        "    pascal_matrix = pascal(n).astype('float64')\n",
        "    pascal_cholesky_factor = pascal(n, kind='lower').astype('float64')\n",
        "\n",
        "    L = cholesky(pascal_matrix)\n",
        "    cholesky_errors_custom.append(np.linalg.norm(L - pascal_cholesky_factor))"
      ],
      "execution_count": null,
      "outputs": [
        {
          "output_type": "stream",
          "name": "stderr",
          "text": [
            "  0%|          | 0/10 [00:00<?, ?it/s]/usr/local/lib/python3.7/dist-packages/ipykernel_launcher.py:6: RuntimeWarning: invalid value encountered in sqrt\n",
            "  \n",
            "100%|██████████| 10/10 [00:00<00:00, 298.08it/s]\n"
          ]
        }
      ]
    },
    {
      "cell_type": "code",
      "metadata": {
        "colab": {
          "base_uri": "https://localhost:8080/"
        },
        "id": "AviKNe0SoKFn",
        "outputId": "c00bfc26-e2b1-4f6e-fdc1-73e6ab9f4b6c"
      },
      "source": [
        "cholesky_errors_custom"
      ],
      "execution_count": null,
      "outputs": [
        {
          "output_type": "execute_result",
          "data": {
            "text/plain": [
              "[0.0, 0.0, 0.0, 0.0, 0.0, 6.559982504009003, nan, nan, nan, nan]"
            ]
          },
          "metadata": {},
          "execution_count": 18
        }
      ]
    },
    {
      "cell_type": "markdown",
      "metadata": {
        "id": "aXEw1SndobSq"
      },
      "source": [
        "Given the list of Frobenius norms of difference between custom Cholesky factors and the actual Pascal factors, it can be seen that numerical instability leads to significant errors at some point, making it impossible to perform decomposition even for scipy"
      ]
    },
    {
      "cell_type": "code",
      "metadata": {
        "colab": {
          "base_uri": "https://localhost:8080/"
        },
        "id": "NRHEcglgopbZ",
        "outputId": "de83f746-93b0-4791-ab36-e61f15d069a2"
      },
      "source": [
        "try:\n",
        "    L = scipy_cholesky(pascal_matrix)\n",
        "    cholesky_errors_scipy.append(np.linalg.norm(L - pascal_cholesky_factor))\n",
        "except Exception as exception:\n",
        "    print(exception)"
      ],
      "execution_count": null,
      "outputs": [
        {
          "output_type": "stream",
          "name": "stdout",
          "text": [
            "31-th leading minor of the array is not positive definite\n"
          ]
        }
      ]
    },
    {
      "cell_type": "markdown",
      "metadata": {
        "id": "BsbYrhpUp1xk"
      },
      "source": [
        "The computational cost of Cholesky decomposition is reduced comparing to LU decomposition. In particular, for some elimination step $k$, \n",
        "LU decomposition requires $n - k + 1$ additions and $n - k + 1$ multiplications over $n − k$ rows\n",
        "\n",
        "$$T_{\\text{LU}}(n) = \\sum\\limits_{k = 1}^n 2\\big[n - k + 1\\big]\\big[n - k\\big] = \n",
        "\\sum\\limits_{m = 1}^n 2m\\big[m - 1\\big] = 2\\left[\\sum\\limits_{m = 1}^n m^2 - \\sum\\limits_{m = 1}^n m\\right] = \\frac{2n^3}{3} + O(n^2)$$\n",
        "\n",
        "At the same time, for some iteration $k$, Cholesky decomposition requires $k - 1$ multiplications, $k - 1$ subtractions and \n",
        "$1$ division (or root extraction) over $n - k + 1$ rows\n",
        "\n",
        "$$T_{\\text{Cholesky}}(n) = \\sum\\limits_{k = 1}^n \\big[n - k + 1\\big]\\big[2k - 1\\big] = \n",
        "\\sum\\limits_{k = 1}^n \\Big[\\big[2n + 3\\big]k - 2k^2 - n - 1\\Big] = $$\n",
        "$$= 2n\\sum\\limits_{k = 1}^n k - 2\\sum\\limits_{k = 1}^n k^2 + O(n^2) = \n",
        "n^3 - \\frac{2n^3}{3} + O(n^2) = \\frac{n^3}{3} + O(n^2)$$"
      ]
    },
    {
      "cell_type": "markdown",
      "metadata": {
        "id": "_iM6NwHQOGId"
      },
      "source": [
        "### 2. Stability of LU (8 pts)\n",
        "\n",
        "* (4 pts) Show, that for these  matrices $A$ and $B$ LU decomposition fails. Why does it happen?\n",
        "\n",
        "For matrix $A$ the first step of Gaussian eliminations fails because the pivot element is zero\n",
        "$$A = \\begin{bmatrix}\n",
        "0 & 1 \\\\\n",
        "2 & 3\n",
        "\\end{bmatrix}$$\n",
        "\n",
        "For matrix $B$ the second step fails due to the singularity of the second leading principal minor\n",
        "\n",
        "$$B = \\begin{bmatrix}\n",
        "1 & 1 & 0\\\\\n",
        "1 & 1 & 2 \\\\\n",
        "1 & 2 & 1\n",
        "\\end{bmatrix} \\longrightarrow \n",
        "\\begin{bmatrix}\n",
        "1 & 1 & 0\\\\\n",
        "0 & 0 & 2 \\\\\n",
        "0 & 1 & 1\n",
        "\\end{bmatrix}\n",
        "$$\n",
        "\n",
        "* (4 pts) In the LU decomposition, a pivot position is a position of the element that identifies the row and column that will be eliminated in the current step. For example, first pivot in LU is usually the left top element. What value of $c$ leads to zero in the second pivot position? What $c$ produces zero in the third pivot position? What modification of LU should we use in order to address the possible zeros in pivot position?\n",
        "\n",
        "$$A = \\begin{bmatrix}\n",
        "1 & c & 0\\\\\n",
        "2 & 4 & 1 \\\\\n",
        "3 & 5 & 1\n",
        "\\end{bmatrix} \\longrightarrow \n",
        "\\begin{bmatrix}\n",
        "1 & c & 0\\\\\n",
        "0 & 4 - 2c & 1 \\\\\n",
        "0 & 5 - 3c & 1\n",
        "\\end{bmatrix} \\longrightarrow \n",
        "\\begin{bmatrix}\n",
        "1 & c & 0\\\\\n",
        "0 & 4 - 2c & 1 \\\\\n",
        "0 & 0 & 1 - \\cfrac{5 - 3c}{4 - 2c}\n",
        "\\end{bmatrix}\n",
        "$$\n",
        "\n",
        "Here $c = 2$ produces zero in the second zero position and $c = 1$ leads to zero in the third pivot position. In order to avoid failing \n",
        "Gaussian elimination, we need to perform permutation of rows or columns in matrix $A$ so that the pivot element would be also non-zero. Such transformation $P$ can be applied to the original matrix $A$, which leads to the following form of decomposition with row permutation\n",
        "\n",
        "$$PA = LU \\Longrightarrow A = P^{-1}LU$$\n",
        "\n",
        "or with column permutation\n",
        "\n",
        "$$AP = LU \\Longrightarrow A = LUP^{-1}$$\n",
        "\n",
        "In particular, here we can use the following column permutation\n",
        "$$P = \\begin{bmatrix}\n",
        "1 & 0 & 0\\\\\n",
        "0 & 0 & 1 \\\\\n",
        "0 & 1 & 0\n",
        "\\end{bmatrix} \\Longrightarrow AP = \\begin{bmatrix}\n",
        "1 & c & 0\\\\\n",
        "2 & 4 & 1 \\\\\n",
        "3 & 5 & 1\n",
        "\\end{bmatrix}\\begin{bmatrix}\n",
        "1 & 0 & 0\\\\\n",
        "0 & 0 & 1 \\\\\n",
        "0 & 1 & 0\n",
        "\\end{bmatrix} = \\begin{bmatrix}\n",
        "1 & 0 & c\\\\\n",
        "2 & 1 & 4 \\\\\n",
        "3 & 1 & 5\n",
        "\\end{bmatrix}$$"
      ]
    },
    {
      "cell_type": "markdown",
      "metadata": {
        "id": "YFc3BR_TOGIj"
      },
      "source": [
        "### 3. Implementation of PLU decomposition (14 pts)\n",
        "\n",
        "As you have noticed before, LU decomposition may fail. In order to make it stable, we can use LU decomposition with pivoting  (PLU).\n",
        "\n",
        "We want to find such permutation matrix $P$ that LU decomposition of $PA$ exists\n",
        "\n",
        "$$ PA = LU $$\n",
        "\n",
        "- (7 pts) Implement efficiently PLU decomposition (without loops and with appropriate level of BLAS operations).  Also, pay attention to the way of permutation matrix storage.\n",
        "\n",
        "- (4 pts ) Compare your function for computing PLU with built-in function on matrices of such type ```(mirror_diag = [1,2,1], n = 4)```. (Bandwidth and matrix size may vary). So, you can pass them as dense 2D NumPy array and do not tune your implementation to this special structure. Compare them in terms of running time (use ```%timeit``` magic) for range of dimensions to recover the asymptotic rate of time increasing and in terms of acuracy. We expect you plot the running time vs matrix dimension for built-in function and your implementation. So you should get the plot with two lines.\n",
        "Consider additionally one of the pathological examples from above, where LU fails, but PLU has to work.\n",
        "\n",
        "\n",
        "$$A = \\begin{bmatrix}\n",
        "0 & 0 & 1 & 1 \\\\\n",
        " 0 &1 & 2 & 1  \\\\\n",
        " 1 & 2 & 1  & 0\\\\\n",
        "1 & 2  & 0 & 0  \\\\\n",
        "\\end{bmatrix}.$$\n",
        "\n",
        "\n",
        "- (3 pts) Discuss the obtained results and explain how is it possible to accelerate computing the PLU factorization. \n",
        "\n",
        "NumPy or JAX are both ok in this problem, but please use the single library for all implementations. "
      ]
    },
    {
      "cell_type": "markdown",
      "metadata": {
        "id": "cuUwcFgBLBsv"
      },
      "source": [
        "In PLU decomposition we have some changes\n",
        "\n",
        "$$\\left[\\prod_{k = 1}^{n - 1}L_{n - k}P_{n - k}\\right] A = \\left[\\prod_{k = 1}^{n - 1}L_{n - k}P_{n - k}\\right] U_0 = \n",
        "\\left[\\prod_{k = 1}^{n - 2}L_{n - k}P_{n - k}\\right] U_1 = \\dots = L_{n - 1} P_{n - 1} U_{n - 2} = U_{n - 1} = U$$\n",
        "<!-- $$L_{n - 1} L_{n - 2} \\dots L_1 A = L_{n - 1} L_{n - 2} \\dots L_1 U_0 = L_{n - 1} L_{n - 2} \\dots L_2 U_1 = \n",
        "\\dots = L_{n - 1} U_{n - 2} = U_{n - 1} = U$$ -->\n",
        "<!-- $$A = \\left[\\prod_{k = 1}^{n - 1}L_{n - k}P_{n - k}\\right]^{-1}\\!\\!\\!\\! U = \\left[\\prod_{k = 1}^{n - 1}P_k L_k^{-1}\\right] U = PLU$$ -->\n",
        "<!-- $$A = L_1^{-1}L_2^{-1} \\dots L_{n - 1}^{-1}U = LU$$ -->\n",
        "\n",
        "The last transition is not obvious, so we can demonstrate it using the following trick\n",
        "$$\\forall j: P_j^{-1} = P_j,\\;P_jP_j = I \\Longrightarrow \n",
        "\\prod_{k = 1}^{n - 1}L_{n - k}P_{n - k} = L_{n - 1}P_{n - 1} \\dots \\Big[L_2 P_2\\Big] \\Big[L_1 P_1\\Big] =$$\n",
        "$$= L_{n - 1}P_{n - 1} \\dots \\Big[L_2 P_2\\Big] \\Big[L_1 P_2 P_2 P_1\\Big] = L_{n - 1}P_{n - 1} \\dots L_2 \\Big[P_2 L_1 P_2\\Big] P_2 P_1 = \n",
        "L_{n - 1}P_{n - 1} \\dots L_2 \\widetilde{L}_1 P_2 P_1$$\n",
        "\n",
        "Since multiplication of elimination metrix $L_k$ by any permutation matrix $P_j$ for $j > k$ from both sides leads to moving ones along \n",
        "the diagonal and permutation of corresponding values in $k$'th column of $L_k$ (leaving it lower diagonal with the same structure), \n",
        "we can conclude\n",
        "$$\\forall k > 1: \\widetilde{L}_k = \\widetilde{P}_{k + 1}L_k\\widetilde{L}_{k - 1}\\widetilde{P}_{k + 1}$$\n",
        "\n",
        "This fact enables us to write the following expression\n",
        "$$\\prod_{k = 1}^{n - 1}L_{n - k}P_{n - k} = \\prod_{k = 1}^{n - 1}\\widetilde{L}_{n - k}\\prod_{k = 1}^{n - 1}P_{n - k} = LP$$\n",
        "$$PA = \\left[\\prod_{k = 1}^{n - 1}P_{n - k}\\right]A = \\left[\\prod_{k = 1}^{n - 1}\\widetilde{L}_{n - k}\\right]^{-1}\\!\\!\\!\\! U = \n",
        "\\left[\\prod_{k = 1}^{n - 1}\\widetilde{L}_k^{-1}\\right] U = LU$$"
      ]
    },
    {
      "cell_type": "code",
      "metadata": {
        "id": "32HpfOPMOGIg"
      },
      "source": [
        "def fast_plu(A):\n",
        "    n = A.shape[0]\n",
        "    L = np.identity(n)\n",
        "    U = A.copy()\n",
        "    permutation = np.arange(0, n)\n",
        "\n",
        "    for j in range(n - 1):\n",
        "\n",
        "        # perform proper row permutation in matrices U and L\n",
        "        max_row_idx = np.argmax(np.abs(U[j:, j])) + j\n",
        "        permutation[[j, max_row_idx]] = permutation[[max_row_idx, j]]\n",
        "        U[[j, max_row_idx]] = U[[max_row_idx, j]]\n",
        "        L[[j, max_row_idx], :j] = L[[max_row_idx, j], :j]\n",
        "\n",
        "        # define proper coefficients for reverting row operations and put them into matrix L\n",
        "        eliminating_coefficients = U[j + 1:, j] / U[j, j]\n",
        "        L[j + 1:, j] = eliminating_coefficients\n",
        "\n",
        "        # perform one step of Gaussian elimination — zero out j'th column under j'th row in matrix A\n",
        "        U[j + 1:, :] = U[j + 1:, :] - eliminating_coefficients.reshape(-1, 1) * U[j, :]\n",
        "    \n",
        "    return permutation, L, U"
      ],
      "execution_count": null,
      "outputs": []
    },
    {
      "cell_type": "code",
      "metadata": {
        "id": "hqPEa902Rarm"
      },
      "source": [
        "def get_matrix_from_plu(permutation, L, U):\n",
        "    P = np.identity(len(permutation))\n",
        "\n",
        "    return np.linalg.inv(P[permutation]) @ L @ U"
      ],
      "execution_count": null,
      "outputs": []
    },
    {
      "cell_type": "code",
      "metadata": {
        "colab": {
          "base_uri": "https://localhost:8080/"
        },
        "id": "1dZ3wtX6SOzQ",
        "outputId": "01f1ca1f-b567-4c00-a107-d8f2348c8712"
      },
      "source": [
        "# A = np.random.rand(1000, 1000)\n",
        "A = np.flip(get_matrix_from_broadcast(diag_broadcast, 100), 1)\n",
        "permutation, L, U = fast_plu(A)\n",
        "np.allclose(get_matrix_from_plu(permutation, L, U), A)"
      ],
      "execution_count": null,
      "outputs": [
        {
          "output_type": "execute_result",
          "data": {
            "text/plain": [
              "True"
            ]
          },
          "metadata": {},
          "execution_count": 22
        }
      ]
    },
    {
      "cell_type": "code",
      "metadata": {
        "colab": {
          "base_uri": "https://localhost:8080/"
        },
        "id": "OSsX5EIk6BoL",
        "outputId": "6df63035-a515-416c-e54b-5191e69cbad8"
      },
      "source": [
        "execution_scipy_plu, execution_custom_plu = [], []\n",
        "nn = np.logspace(1, 3, 20).astype('int')\n",
        "\n",
        "for n in tqdm(nn):\n",
        "    # A = np.random.rand(n, n)\n",
        "    A = np.flip(get_matrix_from_broadcast(diag_broadcast, n), 1)\n",
        "\n",
        "    time = timeit.timeit(lambda: fast_plu(A), number=10) / 10\n",
        "    execution_custom_plu.append(time)\n",
        "    \n",
        "    time = timeit.timeit(lambda: scipy_lu(A), number=10) / 10\n",
        "    execution_scipy_plu.append(time)"
      ],
      "execution_count": null,
      "outputs": [
        {
          "output_type": "stream",
          "name": "stderr",
          "text": [
            "100%|██████████| 20/20 [04:35<00:00, 13.79s/it]\n"
          ]
        }
      ]
    },
    {
      "cell_type": "code",
      "metadata": {
        "colab": {
          "base_uri": "https://localhost:8080/",
          "height": 507
        },
        "id": "y-7Z7gJL6w6o",
        "outputId": "d566a7fb-3287-413b-c172-ad4522827661"
      },
      "source": [
        "plt.figure(figsize=(10, 8))\n",
        "\n",
        "plt.plot(nn, execution_custom_plu, label='custom PLU', marker='o')\n",
        "plt.plot(nn, execution_scipy_plu, label='scipy PLU', marker='o')\n",
        "plt.xlabel('matrix size, $n$', fontsize=14)\n",
        "plt.ylabel('execution time, s', fontsize=14)\n",
        "\n",
        "plt.yscale('log')\n",
        "plt.xscale('log')\n",
        "\n",
        "plt.legend(fontsize=14)\n",
        "plt.grid()\n",
        "plt.show()"
      ],
      "execution_count": null,
      "outputs": [
        {
          "output_type": "display_data",
          "data": {
            "image/png": "[encoded data removed]",
            "text/plain": [
              "<Figure size 720x576 with 1 Axes>"
            ]
          },
          "metadata": {
            "needs_background": "light"
          }
        }
      ]
    },
    {
      "cell_type": "markdown",
      "metadata": {
        "id": "pLhq-zuHKEDp"
      },
      "source": [
        "Scipy implementation is significantly faster probably because it employs linear algebra routine implemented in C or Fortran and \n",
        "has no python loops (which are quite slow)"
      ]
    },
    {
      "cell_type": "markdown",
      "metadata": {
        "id": "EQwdRJSIOGIg"
      },
      "source": [
        "### 4. Block LU (10 pts)\n",
        "\n",
        "Let $A = \\begin{bmatrix} A_{11} & A_{12} \\\\ A_{21} & A_{22} \\end{bmatrix}$ be a block matrix. The goal is to solve the linear system\n",
        "\n",
        "$$\n",
        "     \\begin{bmatrix} A_{11} & A_{12} \\\\ A_{21} & A_{22} \\end{bmatrix} \\begin{bmatrix} u_1 \\\\ u_2 \\end{bmatrix} = \\begin{bmatrix} f_1 \\\\ f_2 \\end{bmatrix}.\n",
        "$$\n",
        "\n",
        "* (2 pts) Using block elimination find matrix $S$ and right-hand side $\\hat{f_2}$ so that $u_2$ can be found from $S u_2 = \\hat{f_2}$. Note that the matrix $S$ is called <span style=\"color:red\">Schur complement</span> of the block $A_{11}$.\n",
        "* (4 pts) Using Schur complement properties prove that \n",
        "\n",
        "$$\\det(X+AB) = \\det(X)\\det(I+BX^{-1}A), $$\n",
        "\n",
        "\n",
        "where $X$ - nonsingular square matrix.\n",
        "* (4 pts) Let matrix $F \\in \\mathbb{R}^{m \\times n}$ and $G \\in \\mathbb{R}^{n \\times m}$. Prove that \n",
        "\n",
        "$$\\det(I_m - FG) = \\det(I_n - GF).$$"
      ]
    },
    {
      "cell_type": "markdown",
      "metadata": {
        "id": "66-guqX77aUu"
      },
      "source": [
        "4.1\n",
        "\n",
        "Based on the given equation, we can write the following system\n",
        "\n",
        "$$A_{11}u_1 + A_{12}u_2 = f_1$$\n",
        "$$A_{21}u_1 + A_{22}u_2 = f_2$$\n",
        "\n",
        "If matrix $A_{11}$ is invertable, we can left multiply the first equation by $A_{21}A_{11}^{-1}$\n",
        "\n",
        "$$A_{21}A_{11}^{-1}(A_{11}u_1 + A_{12}u_2) = A_{21}A_{11}^{-1}f_1 \\Longrightarrow \n",
        "A_{21}u_1 + A_{21}A_{11}^{-1}A_{12}u_2 = A_{21}A_{11}^{-1}f_1$$\n",
        "\n",
        "and subtract it from the second one\n",
        "\n",
        "$$A_{21}u_1 + A_{22}u_2 - A_{21}u_1 - A_{21}A_{11}^{-1}A_{12}u_2 = f_2 - A_{21}A_{11}^{-1}f_1$$\n",
        "$$\\Big[A_{22} - A_{21}A_{11}^{-1}A_{12}\\Big]u_2 = f_2 - A_{21}A_{11}^{-1}f_1$$\n",
        "\n",
        "Thus, the Schur complement $S$ and the right side $\\hat{f_2}$ of the equation are the following\n",
        "$$S = A_{22} - A_{21}A_{11}^{-1}A_{12},\\;\\hat{f_2} = f_2 - A_{21}A_{11}^{-1}f_1$$"
      ]
    },
    {
      "cell_type": "markdown",
      "metadata": {
        "id": "VxIdfFAmCmEj"
      },
      "source": [
        "4.2\n",
        "\n",
        "Let us prove the following equations first\n",
        "\n",
        "$$\\det{D} \\neq 0 \\Longrightarrow \\det{\\begin{bmatrix} A & B \\\\ C & D \\end{bmatrix}} = \\det\\Big[A-BD^{-1}C\\Big]\\cdot\\det{D}$$\n",
        "$$\\det{A} \\neq 0 \\Longrightarrow \\det{\\begin{bmatrix} A & B \\\\ C & D \\end{bmatrix}} = \\det{A}\\cdot\\det\\Big[D-CA^{-1}B\\Big]$$\n",
        "\n",
        "---\n",
        "\n",
        "$$\\begin{bmatrix} A & B \\\\ C & D \\end{bmatrix}\\begin{bmatrix} I & 0 \\\\ -D^{-1}C & I \\end{bmatrix} = \n",
        "\\begin{bmatrix} A-BD^{-1}C & B \\\\ 0 & D \\end{bmatrix}$$\n",
        "\n",
        "$$\\det{\\begin{bmatrix} A & B \\\\ C & D \\end{bmatrix}\\begin{bmatrix} I & 0 \\\\ -D^{-1}C & I \\end{bmatrix}} = \n",
        "\\det{\\begin{bmatrix} A & B \\\\ C & D \\end{bmatrix}}\\det{\\begin{bmatrix} I & 0 \\\\ -D^{-1}C & I \\end{bmatrix}} =\n",
        "\\det{\\begin{bmatrix} A-BD^{-1}C & B \\\\ 0 & D \\end{bmatrix}}$$\n",
        "\n",
        "$$\\det{\\begin{bmatrix} A & B \\\\ C & D \\end{bmatrix}} = \\det\\Big[A-BD^{-1}C\\Big]\\cdot \\det{D}$$\n",
        "\n",
        "---\n",
        "\n",
        "$$\\begin{bmatrix} A & 0 \\\\ C & I \\end{bmatrix}\\begin{bmatrix} I & A^{-1}B \\\\ 0 & D-CA^{-1}B \\end{bmatrix} = \n",
        "\\begin{bmatrix} A & B \\\\ C & D \\end{bmatrix}$$\n",
        "\n",
        "$$\\det{\\begin{bmatrix} A & 0 \\\\ C & I \\end{bmatrix}\\begin{bmatrix} I & A^{-1}B \\\\ 0 & D-CA^{-1}B \\end{bmatrix}} = \n",
        "\\det{\\begin{bmatrix} A & 0 \\\\ C & I \\end{bmatrix}}\\det{\\begin{bmatrix} I & A^{-1}B \\\\ 0 & D-CA^{-1}B \\end{bmatrix}} = \n",
        "\\det{\\begin{bmatrix} A & B \\\\ C & D \\end{bmatrix}}$$\n",
        "\n",
        "$$\\det{\\begin{bmatrix} A & B \\\\ C & D \\end{bmatrix}} = \\det{A}\\cdot\\det\\Big[D - CA^{-1}B\\Big]$$\n",
        "\n",
        "---\n",
        "\n",
        "Using the first equation, we can write\n",
        "\n",
        "$$\\det{\\begin{bmatrix} I & B \\\\ -A & X \\end{bmatrix}} = \\det\\Big[I + BX^{-1}A\\Big]\\cdot\\det{X}$$\n",
        "\n",
        "And using the second\n",
        "\n",
        "$$\\det{\\begin{bmatrix} I & B \\\\ -A & X \\end{bmatrix}} = \\det\\Big[X + AB\\Big]$$\n",
        "\n",
        "So we get\n",
        "$$\\det\\Big[X + AB\\Big] = \\det{X}\\cdot\\det\\Big[I + BX^{-1}A\\Big]$$"
      ]
    },
    {
      "cell_type": "markdown",
      "metadata": {
        "id": "IpPshN0RCnms"
      },
      "source": [
        "4.3\n",
        "\n",
        "We can again use the proven equations. In particular, the first one yields\n",
        "$$\\det{\\begin{bmatrix} I_m & F \\\\ G & I_n \\end{bmatrix}} = \\det{I_n}\\cdot\\det\\Big[I_m - FI_n^{-1}G\\Big] = \\det\\Big[I_m - FG\\Big]$$\n",
        "\n",
        "And the second one\n",
        "$$\\det{\\begin{bmatrix} I_m & F \\\\ G & I_n \\end{bmatrix}} = \\det{I_m}\\cdot\\det\\Big[I_n - GI_m^{-1}F\\Big] = \\det\\Big[I_n - GF\\Big]$$\n",
        "\n",
        "So we get\n",
        "$$\\det\\Big[I_n - GF\\Big] = \\det\\Big[I_m - FG\\Big]$$"
      ]
    },
    {
      "cell_type": "markdown",
      "metadata": {
        "id": "I_JQggewCNwk"
      },
      "source": [
        "## Problem 2 (eigenvalues)  (50 pts)"
      ]
    },
    {
      "cell_type": "markdown",
      "metadata": {
        "id": "dAVBk7lhO3h0"
      },
      "source": [
        "### 1. Theoretical tasks (15 pts)\n",
        "\n",
        "* (2 pts) Prove that eigenvectors that correspond to distinct eigenvalues are linearly independent.\n",
        "\n",
        "* (3 pts) $A$ is a matrix such that $a_{i,j} \\ge 0$ and $\\sum_{j}a_{i,j} = 1$ (sum of the elements in each row is 1). Prove that $A$ has an eigenvalue $\\lambda=1$ and that any eigenvalue $\\lambda_i$: $|\\lambda_i| \\le 1$.\n",
        "\n",
        "* (5 pts) Prove that normal matrix is Hermitian iff its eigenvalues are real. Prove that normal matrix is unitary iff its eigenvalues satisfy $|\\lambda| = 1$. \n",
        "\n",
        "* (5 pts) The following problem illustrates instability of the Jordan form. Find theoretically the eigenvalues of the perturbed Jordan block (there is only one $\\varepsilon$ - in the left lower corner):\n",
        "\n",
        "$$\n",
        "    J(\\varepsilon) = \n",
        "    \\begin{bmatrix} \n",
        "     \\lambda & 1 & & & 0 \\\\ \n",
        "     0 & \\lambda & 1 & & \\\\ \n",
        "     & 0 & \\ddots & \\ddots & \\\\ \n",
        "     & & 0 & \\lambda & 1 \\\\ \n",
        "     \\varepsilon & & & 0 & \\lambda  \\\\ \n",
        "    \\end{bmatrix}_{n\\times n}\n",
        "$$\n",
        "\n",
        "   Comment how eigenvalues of $J(0)$ are perturbed for large $n$."
      ]
    },
    {
      "cell_type": "markdown",
      "metadata": {
        "id": "VXv7XRe7xq12"
      },
      "source": [
        "2.1.1\n",
        "\n",
        "We can use induction by number $m$ of eigenvectors $v_k$ in linear combination. For the case of one eigenvector the statement is obvious. \n",
        "Suppose that it is also true for $m$ vectors\n",
        "$$\\sum\\limits_{k = 1}^m \\beta_k v_k = 0 \\Longrightarrow \\forall k \\leqslant m: \\beta_k = 0$$\n",
        "\n",
        "Let us consider $m + 1$ eigenvector and apply $A$ to both sides of equation\n",
        "$$A\\sum\\limits_{k = 1}^{m + 1} \\alpha_k v_k = \\sum\\limits_{k = 1}^{m + 1} A\\alpha_k v_k = \\sum\\limits_{k = 1}^{m + 1} \\alpha_k \\lambda_k v_k = 0$$\n",
        "\n",
        "After that, subtract the original linear combination mutiplied by $\\lambda_{m + 1}$\n",
        "$$\\sum\\limits_{k = 1}^{m + 1} \\alpha_k \\lambda_k v_k - \\sum\\limits_{k = 1}^{m + 1} \\alpha_k \\lambda_{m + 1} v_k = \n",
        "\\sum\\limits_{k = 1}^m \\big[\\lambda_k - \\lambda_{m + 1}\\big]\\alpha_k v_k = 0$$\n",
        "\n",
        "Since $\\lambda_k \\neq \\lambda_m$ when $k \\neq m$, by the assumption of the induction we have\n",
        "$$\\forall k \\leqslant m: \\alpha_k = 0 \\Longrightarrow \\sum\\limits_{k = 1}^{m + 1} \\alpha_k v_k = \\alpha_{m + 1} v_{m + 1} = 0,\\;\n",
        "\\alpha_{m + 1} = 0$$\n",
        "\n",
        "Thus, we get that $\\forall k \\leqslant m + 1: \\alpha_k = 0$, which performs another step of induction and concludes the proof\n",
        "\n",
        "2.1.2\n",
        "\n",
        "Let us consider the action of matrix A on the vector $v$ of all ones and denote the result as $u$\n",
        "$$\\forall i: v_i = 1,\\;u = Av \\Longrightarrow u_i = \\sum\\limits_{j = 1}^n a_{ij}v_j = \\sum\\limits_{j = 1}^n a_{ij} = 1 = v_i$$\n",
        "\n",
        "So we have $u = v$, which means that $v$ is the eigenvector of matrix $A$, and the corresponding eigenvalue is $1$.\n",
        "\n",
        "---\n",
        "\n",
        "Moreover, let us consider an arbitrary eigenvector $v$ of matrix $A$ with eigenvalue $\\lambda$, and let us denote \n",
        "$i = \\underset{j}{\\text{argmax}}\\,v_j$\n",
        "\n",
        "$$|\\lambda v_i| = \\left|\\sum\\limits_{j = 1}^n a_{ij}v_j\\right| \\leqslant \\sum\\limits_{j = 1}^n a_{ij} \\cdot |v_j| \\leqslant \n",
        "\\sum\\limits_{j = 1}^n a_{ij} \\cdot |v_i| = |v_i| \\Longrightarrow |\\lambda| \\leqslant 1$$\n",
        "\n",
        "The proof is concluded by the fact that it is true for every eigenvalue of matrix $A$"
      ]
    },
    {
      "cell_type": "markdown",
      "metadata": {
        "id": "gDJ-rX220jtr"
      },
      "source": [
        "2.1.3\n",
        "\n",
        "If normal matrix $A$ is Hermitian, then\n",
        "$$A = U\\Lambda U^*,\\;A^* = (U\\Lambda U^*)^* = U\\Lambda^* U^* \\Longrightarrow U\\Lambda U^* = U\\Lambda^* U^*,\\;\\Lambda = \\Lambda^*$$\n",
        "\n",
        "The last equation means that $\\forall j: \\lambda_j = \\overline{\\lambda_j}$, so $\\lambda_j$ are real. \n",
        "The reverse statement can be proved likewise\n",
        "$$A = U\\Lambda U^*,\\;\\Lambda = \\Lambda^* \\Longrightarrow A^* = (U\\Lambda U^*)^* = U\\Lambda^* U^* = U\\Lambda U^* = A$$\n",
        "\n",
        "---\n",
        "\n",
        "If normal matrix $A$ is unitary, then\n",
        "$$A = U\\Lambda U^*,\\;A^* = (U\\Lambda U^*)^* = U\\Lambda^* U^*$$\n",
        "$$I = AA^* = U\\Lambda U^*U\\Lambda^* U^* = U|\\Lambda|^2 U^* \\Longrightarrow I = U^*U = |\\Lambda|^2 = |\\Lambda|$$\n",
        "\n",
        "The last equation means that $\\forall j: |\\lambda_j| = 1$. The reverse statement can be proved likewise\n",
        "$$A = U\\Lambda U^*,\\;A^* = (U\\Lambda U^*)^* = U\\Lambda^* U^*$$\n",
        "$$AA^* = U\\Lambda U^*U\\Lambda^* U^* = U|\\Lambda|^2 U^* = U|\\Lambda| U^* = UU^* = I,\\;\n",
        "A^*A = ... = U^*U = I$$"
      ]
    },
    {
      "cell_type": "markdown",
      "metadata": {
        "id": "agSzVZrC6fl-"
      },
      "source": [
        "2.1.4\n",
        "\n",
        "$$\\det \\big[J(\\varepsilon) - \\beta I\\big] = (\\lambda - \\beta)\\begin{vmatrix}\n",
        "\\lambda - \\beta & 1 & 0 & \\dots & 0 \\\\ \n",
        "0 & \\lambda - \\beta & 1 & \\dots & 0 \\\\ \n",
        "0 & 0 & \\lambda - \\beta & \\dots & 0 \\\\ \n",
        "\\vdots & \\vdots & \\vdots & \\ddots & \\vdots \\\\ \n",
        "0 & 0 & 0 & \\dots & \\lambda - \\beta\n",
        "\\end{vmatrix} - \\begin{vmatrix}\n",
        "0 & 1 & 0 & \\dots & 0 \\\\ \n",
        "0 & \\lambda - \\beta & 1 & \\dots & 0 \\\\ \n",
        "0 & 0 & \\lambda - \\beta & \\dots & 0 \\\\ \n",
        "\\vdots & \\vdots & \\vdots & \\ddots & \\vdots \\\\ \n",
        "\\varepsilon & 0 & 0 & \\dots & \\lambda - \\beta\n",
        "\\end{vmatrix} =$$\n",
        "$$= (\\lambda - \\beta)^n - (-1)^n\\varepsilon = 0 \\Longrightarrow (\\lambda - \\beta)^n = (-1)^n\\varepsilon,\\;\n",
        "(\\beta - \\lambda)^n = \\varepsilon,\\;\\beta_n = \\lambda + (\\pm 1)^{n + 1} \\varepsilon^{1/n}$$\n",
        "\n",
        "$$\\lim_{n \\to \\infty}\\inf\\beta_n = \\lambda - 1,\\;\\lim_{n \\to \\infty}\\sup\\beta_n = \\lambda + 1$$\n",
        "\n",
        "It can be seen that for large $n$ the eigenvalues $\\beta_n$ are shifted by $+1$ or $-1$ from $\\lambda$"
      ]
    },
    {
      "cell_type": "markdown",
      "metadata": {
        "id": "xWcyqKyrOGIp"
      },
      "source": [
        "### 2. PageRank (35 pts)\n",
        "\n",
        "\n",
        "#### Damping factor importance\n",
        "\n",
        "* (5 pts) Write the function ```pagerank_matrix(G)``` that takes an adjacency matrix $G$ (in both sparse and dense formats) as an input and outputs the corresponding PageRank matrix $A$."
      ]
    },
    {
      "cell_type": "code",
      "metadata": {
        "id": "2jktwIc8OGIp"
      },
      "source": [
        "# INPUT:  G - np.ndarray or sparse matrix\n",
        "# OUTPUT: A - np.ndarray (of size G.shape) or sparse matrix\n",
        "\n",
        "def pagerank_matrix(G):\n",
        "    if isinstance(G, np.ndarray):\n",
        "        # consider G matrix as standard adjacency matrix — g[i, j] = 1 iff there is an edge from i to j\n",
        "        # matrix P is constructed in another way — p[i, j] = 1 iff there is an edge from j to i\n",
        "        P = G.T\n",
        "\n",
        "        # count out degree of every node by summing up the corresponding column\n",
        "        out_degrees = P.sum(axis=0)\n",
        "\n",
        "        # deal with zero values\n",
        "        out_degrees[out_degrees == 0] = 1\n",
        "\n",
        "        # normalize matrix P in order to obtain left stochastic matrix of transitio\n",
        "        return P @ np.diag(1 / out_degrees)\n",
        "    \n",
        "    elif isinstance(G, sp.sparse.csr_matrix):\n",
        "        P = G.T\n",
        "        out_degrees = P.sum(axis=0).A1\n",
        "        out_degrees[out_degrees == 0] = 1\n",
        "\n",
        "        return P @ sp.sparse.diags(1 / out_degrees)\n",
        "        \n",
        "    else:\n",
        "        raise NotImplementedError()"
      ],
      "execution_count": null,
      "outputs": []
    },
    {
      "cell_type": "markdown",
      "metadata": {
        "id": "JbijWENkrSJO"
      },
      "source": [
        "* (3 pts) Find PageRank matrix $A$ that corresponds to the following graph.\n",
        "What is its largest eigenvalue? What multiplicity does it have?"
      ]
    },
    {
      "cell_type": "code",
      "metadata": {
        "colab": {
          "base_uri": "https://localhost:8080/",
          "height": 244
        },
        "id": "334MoGVGrSyP",
        "outputId": "902114f7-aacb-4bc2-8938-49abbeb59ca0"
      },
      "source": [
        "from IPython.display import Image\n",
        "Image(filename='graph.png', width=300)"
      ],
      "execution_count": null,
      "outputs": [
        {
          "output_type": "execute_result",
          "data": {
            "image/png": "[encoded data removed]",
            "text/plain": [
              "<IPython.core.display.Image object>"
            ]
          },
          "metadata": {
            "image/png": {
              "width": 300
            }
          },
          "execution_count": 26
        }
      ]
    },
    {
      "cell_type": "code",
      "metadata": {
        "id": "YXxLicfVbh0v"
      },
      "source": [
        "G = np.array([[0, 1, 0, 0, 0],\n",
        "              [0, 0, 1, 0, 0],\n",
        "              [1, 1, 0, 0, 0],\n",
        "              [0, 0, 0, 0, 1],\n",
        "              [0, 0, 0, 1, 0]])\n",
        "\n",
        "# G = sp.sparse.csr_matrix(G)\n",
        "A = pagerank_matrix(G)"
      ],
      "execution_count": null,
      "outputs": []
    },
    {
      "cell_type": "code",
      "metadata": {
        "colab": {
          "base_uri": "https://localhost:8080/"
        },
        "id": "X55xFFjlcJt2",
        "outputId": "5cd0ef63-0309-4675-9512-0e45d909b6ed"
      },
      "source": [
        "A"
      ],
      "execution_count": null,
      "outputs": [
        {
          "output_type": "execute_result",
          "data": {
            "text/plain": [
              "array([[0. , 0. , 0.5, 0. , 0. ],\n",
              "       [1. , 0. , 0.5, 0. , 0. ],\n",
              "       [0. , 1. , 0. , 0. , 0. ],\n",
              "       [0. , 0. , 0. , 0. , 1. ],\n",
              "       [0. , 0. , 0. , 1. , 0. ]])"
            ]
          },
          "metadata": {},
          "execution_count": 28
        }
      ]
    },
    {
      "cell_type": "markdown",
      "metadata": {
        "id": "JOnPizcdgXbx"
      },
      "source": [
        "The largest eigenvalue is $1$ with multiplicity $2$"
      ]
    },
    {
      "cell_type": "code",
      "metadata": {
        "colab": {
          "base_uri": "https://localhost:8080/"
        },
        "id": "Q7zRVGqfctj6",
        "outputId": "2cc01300-4d66-4ea9-962b-1c45dc352ad8"
      },
      "source": [
        "np.linalg.eigvals(A)"
      ],
      "execution_count": null,
      "outputs": [
        {
          "output_type": "execute_result",
          "data": {
            "text/plain": [
              "array([-0.5+0.5j, -0.5-0.5j,  1. +0.j ,  1. +0.j , -1. +0.j ])"
            ]
          },
          "metadata": {},
          "execution_count": 29
        }
      ]
    },
    {
      "cell_type": "markdown",
      "metadata": {
        "id": "BtVmgGnYOGIs"
      },
      "source": [
        "* (5 pts) Implement the power method for a given matrix $A$, an initial guess $x_0$ and a number of iterations ```num_iter```. It should be organized as a function ```power_method(A, x0, num_iter)``` that outputs approximation to eigenvector $x$, eigenvalue $\\lambda$ and history of residuals $\\{\\|Ax_k - \\lambda_k x_k\\|_2\\}$. Make sure that the method converges to the correct solution on a matrix $\\begin{bmatrix} 2 & -1 \\\\ -1 & 2 \\end{bmatrix}$ which is known to have the largest eigenvalue equal to $3$."
      ]
    },
    {
      "cell_type": "code",
      "metadata": {
        "id": "uLo7A--rOGIs"
      },
      "source": [
        "# INPUT:  A - np.ndarray (2D), x0 - np.ndarray (1D), num_iter - integer (positive)\n",
        "# OUTPUT: x - np.ndarray (of size x0), l - float, res - np.ndarray (of size num_iter + 1 [include initial guess])\n",
        "\n",
        "def power_method(A, x0, num_iter):\n",
        "    x = x0.copy() / np.linalg.norm(x0)\n",
        "    history = []\n",
        "    \n",
        "    for i in range(num_iter):\n",
        "        x_map = A @ x\n",
        "        eigenvalue = np.dot(x_map, x)\n",
        "\n",
        "        history.append(np.linalg.norm(x_map - eigenvalue * x))\n",
        "        x = x_map / np.linalg.norm(x_map)\n",
        "    \n",
        "    x_map = A @ x\n",
        "    eigenvalue = np.dot(x_map, x)\n",
        "\n",
        "    history.append(np.linalg.norm(x_map - eigenvalue * x))\n",
        "    return x, eigenvalue, history"
      ],
      "execution_count": null,
      "outputs": []
    },
    {
      "cell_type": "code",
      "metadata": {
        "colab": {
          "base_uri": "https://localhost:8080/"
        },
        "id": "j5MtREAJiMfl",
        "outputId": "db3aface-e8aa-48a9-aeb1-9a4ae6f3051b"
      },
      "source": [
        "B = np.array([[2, -1],\n",
        "              [-1, 2]])\n",
        "\n",
        "eigenvector_approx, eigenvalue_approx, history = power_method(B, np.random.randn(2), 100)\n",
        "print(f'the approximate largest eigenvalue is {eigenvalue_approx:.4f}, while the true one is 3')"
      ],
      "execution_count": null,
      "outputs": [
        {
          "output_type": "stream",
          "name": "stdout",
          "text": [
            "the approximate largest eigenvalue is 3.0000, while the true one is 3\n"
          ]
        }
      ]
    },
    {
      "cell_type": "markdown",
      "metadata": {
        "id": "MMDUYNerjg8H"
      },
      "source": [
        "* (2 pts) Run the power method for the graph presented above and plot residuals $\\|Ax_k - \\lambda_k x_k\\|_2$ as a function of $k$ for ```num_iter=100``` and random initial guess ```x0```.  Explain the absence of convergence. "
      ]
    },
    {
      "cell_type": "code",
      "metadata": {
        "id": "Ax-IHKuOjhhT"
      },
      "source": [
        "eigenvector_approx, eigenvalue_approx, history = power_method(A, np.random.randn(A.shape[1]), 100)"
      ],
      "execution_count": null,
      "outputs": []
    },
    {
      "cell_type": "code",
      "metadata": {
        "colab": {
          "base_uri": "https://localhost:8080/",
          "height": 504
        },
        "id": "QA4NNv3Cj-YU",
        "outputId": "796c7e0a-3296-41f8-c294-6b4978711c10"
      },
      "source": [
        "plt.figure(figsize=(10, 8))\n",
        "plt.plot(range(len(history)), history)\n",
        "\n",
        "plt.xlabel('iteration, $k$', fontsize=14)\n",
        "plt.ylabel('residual', fontsize=14)\n",
        "\n",
        "plt.grid()\n",
        "plt.show()"
      ],
      "execution_count": null,
      "outputs": [
        {
          "output_type": "display_data",
          "data": {
            "image/png": "[encoded data removed]",
            "text/plain": [
              "<Figure size 720x576 with 1 Axes>"
            ]
          },
          "metadata": {
            "needs_background": "light"
          }
        }
      ]
    },
    {
      "cell_type": "code",
      "metadata": {
        "colab": {
          "base_uri": "https://localhost:8080/"
        },
        "id": "1-AAUVBvkzeT",
        "outputId": "67c623b8-60d0-486c-9939-7aca52999c47"
      },
      "source": [
        "np.linalg.eigvals(A)"
      ],
      "execution_count": null,
      "outputs": [
        {
          "output_type": "execute_result",
          "data": {
            "text/plain": [
              "array([-0.5+0.5j, -0.5-0.5j,  1. +0.j ,  1. +0.j , -1. +0.j ])"
            ]
          },
          "metadata": {},
          "execution_count": 34
        }
      ]
    },
    {
      "cell_type": "markdown",
      "metadata": {
        "id": "YHiSF406k2cV"
      },
      "source": [
        "Since there is no dominant eigenvalue — that is, $|\\lambda_2 / \\lambda_1| = 1$ because is $A$ has eigenvalues $1$ and $-1$ with equal module, \n",
        "the convergence is not guaranteed"
      ]
    },
    {
      "cell_type": "markdown",
      "metadata": {
        "id": "lI6SYMjQolY9"
      },
      "source": [
        "* (2 pts) Consider the same graph, but with additional self loop at node 4 (self loop is an edge that connects a vertex with itself). Plot residuals as in the previous task and discuss the convergence. Now, run the power method with ```num_iter=100``` for 10 different initial guesses and print/plot the resulting approximated eigenvectors. Why do they depend on the initial guess?"
      ]
    },
    {
      "cell_type": "code",
      "metadata": {
        "id": "KcMVH__Ho-T1"
      },
      "source": [
        "G_self_looped = G.copy()\n",
        "G_self_looped[4, 4] = 1\n",
        "A_self_looped = pagerank_matrix(G_self_looped)"
      ],
      "execution_count": null,
      "outputs": []
    },
    {
      "cell_type": "code",
      "metadata": {
        "id": "hzLG5UwCpThr"
      },
      "source": [
        "eigenvector_approx, eigenvalue_approx, history = power_method(A_self_looped, np.random.randn(A.shape[1]), 100)"
      ],
      "execution_count": null,
      "outputs": []
    },
    {
      "cell_type": "code",
      "metadata": {
        "colab": {
          "base_uri": "https://localhost:8080/",
          "height": 504
        },
        "id": "zoMNtoe1pURd",
        "outputId": "bdd87cf9-69ca-4cc1-bcea-012481a26aaa"
      },
      "source": [
        "plt.figure(figsize=(10, 8))\n",
        "plt.plot(range(len(history)), history)\n",
        "\n",
        "plt.xlabel('iteration, $k$', fontsize=14)\n",
        "plt.ylabel('residual', fontsize=14)\n",
        "\n",
        "plt.grid()\n",
        "plt.show()"
      ],
      "execution_count": null,
      "outputs": [
        {
          "output_type": "display_data",
          "data": {
            "image/png": "[encoded data removed]",
            "text/plain": [
              "<Figure size 720x576 with 1 Axes>"
            ]
          },
          "metadata": {
            "needs_background": "light"
          }
        }
      ]
    },
    {
      "cell_type": "code",
      "metadata": {
        "id": "cG1WE_1npvxo"
      },
      "source": [
        "n_runs = 10\n",
        "eigenvector_per_run = []\n",
        "\n",
        "for i in range(n_runs):\n",
        "    eigenvector_approx, eigenvalue_approx, history = power_method(A_self_looped, np.random.randn(A.shape[1]), 100)\n",
        "    eigenvector_per_run.append(eigenvector_approx)"
      ],
      "execution_count": null,
      "outputs": []
    },
    {
      "cell_type": "code",
      "metadata": {
        "colab": {
          "base_uri": "https://localhost:8080/"
        },
        "id": "ZsM0BJukrPB4",
        "outputId": "f1fd51f9-12bc-49c5-e40b-9dc3801dc82e"
      },
      "source": [
        "eigenvector_per_run = np.array(eigenvector_per_run)\n",
        "np.sort(np.abs(eigenvector_per_run), axis=0)"
      ],
      "execution_count": null,
      "outputs": [
        {
          "output_type": "execute_result",
          "data": {
            "text/plain": [
              "array([[0.0021773 , 0.00435461, 0.00435461, 0.11649361, 0.23298721],\n",
              "       [0.04750546, 0.09501092, 0.09501092, 0.16122805, 0.3224561 ],\n",
              "       [0.18998466, 0.37996932, 0.37996932, 0.25664582, 0.51329164],\n",
              "       [0.20136621, 0.40273242, 0.40273242, 0.30333568, 0.60667136],\n",
              "       [0.21728497, 0.43456994, 0.43456994, 0.32741918, 0.65483835],\n",
              "       [0.22705443, 0.45410885, 0.45410885, 0.33914161, 0.67828323],\n",
              "       [0.24493476, 0.48986952, 0.48986952, 0.35638879, 0.71277758],\n",
              "       [0.27298038, 0.54596077, 0.54596077, 0.36746496, 0.73492991],\n",
              "       [0.31091756, 0.62183513, 0.62183513, 0.44264864, 0.88529727],\n",
              "       [0.32182573, 0.64365146, 0.64365146, 0.44720406, 0.89440811]])"
            ]
          },
          "metadata": {},
          "execution_count": 39
        }
      ]
    },
    {
      "cell_type": "code",
      "metadata": {
        "colab": {
          "base_uri": "https://localhost:8080/"
        },
        "id": "X9owxCqBtVq9",
        "outputId": "f70b1ba9-b516-49c9-a3c4-5be7f65863fe"
      },
      "source": [
        "np.linalg.eigvals(A_self_looped)"
      ],
      "execution_count": null,
      "outputs": [
        {
          "output_type": "execute_result",
          "data": {
            "text/plain": [
              "array([-0.5+0.5j, -0.5-0.5j,  1. +0.j , -0.5+0.j ,  1. +0.j ])"
            ]
          },
          "metadata": {},
          "execution_count": 40
        }
      ]
    },
    {
      "cell_type": "markdown",
      "metadata": {
        "id": "Pi90JvnKuYyi"
      },
      "source": [
        "Matrix $A$ doen't have eigenvalue $-1$, so the convergence is now guaranteed. However, the eigenvalue $1$ has multiplicity $2$, \n",
        "and since $A$ is diagonalizable (in particular, algebraic and geometric multiplicities are equal for any eigenvalue), there are two \n",
        "eigenvectors corresponding to this eigenvalue, so the iteration process converges to some random linear combination in the subspace spanned by these vectors \n",
        "(as I understand, it depends on the initial vector $x_0$)"
      ]
    },
    {
      "cell_type": "markdown",
      "metadata": {
        "id": "9hAowO6zOGIu"
      },
      "source": [
        "In order to avoid this problem Larry Page and Sergey Brin [proposed](http://ilpubs.stanford.edu:8090/422/1/1999-66.pdf) to use the following regularization technique:\n",
        "\n",
        "$$\n",
        "A_d = dA + \\frac{1-d}{N} \\begin{bmatrix} 1 & \\dots & 1 \\\\ \\vdots & & \\vdots \\\\ 1 & \\dots & 1 \\end{bmatrix},\n",
        "$$\n",
        "\n",
        "where $d$ is a small parameter in $[0,1]$ (typically $d=0.85$), which is called **damping factor**, $A$ is of size $N\\times N$. Now $A_d$ is the matrix with multiplicity of the largest eigenvalue equal to 1. \n",
        "Recall that computing the eigenvector of the PageRank matrix, which corresponds to the largest eigenvalue, has the following interpretation. Consider a person who stays in a random node of a graph (i.e. opens a random web page); at each step s/he follows one of the outcoming edges uniformly at random (i.e. opens one of the links). So the person randomly walks through the graph and the eigenvector we are looking for is exactly his/her stationary distribution for each node it tells you the probability of visiting this particular node. Therefore, if the person has started from a part of the graph which is not connected with the other part, he will never get there.  In the regularized model, the person at each step follows one of the outcoming links with probability $d$ OR teleports to a random node from the whole graph with probability $(1-d)$.\n",
        "\n",
        "* (2 pts) Now, run the power method with $A_d$ and plot residuals $\\|A_d x_k - \\lambda_k x_k\\|_2$ as a function of $k$ for $d=0.97$, ```num_iter=100``` and a random initial guess ```x0```."
      ]
    },
    {
      "cell_type": "code",
      "metadata": {
        "id": "qpLBvhUuG8jH"
      },
      "source": [
        "def power_method_damping(A, x0, num_iter, d):\n",
        "    A = d * A.copy() + (1 - d) / A.shape[0] * np.ones_like(A)\n",
        "    \n",
        "    return power_method(A, x0, num_iter)"
      ],
      "execution_count": null,
      "outputs": []
    },
    {
      "cell_type": "code",
      "metadata": {
        "id": "aZchDJ4kH_Nr"
      },
      "source": [
        "eigenvector_approx, eigenvalue_approx, history = power_method(A_self_looped, np.random.randn(A.shape[1]), 100)"
      ],
      "execution_count": null,
      "outputs": []
    },
    {
      "cell_type": "code",
      "metadata": {
        "colab": {
          "base_uri": "https://localhost:8080/",
          "height": 504
        },
        "id": "Cnu6cqKLH_Nr",
        "outputId": "85ec19e3-d81f-41f7-a8a6-d3787f0641a7"
      },
      "source": [
        "plt.figure(figsize=(10, 8))\n",
        "plt.plot(range(len(history)), history)\n",
        "\n",
        "plt.xlabel('iteration, $k$', fontsize=14)\n",
        "plt.ylabel('residual', fontsize=14)\n",
        "\n",
        "plt.grid()\n",
        "plt.show()"
      ],
      "execution_count": null,
      "outputs": [
        {
          "output_type": "display_data",
          "data": {
            "image/png": "[encoded data removed]",
            "text/plain": [
              "<Figure size 720x576 with 1 Axes>"
            ]
          },
          "metadata": {
            "needs_background": "light"
          }
        }
      ]
    },
    {
      "cell_type": "markdown",
      "metadata": {
        "id": "yqnYtenoIwHo"
      },
      "source": [
        "* (5 pts) Find the second largest in the absolute value eigenvalue of the obtained matrix $A_d$. How and why is it connected to the damping factor $d$? What is the convergence rate of the PageRank algorithm when using damping factor?"
      ]
    },
    {
      "cell_type": "code",
      "metadata": {
        "colab": {
          "base_uri": "https://localhost:8080/"
        },
        "id": "VBk8GsK1Iwrl",
        "outputId": "8619893b-39d3-40d3-9116-0b8a4fea8d9f"
      },
      "source": [
        "d = 0.97\n",
        "A_damping = d * A_self_looped.copy() + (1 - d) / A.shape[0] * np.ones_like(A)\n",
        "np.linalg.eigvals(A_damping)"
      ],
      "execution_count": null,
      "outputs": [
        {
          "output_type": "execute_result",
          "data": {
            "text/plain": [
              "array([-0.485+0.485j, -0.485-0.485j,  1.   +0.j   ,  0.97 +0.j   ,\n",
              "       -0.485+0.j   ])"
            ]
          },
          "metadata": {},
          "execution_count": 44
        }
      ]
    },
    {
      "cell_type": "markdown",
      "metadata": {
        "id": "QwJGsvqtJEX5"
      },
      "source": [
        "The second largest eigenvalue of matrix $A_d$ is $d = 0.97$, and the convergence rate is $|\\lambda_2 / \\lambda_1| = d$"
      ]
    },
    {
      "cell_type": "markdown",
      "metadata": {
        "id": "HXS2hqgxG9yD"
      },
      "source": [
        "Usually, graphs that arise in various areas are sparse (social, web, road networks, etc.) and, thus, computation of a matrix-vector product for corresponding PageRank matrix $A$ is much cheaper than $\\mathcal{O}(N^2)$. However, if $A_d$ is calculated directly, it becomes dense and, therefore, $\\mathcal{O}(N^2)$ cost grows prohibitively large for  big $N$.\n",
        "\n",
        "\n",
        "* (2 pts) Implement fast matrix-vector product for $A_d$ as a function ```pagerank_matvec(A, d, x)```, which takes a PageRank matrix $A$ (in sparse format, e.g., ```csr_matrix```), damping factor $d$ and a vector $x$ as an input and returns $A_dx$ as an output. \n",
        "\n",
        "* (1 pts) Generate a random adjacency matrix of size $10000 \\times 10000$ with only 100 non-zero elements and compare ```pagerank_matvec``` performance with direct evaluation of $A_dx$."
      ]
    },
    {
      "cell_type": "code",
      "metadata": {
        "id": "4o3LKx5UOGIv"
      },
      "source": [
        "# INPUT:  A - np.ndarray (2D), d - float (from 0.0 to 1.0), x - np.ndarray (1D, size of A.shape[0/1])\n",
        "# OUTPUT: y - np.ndarray (1D, size of x)\n",
        "\n",
        "def pagerank_matvec_sparse(A, d, x):\n",
        "    return d * A @ x + ((1 - d) / A.shape[0] * x.sum()) * np.ones_like(x)\n",
        "\n",
        "def pagerank_matvec_dense(A, d, x):\n",
        "    return (d * A + (1 - d) / A.shape[0] * np.ones_like(A)) @ x"
      ],
      "execution_count": null,
      "outputs": []
    },
    {
      "cell_type": "code",
      "metadata": {
        "id": "UXX87QPoLQMB"
      },
      "source": [
        "d = 0.97\n",
        "A = sp.sparse.random(10000, 10000, 100 / (10000 * 10000))\n",
        "x = np.random.randn(10000)"
      ],
      "execution_count": null,
      "outputs": []
    },
    {
      "cell_type": "code",
      "metadata": {
        "id": "Ej1qTO1EMJ5X"
      },
      "source": [
        "A_dense = A.todense()"
      ],
      "execution_count": null,
      "outputs": []
    },
    {
      "cell_type": "code",
      "metadata": {
        "id": "SBgYBpyhLl7W"
      },
      "source": [
        "time_sparse = timeit.timeit(lambda: pagerank_matvec_sparse(A, d, x), number=10) / 10"
      ],
      "execution_count": null,
      "outputs": []
    },
    {
      "cell_type": "code",
      "metadata": {
        "id": "c-Irr6N7MTDz"
      },
      "source": [
        "time_dense = timeit.timeit(lambda: pagerank_matvec_dense(A_dense, d, x), number=10) / 10"
      ],
      "execution_count": null,
      "outputs": []
    },
    {
      "cell_type": "code",
      "metadata": {
        "colab": {
          "base_uri": "https://localhost:8080/"
        },
        "id": "tsfrEsdNMkSz",
        "outputId": "455d8319-3daa-4318-8975-0e2e716051bc"
      },
      "source": [
        "time_dense / time_sparse"
      ],
      "execution_count": null,
      "outputs": [
        {
          "output_type": "execute_result",
          "data": {
            "text/plain": [
              "16041.936054671356"
            ]
          },
          "metadata": {},
          "execution_count": 50
        }
      ]
    },
    {
      "cell_type": "markdown",
      "metadata": {
        "id": "55fRvFCyMjPV"
      },
      "source": [
        "Sparse implementation is thousands times faster"
      ]
    },
    {
      "cell_type": "markdown",
      "metadata": {
        "id": "ru70NGUlOGIy"
      },
      "source": [
        "#### DBLP: computer science bibliography\n",
        "\n",
        "Download the dataset from [here](https://goo.gl/oZVxEa), unzip it and put `dblp_authors.npz`  and `dblp_graph.npz` in the same folder with this notebook. Each value (author name) from `dblp_authors.npz` corresponds to the row/column of the matrix from `dblp_graph.npz`. Value at row `i` and column `j` of the matrix from `dblp_graph.npz` corresponds to the number of times author `i` cited papers of the author `j`. Let us now find the most significant scientists according to PageRank model over DBLP data.\n",
        "\n",
        "* (4 pts) Load the weighted adjacency matrix and the authors list into Python using ```load_dblp(...)``` function. Print its density (fraction of nonzero elements). Find top-10 most cited authors from the weighted adjacency matrix. Now, make all the weights of the adjacency matrix equal to 1 for simplicity (consider only existence of connection between authors, not its weight). Obtain the PageRank matrix $A$ from the adjacency matrix and verify that it is stochastic."
      ]
    },
    {
      "cell_type": "code",
      "metadata": {
        "id": "VnkQGnEHNSi3"
      },
      "source": [
        "from scipy.sparse import load_npz"
      ],
      "execution_count": null,
      "outputs": []
    },
    {
      "cell_type": "code",
      "metadata": {
        "id": "L5ZnW7m-OGIz"
      },
      "source": [
        "def load_dblp(path_auth, path_graph):\n",
        "    G = load_npz(path_graph).astype(float)\n",
        "\n",
        "    with np.load(path_auth) as data: \n",
        "        authors = data['authors']\n",
        "        \n",
        "    return G, authors"
      ],
      "execution_count": null,
      "outputs": []
    },
    {
      "cell_type": "code",
      "metadata": {
        "id": "QynfixvjOGI1"
      },
      "source": [
        "G, authors = load_dblp('dblp_authors.npz', 'dblp_graph.npz')"
      ],
      "execution_count": null,
      "outputs": []
    },
    {
      "cell_type": "code",
      "metadata": {
        "colab": {
          "base_uri": "https://localhost:8080/"
        },
        "id": "o3AyFLDiN6y7",
        "outputId": "d58389fc-2900-416d-d508-e1a1a3bb99c2"
      },
      "source": [
        "print(f'matrix density: {G.getnnz() / (G.shape[0] * G.shape[1]):.6f}')"
      ],
      "execution_count": null,
      "outputs": [
        {
          "output_type": "stream",
          "name": "stdout",
          "text": [
            "matrix density: 0.000045\n"
          ]
        }
      ]
    },
    {
      "cell_type": "code",
      "metadata": {
        "id": "HNu5DlqTQlmN"
      },
      "source": [
        "top_author_indices, top = G.sum(axis=0).argsort().A1, 10"
      ],
      "execution_count": null,
      "outputs": []
    },
    {
      "cell_type": "code",
      "metadata": {
        "colab": {
          "base_uri": "https://localhost:8080/"
        },
        "id": "sDdln9x6OPtb",
        "outputId": "74927936-b96f-4707-caa0-49c97855e86f"
      },
      "source": [
        "print(f'top {top} most cited authors\\n{authors[top_author_indices[-top:][::-1]]}')"
      ],
      "execution_count": null,
      "outputs": [
        {
          "output_type": "stream",
          "name": "stdout",
          "text": [
            "top 10 most cited authors\n",
            "['Scott Shenker' 'Andrew Zisserman' 'Hari Balakrishnan' 'Jiawei Han'\n",
            " 'Anil K. Jain' 'Cordelia Schmid' 'Jitendra Malik' 'Ion Stoica'\n",
            " 'David E. Culler' 'David G. Lowe']\n"
          ]
        }
      ]
    },
    {
      "cell_type": "code",
      "metadata": {
        "id": "WBU8vD90MpQN"
      },
      "source": [
        "G.data[:] = 1\n",
        "G_sparse = sp.sparse.csr_matrix(G)"
      ],
      "execution_count": null,
      "outputs": []
    },
    {
      "cell_type": "code",
      "metadata": {
        "id": "leDpYXMtMpQN"
      },
      "source": [
        "A = pagerank_matrix(G_sparse)"
      ],
      "execution_count": null,
      "outputs": []
    },
    {
      "cell_type": "code",
      "metadata": {
        "colab": {
          "base_uri": "https://localhost:8080/"
        },
        "id": "bXkJYmpdUe6z",
        "outputId": "e62bcafd-d55d-41d3-a574-f9d5cbe03a89"
      },
      "source": [
        "A.sum(axis=0).max(), A.sum(axis=0).min()"
      ],
      "execution_count": null,
      "outputs": [
        {
          "output_type": "execute_result",
          "data": {
            "text/plain": [
              "(1.0000000000000004, 0.0)"
            ]
          },
          "metadata": {},
          "execution_count": 59
        }
      ]
    },
    {
      "cell_type": "markdown",
      "metadata": {
        "id": "ZKQ8tespXWfl"
      },
      "source": [
        "Matrix $A$ is almost stochastic — there are zero columns just because it contains nodes which do not have any out edges, \n",
        "but damping factor helps to deal with it"
      ]
    },
    {
      "cell_type": "markdown",
      "metadata": {
        "id": "Cw1AxlXbY9BV"
      },
      "source": [
        "* (1 pts) In order to provide ```pagerank_matvec``` to your ```power_method``` (without rewriting it) for fast calculation of $A_dx$, you can create a ```LinearOperator```: \n",
        "```python\n",
        "L = scipy.sparse.linalg.LinearOperator(A.shape, matvec=lambda x, A=A, d=d: pagerank_matvec(A, d, x))\n",
        "```\n",
        "Calling ```L@x``` or ```L.dot(x)``` will result in calculation of ```pagerank_matvec(A, d, x)``` and, thus, you can plug $L$ instead of the matrix $A$ in the ```power_method``` directly. **Note:** though in the previous subtask graph was very small (so you could disparage fast matvec implementation), here it is very large (but sparse), so that direct evaluation of $A_dx$ will require $\\sim 10^{12}$ matrix elements to store - good luck with that (^_<)."
      ]
    },
    {
      "cell_type": "code",
      "metadata": {
        "id": "EiFgxjd2YdLn"
      },
      "source": [
        "from scipy.sparse.linalg import LinearOperator"
      ],
      "execution_count": null,
      "outputs": []
    },
    {
      "cell_type": "code",
      "metadata": {
        "id": "Cwea98sUMpQO"
      },
      "source": [
        "d = 0.85"
      ],
      "execution_count": null,
      "outputs": []
    },
    {
      "cell_type": "code",
      "metadata": {
        "id": "GZS1otAcMpQO"
      },
      "source": [
        "L = LinearOperator(A.shape, matvec=lambda x, A=A, d=d: pagerank_matvec_sparse(A, d, x))"
      ],
      "execution_count": null,
      "outputs": []
    },
    {
      "cell_type": "markdown",
      "metadata": {
        "id": "M2X2GeqKZAyL"
      },
      "source": [
        "* (2 pts) Run the power method starting from the vector of all ones and plot residuals $\\|A_dx_k - \\lambda_k x_k\\|_2$  as a function of $k$ for $d=0.85$."
      ]
    },
    {
      "cell_type": "code",
      "metadata": {
        "colab": {
          "base_uri": "https://localhost:8080/"
        },
        "id": "A72Oz8nwZDHl",
        "outputId": "668c128e-0578-4121-d504-566b2f547012"
      },
      "source": [
        "%%time\n",
        "eigenvector_approx, eigenvalue_approx, history = power_method(L, np.ones(A.shape[1]), 100)"
      ],
      "execution_count": null,
      "outputs": [
        {
          "output_type": "stream",
          "name": "stdout",
          "text": [
            "CPU times: user 2min 23s, sys: 11.7 s, total: 2min 35s\n",
            "Wall time: 2min 22s\n"
          ]
        }
      ]
    },
    {
      "cell_type": "code",
      "metadata": {
        "colab": {
          "base_uri": "https://localhost:8080/",
          "height": 504
        },
        "id": "BpB5BuXkbEGx",
        "outputId": "282da7ce-67cc-4b58-b9a7-c93bc3cee5e3"
      },
      "source": [
        "plt.figure(figsize=(10, 8))\n",
        "plt.plot(range(len(history)), history)\n",
        "\n",
        "plt.xlabel('iteration, $k$', fontsize=14)\n",
        "plt.ylabel('residual', fontsize=14)\n",
        "\n",
        "plt.grid()\n",
        "plt.show()"
      ],
      "execution_count": null,
      "outputs": [
        {
          "output_type": "display_data",
          "data": {
            "image/png": "[encoded data removed]",
            "text/plain": [
              "<Figure size 720x576 with 1 Axes>"
            ]
          },
          "metadata": {
            "needs_background": "light"
          }
        }
      ]
    },
    {
      "cell_type": "markdown",
      "metadata": {
        "id": "NJAr600lZCWi"
      },
      "source": [
        "* (1 pts) Print names of the top-10 authors according to PageRank over DBLP when $d=0.85$. Comment on your findings."
      ]
    },
    {
      "cell_type": "code",
      "metadata": {
        "id": "M-KjzfDsbJFh"
      },
      "source": [
        "top_author_indices, top = eigenvector_approx.argsort(), 10"
      ],
      "execution_count": null,
      "outputs": []
    },
    {
      "cell_type": "code",
      "metadata": {
        "colab": {
          "base_uri": "https://localhost:8080/"
        },
        "id": "oJr2ETlEbF-O",
        "outputId": "9e026a9f-f214-45dc-e83e-81078b580c67"
      },
      "source": [
        "print(f'top {top} important authors according to PageRank\\n{authors[top_author_indices[-top:][::-1]]}')"
      ],
      "execution_count": null,
      "outputs": [
        {
          "output_type": "stream",
          "name": "stdout",
          "text": [
            "top 10 important authors according to PageRank\n",
            "['David E. Goldberg' 'Richard M. Karp' 'John E. Hopcroft'\n",
            " 'Azriel Rosenfeld' 'Ronald L. Rivest' 'Anil K. Jain' 'Takeo Kanade'\n",
            " 'Alfred V. Aho' 'Robert Endre Tarjan' 'Gerard Salton']\n"
          ]
        }
      ]
    },
    {
      "cell_type": "markdown",
      "metadata": {
        "id": "hQ2vaIyMOGI3"
      },
      "source": [
        "## Problem 3. QR algorithm (33 pts)\n",
        "\n",
        "* Implement QR-algorithm without shifts. Prototype of the function is given below"
      ]
    },
    {
      "cell_type": "markdown",
      "metadata": {
        "id": "eughzmlz3WfM"
      },
      "source": [
        "The pure QR algorithm can be described as\n",
        "$$A_1 = A,\\;Q_kR_k = A_k \\Longrightarrow A_{k + 1} = R_kQ_k$$\n",
        "$$R_k = Q_k^*A_k,\\;\\widetilde{Q}_k = \\prod_{i = 1}^k Q_i,\\;\\widetilde{R}_k = \\prod_{i = k}^1 R_i \n",
        "\\Longrightarrow A_{k + 1} = R_kQ_k = Q_k^*A_kQ_k = \\widetilde{Q}_k^*A\\widetilde{Q}_k$$\n",
        "\n",
        "Here we obtain the approximation of eigenvalues in power method manner\n",
        "$$Q_{k + 1}R_{k + 1} = \\widetilde{Q}_k^*A\\widetilde{Q}_k \\Longrightarrow\n",
        "\\widetilde{Q}_{k + 1}R_{k + 1} = A\\widetilde{Q}_k,\\;A^k = \\prod_{i = 1}^k A_1 = \\prod_{i = 1}^k Q_1R_1 = \n",
        "Q_1\\left[\\prod_{i = 1}^k A_2\\right]R_1 = \\dots = \\widetilde{Q}_k\\widetilde{R}_k$$"
      ]
    },
    {
      "cell_type": "code",
      "metadata": {
        "id": "rMHBZLojOGI3"
      },
      "source": [
        "# INPUT: A_init - square matrix, \n",
        "#        num_iter - number of iterations for QR algorithm\n",
        "\n",
        "# OUTPUT: Ak - transformed matrix A_init given by QR algorithm, \n",
        "#         convergence - numpy array of shape (num_iter, ), \n",
        "#         where we store the maximal number from the Chebyshev norm \n",
        "#         of triangular part of the Ak for every iteration\n",
        "\n",
        "def qr_algorithm(A_init, num_iter):\n",
        "    A = A_init.copy()\n",
        "    history = []\n",
        "\n",
        "    for i in range(num_iter):\n",
        "        Q, R = np.linalg.qr(A)\n",
        "        A = R @ Q\n",
        "        triangular_norm = np.max(np.abs(np.tril(A) - np.diag(np.diag(A))))\n",
        "        history.append(triangular_norm)\n",
        "\n",
        "    return A, history"
      ],
      "execution_count": null,
      "outputs": []
    },
    {
      "cell_type": "markdown",
      "metadata": {
        "id": "UNrCBNRUOGI6"
      },
      "source": [
        "#### Symmetric case (3 pts)\n",
        "- Create symmetric tridiagonal $11 \\times 11$ matrix with elements $-1, 2, -1$ on sub-, main- and upper diagonal respectively without using loops.\n",
        "- Run $400$ iterations of the QR algorithm for this matrix.\n",
        "- Plot the output matrix with function ```plt.spy(Ak, precision=1e-7)```.\n",
        "- Plot convergence of QR-algorithm."
      ]
    },
    {
      "cell_type": "code",
      "metadata": {
        "id": "NuKwQGXbOGI6"
      },
      "source": [
        "size = 11\n",
        "A = np.diag([2] * size) + np.diag([-1] * (size - 1), -1) + np.diag([-1] * (size - 1), 1)"
      ],
      "execution_count": null,
      "outputs": []
    },
    {
      "cell_type": "code",
      "metadata": {
        "colab": {
          "base_uri": "https://localhost:8080/"
        },
        "id": "s0Ohfp6ofMEm",
        "outputId": "c0b7f4f3-8e53-4b15-cea3-8fc6a548f77c"
      },
      "source": [
        "np.sort(np.abs(np.linalg.eig(A)[0]))"
      ],
      "execution_count": null,
      "outputs": [
        {
          "output_type": "execute_result",
          "data": {
            "text/plain": [
              "array([0.06814835, 0.26794919, 0.58578644, 1.        , 1.48236191,\n",
              "       2.        , 2.51763809, 3.        , 3.41421356, 3.73205081,\n",
              "       3.93185165])"
            ]
          },
          "metadata": {},
          "execution_count": 6
        }
      ]
    },
    {
      "cell_type": "code",
      "metadata": {
        "id": "lg06WG47P1fA"
      },
      "source": [
        "A, history_pure_symmetric = qr_algorithm(A, 400)"
      ],
      "execution_count": null,
      "outputs": []
    },
    {
      "cell_type": "code",
      "metadata": {
        "colab": {
          "base_uri": "https://localhost:8080/",
          "height": 485
        },
        "id": "cU8OSQFPP553",
        "outputId": "3e5c631a-7a84-4411-b18f-b74f50a754ad"
      },
      "source": [
        "plt.figure(figsize=(8, 8))\n",
        "plt.spy(A, precision=1e-7)\n",
        "plt.grid()\n",
        "plt.show()"
      ],
      "execution_count": null,
      "outputs": [
        {
          "output_type": "display_data",
          "data": {
            "image/png": "[encoded data removed]",
            "text/plain": [
              "<Figure size 576x576 with 1 Axes>"
            ]
          },
          "metadata": {
            "needs_background": "light"
          }
        }
      ]
    },
    {
      "cell_type": "code",
      "metadata": {
        "colab": {
          "base_uri": "https://localhost:8080/",
          "height": 504
        },
        "id": "UjGPECPMQDiC",
        "outputId": "e250552a-5d10-4bf9-fd1c-2fb94c1e1b17"
      },
      "source": [
        "plt.figure(figsize=(10, 8))\n",
        "plt.plot(history_pure_symmetric)\n",
        "\n",
        "plt.xlabel('iteration, $n$', fontsize=14)\n",
        "plt.ylabel('Chebyshev norm of subdiagonal part', fontsize=14)\n",
        "\n",
        "plt.yscale('log')\n",
        "plt.grid()\n",
        "plt.show()"
      ],
      "execution_count": null,
      "outputs": [
        {
          "output_type": "display_data",
          "data": {
            "image/png": "[encoded data removed]",
            "text/plain": [
              "<Figure size 720x576 with 1 Axes>"
            ]
          },
          "metadata": {
            "needs_background": "light"
          }
        }
      ]
    },
    {
      "cell_type": "markdown",
      "metadata": {
        "id": "-lomV2K-OGI8"
      },
      "source": [
        "#### Nonsymmetric case (5 pts)\n",
        "\n",
        "- Create nonsymmetric tridiagonal $11 \\times 11$ matrix with elements $5, 3, -2$ on sub-, main- and upper diagonal respectively without using loops.\n",
        "- Run $250$ iterations of the QR algorithm for this matrix.\n",
        "- Plot the result matrix with function ```plt.spy(Ak, precision=1e-7)```. Is this matrix lower triangular? How does this correspond to the claim about convergence of the QR algorithm?"
      ]
    },
    {
      "cell_type": "code",
      "metadata": {
        "id": "C2lGBHjaOGI9"
      },
      "source": [
        "size = 11\n",
        "A = np.diag([3] * size) + np.diag([5] * (size - 1), -1) + np.diag([-2] * (size - 1), 1)"
      ],
      "execution_count": null,
      "outputs": []
    },
    {
      "cell_type": "code",
      "metadata": {
        "colab": {
          "base_uri": "https://localhost:8080/"
        },
        "id": "aGQ0ALOvfBf-",
        "outputId": "b97baa11-6ecc-479c-a669-4f863993b23e"
      },
      "source": [
        "np.sort(np.abs(np.linalg.eig(A)[0]))"
      ],
      "execution_count": null,
      "outputs": [
        {
          "output_type": "execute_result",
          "data": {
            "text/plain": [
              "array([3.        , 3.41752717, 3.41752717, 4.35889894, 4.35889894,\n",
              "       5.38516481, 5.38516481, 6.244998  , 6.244998  , 6.80591714,\n",
              "       6.80591714])"
            ]
          },
          "metadata": {},
          "execution_count": 11
        }
      ]
    },
    {
      "cell_type": "code",
      "metadata": {
        "id": "zBV5V5nQQd9s"
      },
      "source": [
        "A, history_pure_non_symmetric = qr_algorithm(A, 250)"
      ],
      "execution_count": null,
      "outputs": []
    },
    {
      "cell_type": "code",
      "metadata": {
        "colab": {
          "base_uri": "https://localhost:8080/",
          "height": 485
        },
        "id": "kzgj6DArQhbT",
        "outputId": "a86456e1-6b8b-4ee6-a8ef-e1ce49955dde"
      },
      "source": [
        "plt.figure(figsize=(8, 8))\n",
        "plt.spy(A, precision=1e-7)\n",
        "plt.grid()\n",
        "plt.show()"
      ],
      "execution_count": null,
      "outputs": [
        {
          "output_type": "display_data",
          "data": {
            "image/png": "[encoded data removed]",
            "text/plain": [
              "<Figure size 576x576 with 1 Axes>"
            ]
          },
          "metadata": {
            "needs_background": "light"
          }
        }
      ]
    },
    {
      "cell_type": "code",
      "metadata": {
        "colab": {
          "base_uri": "https://localhost:8080/",
          "height": 504
        },
        "id": "xKL0mcVzQo4k",
        "outputId": "b37fbd0d-703d-4203-ba12-d34987d8ac52"
      },
      "source": [
        "plt.figure(figsize=(10, 8))\n",
        "plt.plot(history_pure_non_symmetric)\n",
        "\n",
        "plt.xlabel('iteration, $n$', fontsize=14)\n",
        "plt.ylabel('Chebyshev norm of subdiagonal part', fontsize=14)\n",
        "\n",
        "plt.yscale('log')\n",
        "plt.grid()\n",
        "plt.show()"
      ],
      "execution_count": null,
      "outputs": [
        {
          "output_type": "display_data",
          "data": {
            "image/png": "[encoded data removed]",
            "text/plain": [
              "<Figure size 720x576 with 1 Axes>"
            ]
          },
          "metadata": {
            "needs_background": "light"
          }
        }
      ]
    },
    {
      "cell_type": "markdown",
      "metadata": {
        "id": "X1mCTWE5dGHi"
      },
      "source": [
        "As can be seen, the matrix is not upper triangular. Taking into account the relation between QR algorithm and power method, the absence of convergence here can be explained by the fact that $\\lambda_1 = \\lambda_2$  — consequently, the second leading submatrix of $A_n$ describes some $2$-dimensional subspace. As it was discussed in the section about power method, it violates the condition of convergence \n",
        "$|\\lambda_2 / \\lambda_1| < 1$"
      ]
    },
    {
      "cell_type": "code",
      "metadata": {
        "colab": {
          "base_uri": "https://localhost:8080/"
        },
        "id": "M2rkFkP6VB8r",
        "outputId": "c67cc6f9-4054-4de5-fe7b-79fc934aff72"
      },
      "source": [
        "A[:2, :2]"
      ],
      "execution_count": null,
      "outputs": [
        {
          "output_type": "execute_result",
          "data": {
            "text/plain": [
              "array([[ 3.25699246, -5.99656164],\n",
              "       [ 6.23466503,  2.74300754]])"
            ]
          },
          "metadata": {},
          "execution_count": 15
        }
      ]
    },
    {
      "cell_type": "markdown",
      "metadata": {
        "id": "VROTCKQ_CNwo"
      },
      "source": [
        "### QR algorithms with Rayleigh Quotient shift (10 pts)\n",
        "\n",
        "In the lectures the Rayleigh Quotient shift was introduced to speed up convergence of power method. Here we ask you to generalize this approach to construct the shifts in QR algorithm.\n",
        "\n",
        "- How to compute the Rayleigh Quotient shift in QR algorithm fast? Provide formulas and explanations how they can be simplified.\n",
        "- Implement explicit QR algorithm with Rayleigh Quotient shift. Please do not worry about implicit orthogonalization, we want to compare convergence only in terms of iterations.\n",
        "- Test your implementation in the symmetric case. Plot the convergence of QR algorithm with and without shift. Choose the dimension $n \\sim 100 $ for more representative results. \n",
        "- How the convergence of the shifted algorithm compares to the simple QR? Why? "
      ]
    },
    {
      "cell_type": "markdown",
      "metadata": {
        "id": "pXpHC5Ya5rKW"
      },
      "source": [
        "The QR algorithm with shifts can be described as\n",
        "$$A_1 = A,\\;Q_kR_k = A_k - \\mu_k I \\Longrightarrow A_{k + 1} = R_kQ_k + \\mu_k I$$\n",
        "$$R_k = Q_k^*\\Big[A_k - \\mu_k I\\Big],\\;\\widetilde{Q}_k = \\prod_{i = 1}^k Q_i,\\;\\widetilde{R}_k = \\prod_{i = k}^1 R_i \n",
        "\\Longrightarrow A_{k + 1} = R_kQ_k + \\mu_k I =$$\n",
        "$$= Q_k^*\\Big[A_k - \\mu_k I\\Big]Q_k + \\mu_k I = \n",
        "Q_k^*A_kQ_k - \\mu_k Q_k^*Q_k + \\mu_k I = Q_k^*A_kQ_k = \\widetilde{Q}_k^*A\\widetilde{Q}_k$$\n",
        "\n",
        "The Rayleigh quotient shift is defined as\n",
        "$$\\mu_k = \\frac{(q_k^n)^*Aq_k^n}{(q_k^n)^*q_k^n} = (q_k^n)^*Aq_k^n$$\n",
        "\n",
        "Here $q_k^n$ represents the $n$'th column of matrix $\\widetilde{Q}_k$. The expression can be simplified in such way\n",
        "$$\\mu_k = (q_k^n)^*Aq_k^n = (e^n)^T\\widetilde{Q}_k^*A\\widetilde{Q}_ke^n = (e^n)^T A_{k + 1}e^n = \\big[A_{k + 1}\\big]_{nn}$$"
      ]
    },
    {
      "cell_type": "code",
      "metadata": {
        "id": "tc0ZjeILCNwo"
      },
      "source": [
        "def qr_algorithm_rayleigh(A_init, num_iter):\n",
        "    A = A_init.copy()\n",
        "    history = []\n",
        "\n",
        "    for i in range(num_iter):\n",
        "        mu_rayleigh = A[-1, -1]\n",
        "        Q, R = np.linalg.qr(A - mu_rayleigh * np.identity(len(A)), mode='complete')\n",
        "        A = R @ Q + mu_rayleigh * np.identity(len(A))\n",
        "\n",
        "        significant_lower_triangular = np.tril(A, -1) * (np.abs(np.tril(A, -1)) > 1e-8)\n",
        "        significant_upper_triangular = np.triu(A, 1) * (np.abs(np.triu(A, 1)) > 1e-8)\n",
        "        A = np.diag(np.diag(A)) + significant_lower_triangular + significant_upper_triangular\n",
        "\n",
        "        triangular_norm = np.max(np.abs(np.tril(A, -1)))\n",
        "        history.append(triangular_norm)\n",
        "\n",
        "    return A, history"
      ],
      "execution_count": null,
      "outputs": []
    },
    {
      "cell_type": "code",
      "metadata": {
        "id": "XxqmP-kFAGuA"
      },
      "source": [
        "size = 100\n",
        "A_init = np.diag([2] * size) + np.diag([-1] * (size - 1), -1) + np.diag([-1] * (size - 1), 1)"
      ],
      "execution_count": null,
      "outputs": []
    },
    {
      "cell_type": "code",
      "metadata": {
        "id": "3H0JpdAfAGuB"
      },
      "source": [
        "A, history_pure_symmetric = qr_algorithm(A_init, int(1e3))"
      ],
      "execution_count": null,
      "outputs": []
    },
    {
      "cell_type": "code",
      "metadata": {
        "colab": {
          "base_uri": "https://localhost:8080/",
          "height": 485
        },
        "id": "GeDXbuyhAGuB",
        "outputId": "6ddba6f8-5a25-41d1-a712-3d25a9eddb3e"
      },
      "source": [
        "plt.figure(figsize=(8, 8))\n",
        "plt.spy(A, precision=1e-7)\n",
        "plt.grid()\n",
        "plt.show()"
      ],
      "execution_count": null,
      "outputs": [
        {
          "output_type": "display_data",
          "data": {
            "image/png": "[encoded data removed]",
            "text/plain": [
              "<Figure size 576x576 with 1 Axes>"
            ]
          },
          "metadata": {
            "needs_background": "light"
          }
        }
      ]
    },
    {
      "cell_type": "code",
      "metadata": {
        "id": "GJDlx3K4A73x"
      },
      "source": [
        "A, history_rayleigh_symmetric = qr_algorithm_rayleigh(A_init, int(1e3))"
      ],
      "execution_count": null,
      "outputs": []
    },
    {
      "cell_type": "code",
      "metadata": {
        "colab": {
          "base_uri": "https://localhost:8080/",
          "height": 485
        },
        "id": "t6wm-2rNA73y",
        "outputId": "059a55a9-6898-436a-9552-1e1dc891134e"
      },
      "source": [
        "plt.figure(figsize=(8, 8))\n",
        "plt.spy(A, precision=1e-7)\n",
        "plt.grid()\n",
        "plt.show()"
      ],
      "execution_count": null,
      "outputs": [
        {
          "output_type": "display_data",
          "data": {
            "image/png": "[encoded data removed]",
            "text/plain": [
              "<Figure size 576x576 with 1 Axes>"
            ]
          },
          "metadata": {
            "needs_background": "light"
          }
        }
      ]
    },
    {
      "cell_type": "code",
      "metadata": {
        "colab": {
          "base_uri": "https://localhost:8080/",
          "height": 504
        },
        "id": "g8HCu6GDAGuB",
        "outputId": "1eef558b-fc81-4592-a21f-fddd40571aa5"
      },
      "source": [
        "plt.figure(figsize=(10, 8))\n",
        "plt.plot(history_pure_symmetric, label='pure QR')\n",
        "plt.plot(history_rayleigh_symmetric, label='QR with Rayleigh')\n",
        "\n",
        "plt.xlabel('iteration, $n$', fontsize=14)\n",
        "plt.ylabel('Chebyshev norm of subdiagonal part', fontsize=14)\n",
        "\n",
        "plt.yscale('log')\n",
        "plt.legend(fontsize=14)\n",
        "plt.grid()\n",
        "plt.show()"
      ],
      "execution_count": null,
      "outputs": [
        {
          "output_type": "display_data",
          "data": {
            "image/png": "[encoded data removed]",
            "text/plain": [
              "<Figure size 720x576 with 1 Axes>"
            ]
          },
          "metadata": {
            "needs_background": "light"
          }
        }
      ]
    },
    {
      "cell_type": "markdown",
      "metadata": {
        "id": "4T4kYqp9BxYU"
      },
      "source": [
        "It was expected that the QR algorithm with Rayleigh quotient is faster, but I somehow couldn't manage to implement it...\n",
        "<!-- We can see that the convergence in case of Rayleigh quotient is much faster -->"
      ]
    },
    {
      "cell_type": "markdown",
      "metadata": {
        "id": "o_FUVv_qCNwp"
      },
      "source": [
        "- Try QR with Rayleigh Quotient shift for a simple matrix $A = \\begin{bmatrix}\n",
        "0 & 1 \\\\\n",
        "1 & 0\n",
        "\\end{bmatrix}$. Does anything change from iteration to iteration? Does shift affect convergence here? Why?"
      ]
    },
    {
      "cell_type": "code",
      "metadata": {
        "id": "TbhEyUDsCNwp"
      },
      "source": [
        "A_init = np.array([[0, 1], [1, 0]])"
      ],
      "execution_count": null,
      "outputs": []
    },
    {
      "cell_type": "code",
      "metadata": {
        "id": "VvFAy0zlB9TK"
      },
      "source": [
        "A, history_rayleigh_simple = qr_algorithm_rayleigh(A_init, 400)"
      ],
      "execution_count": null,
      "outputs": []
    },
    {
      "cell_type": "code",
      "metadata": {
        "colab": {
          "base_uri": "https://localhost:8080/",
          "height": 485
        },
        "id": "2vNKMO_DCFT4",
        "outputId": "bd6e2664-2217-42f5-8342-acca0713629b"
      },
      "source": [
        "plt.figure(figsize=(8, 8))\n",
        "plt.spy(A, precision=1e-7)\n",
        "plt.grid()\n",
        "plt.show()"
      ],
      "execution_count": null,
      "outputs": [
        {
          "output_type": "display_data",
          "data": {
            "image/png": "[encoded data removed]",
            "text/plain": [
              "<Figure size 576x576 with 1 Axes>"
            ]
          },
          "metadata": {
            "needs_background": "light"
          }
        }
      ]
    },
    {
      "cell_type": "code",
      "metadata": {
        "colab": {
          "base_uri": "https://localhost:8080/"
        },
        "id": "DDHtf6bWDzrd",
        "outputId": "3fa9aea5-b4f2-4a20-cb30-9d2dc05ce8c6"
      },
      "source": [
        "np.where(np.array(history_rayleigh_simple) != 1)[0]"
      ],
      "execution_count": null,
      "outputs": [
        {
          "output_type": "execute_result",
          "data": {
            "text/plain": [
              "array([], dtype=int64)"
            ]
          },
          "metadata": {},
          "execution_count": 90
        }
      ]
    },
    {
      "cell_type": "markdown",
      "metadata": {
        "id": "YB9AA6bvCnWh"
      },
      "source": [
        "It's obvious that nothing changes, so let us check why"
      ]
    },
    {
      "cell_type": "code",
      "metadata": {
        "colab": {
          "base_uri": "https://localhost:8080/"
        },
        "id": "lfH_8IpHERsK",
        "outputId": "c4aaa970-1450-4de1-a736-3c768cd5bcd1"
      },
      "source": [
        "A"
      ],
      "execution_count": null,
      "outputs": [
        {
          "output_type": "execute_result",
          "data": {
            "text/plain": [
              "array([[0., 1.],\n",
              "       [1., 0.]])"
            ]
          },
          "metadata": {},
          "execution_count": 91
        }
      ]
    },
    {
      "cell_type": "code",
      "metadata": {
        "id": "ugmqr10-EK7y"
      },
      "source": [
        "q, r = np.linalg.qr(A)"
      ],
      "execution_count": null,
      "outputs": []
    },
    {
      "cell_type": "code",
      "metadata": {
        "colab": {
          "base_uri": "https://localhost:8080/"
        },
        "id": "xGWVE8fIE2db",
        "outputId": "0275b1bd-886b-4dd3-f990-4eebe703be93"
      },
      "source": [
        "r @ q"
      ],
      "execution_count": null,
      "outputs": [
        {
          "output_type": "execute_result",
          "data": {
            "text/plain": [
              "array([[0., 1.],\n",
              "       [1., 0.]])"
            ]
          },
          "metadata": {},
          "execution_count": 93
        }
      ]
    },
    {
      "cell_type": "markdown",
      "metadata": {
        "id": "_ssxdnAnGv3C"
      },
      "source": [
        "Since every Rayleigh quotient $\\mu_k$ equals to $0$, shifted QR is the same as pure QR algorithm, so the $Q_k$ and $R_k$ factors are \n",
        "also the same at every iteration which makes the algorithm stuck"
      ]
    },
    {
      "cell_type": "markdown",
      "metadata": {
        "id": "v1GFppQECNwp"
      },
      "source": [
        "### QR with Wilkinson shift  (15 pts)\n",
        "\n",
        "To solve the problem that appears in the last example, we can use the Wilkinson shift:\n",
        "\n",
        "$$\\mu = a_m - \\frac {sign(\\delta) b^2_{m-1}} {(|\\delta| + \\sqrt{\\delta^2 + b^2_{m-1}} )},$$\n",
        "\n",
        "where $\\delta = \\frac{(a_{m-1} - a_m)}{2}$. If $\\delta = 0$, then instead of $sign(\\delta)$ you have to choose $1$ or $-1$ arbitrary.\n",
        "The numbers $a_m, b_{m-1}, a_{m-1}$ are taken from matrix $B$:\n",
        "\n",
        "$$\n",
        "    B = \n",
        "    \\begin{bmatrix} \n",
        "     a_{m-1} & b_{m-1} \\\\ \n",
        "     b_{m-1} & a_m \\\\ \n",
        "    \\end{bmatrix},\n",
        "$$  \n",
        "which is a lower right bottom submatrix of $A^{(k)}$. Here $k$ is an iteration counter in QR algorithm.\n",
        "\n",
        "- Compare convergence in the symmetric cases: \n",
        "    - distinctive eigenvalues\n",
        "    - two coincident eigenvalues\n",
        "    - maximum and minimum eigenvalues with the same absolute value\n",
        "Choose the dimension $n \\sim 100 $ for more representative results.\n",
        "What do you observe? "
      ]
    },
    {
      "cell_type": "code",
      "metadata": {
        "id": "VVj6TjHMCNwp"
      },
      "source": [
        "def calculate_wilkinson_shift(A):\n",
        "    B = A[-2:, -2:]\n",
        "    delta = (B[0, 0] - B[1, 1]) / 2\n",
        "    mu_wilkinson = B[1, 1] - (int(delta == 0) + np.sign(delta)) * B[0, 1] ** 2 / (np.abs(delta) + np.sqrt(delta ** 2 + B[0, 1] ** 2))\n",
        "    return mu_wilkinson\n",
        "\n",
        "def qr_algorithm_wilkinson(A_init, num_iter):\n",
        "    A = A_init.copy()\n",
        "    history = []\n",
        "\n",
        "    for i in range(num_iter):\n",
        "        mu_wilkinson = calculate_wilkinson_shift(A)\n",
        "        Q, R = np.linalg.qr(A - mu_wilkinson * np.identity(len(A)))\n",
        "        A = R @ Q + mu_wilkinson * np.identity(len(A))\n",
        "\n",
        "        triangular_norm = np.max(np.abs(np.tril(A) - np.diag(np.diag(A))))\n",
        "        history.append(triangular_norm)\n",
        "\n",
        "    return A, history"
      ],
      "execution_count": null,
      "outputs": []
    },
    {
      "cell_type": "code",
      "metadata": {
        "id": "q1mOw_2BOQQo"
      },
      "source": [
        "size = 100\n",
        "A_init = np.diag([2] * size) + np.diag([-1] * (size - 1), -1) + np.diag([-1] * (size - 1), 1)"
      ],
      "execution_count": null,
      "outputs": []
    },
    {
      "cell_type": "code",
      "metadata": {
        "id": "8tX1bNygOzeY"
      },
      "source": [
        "_, history_pure_distinctive = qr_algorithm(A_init, int(1e3))"
      ],
      "execution_count": null,
      "outputs": []
    },
    {
      "cell_type": "code",
      "metadata": {
        "id": "2Ow6LGo6OQQp"
      },
      "source": [
        "_, history_rayleigh_distinctive = qr_algorithm_rayleigh(A_init, int(1e3))"
      ],
      "execution_count": null,
      "outputs": []
    },
    {
      "cell_type": "code",
      "metadata": {
        "id": "LmUKpCMXPE_O"
      },
      "source": [
        "_, history_wilkinson_distinctive = qr_algorithm_wilkinson(A_init, int(1e3))"
      ],
      "execution_count": null,
      "outputs": []
    },
    {
      "cell_type": "code",
      "metadata": {
        "colab": {
          "base_uri": "https://localhost:8080/",
          "height": 504
        },
        "id": "knZH6zuKOQQp",
        "outputId": "ce7080ea-264a-4ec6-c4f2-f3b0f7a0fdb7"
      },
      "source": [
        "plt.figure(figsize=(10, 8))\n",
        "plt.plot(history_pure_distinctive, label='pure QR')\n",
        "plt.plot(history_rayleigh_distinctive, label='QR with Rayleigh')\n",
        "plt.plot(history_wilkinson_distinctive, label='QR with Wilkinson')\n",
        "\n",
        "plt.xlabel('iteration, $n$', fontsize=14)\n",
        "plt.ylabel('Chebyshev norm of subdiagonal part', fontsize=14)\n",
        "\n",
        "plt.yscale('log')\n",
        "plt.legend(fontsize=14)\n",
        "plt.grid()\n",
        "plt.show()"
      ],
      "execution_count": null,
      "outputs": [
        {
          "output_type": "display_data",
          "data": {
            "image/png": "[encoded data removed]",
            "text/plain": [
              "<Figure size 720x576 with 1 Axes>"
            ]
          },
          "metadata": {
            "needs_background": "light"
          }
        }
      ]
    },
    {
      "cell_type": "markdown",
      "metadata": {
        "id": "bePO8f_o1bFW"
      },
      "source": [
        "And the same with Wilkinson, my bad"
      ]
    },
    {
      "cell_type": "markdown",
      "metadata": {
        "id": "c_8OYe7wOGI-"
      },
      "source": [
        "## Problem 4. (Movie Recommender system) 15 pts\n",
        "\n",
        "Imagine the world without NLA where you have free evenings and you can watch movies!  \n",
        "But it is always hard to choose a movie to watch. \n",
        "In this problem we suggest you to build your own movie recommender system based on SVD decomposition, so you can combine two perfect things: Numerical Linear Algebra and cinematography!"
      ]
    },
    {
      "cell_type": "markdown",
      "metadata": {
        "id": "W2duSA-Su7CI"
      },
      "source": [
        "In order to build recommender system you need data. \n",
        "Here you are https://grouplens.org/datasets/movielens/1m/\n",
        "\n",
        "Usually all recommender systems may be devided into two groups\n",
        "\n",
        "#### Collaborative filtering. \n",
        "\n",
        "This approach is based on user-item interaction.\n",
        "It has one important assumption: user who has liked an item in the past will also likes the same in the future. Suppose the user A likes the films about vampires. \n",
        "He is Twilight saga fan and he has watched the film \"What we do in the shadows\" and liked it or unliked it, in other words he evaluated it somehow. And suppose another user B, who has the similair behavior to the first user (he is also Twilight saga fan). And the chance, that he will estimate \"What we do in the shadows\" in the same way that user A did, is huge. So, the purpose of the collaborative filtering is to predict a user's behavior based on behavior of the simular users.\n",
        "\n",
        "#### Content based filtering.\n",
        "\n",
        "Collaborative filtering has some essential flaws. The main one is called \"cold start\". \"Cold start\" happens when the new user comes and he has not react anyhow to the items. So we do not know his past behavior and we do not know what to advise. Here content based filtering helps. Often resources gather some extra info about users and items before a user comes down to utilising the resource. So, for example we would know that user likes horror movies before he watched anything on the resource."
      ]
    },
    {
      "cell_type": "markdown",
      "metadata": {
        "id": "mMvQV1zSu7Cg"
      },
      "source": [
        "\n",
        "- In this task you will implement Collaborative filtering based on SVD (we will use the function from the proper package and check if the result recommender system advices the similar movies)"
      ]
    },
    {
      "cell_type": "markdown",
      "metadata": {
        "id": "tMN7EK6gu7Ch"
      },
      "source": [
        "1) (1 pts)  Explore the data. Construct the interaction matrix $M$ of size $m \\times n$ which contains the information of how a certain user rated a certain film. \n",
        "\n",
        "2) (5 pts)  Compute SVD of this matrix. Remeber that matrix $M$ is sparse (one user can hardly watch all the movies) so the good choice would be to use method from ```scipy.sparse.linalg``` package\n",
        "\n",
        "$$ M = USV^{\\top}, $$\n",
        "\n",
        "where $U$ is a $m \\times r $ orthogonal matrix with left singular vectors, which represents the relationship between users and latent factors, $S$ is a $r \\times r $ diagonal matrix, which describes the strength of each latent factor and $V^\\top$ is a $r \\times n$ matrix with right singular vectors, which represent the embeddings of  items (movies in our case) in latent space.\n",
        "Describe any simple heuristic to choose appropriate value for $r$ and explain why do you expect that it will work.\n"
      ]
    },
    {
      "cell_type": "markdown",
      "metadata": {
        "id": "fsUEG4vYsuWI"
      },
      "source": [
        "https://files.grouplens.org/datasets/movielens/ml-1m-README.txt"
      ]
    },
    {
      "cell_type": "code",
      "metadata": {
        "id": "qxYtnm7au7Ci"
      },
      "source": [
        "import numpy as np\n",
        "import pandas as pd\n",
        "\n",
        "import scipy.sparse as sp\n",
        "import scipy.sparse.linalg as linalgs"
      ],
      "execution_count": null,
      "outputs": []
    },
    {
      "cell_type": "code",
      "metadata": {
        "id": "ZWPJHycIrFt4"
      },
      "source": [
        "ratings = pd.read_csv('movie-data/ratings.dat', delimiter='::', header=None, \n",
        "                      names=['UserID', 'MovieID', 'Rating', 'Timestamp'], engine='python')"
      ],
      "execution_count": null,
      "outputs": []
    },
    {
      "cell_type": "code",
      "metadata": {
        "colab": {
          "base_uri": "https://localhost:8080/",
          "height": 206
        },
        "id": "FwBC7fcxtMWh",
        "outputId": "55cdaf0f-ac45-4314-d5ec-3f6ca066f8ac"
      },
      "source": [
        "ratings.head()"
      ],
      "execution_count": null,
      "outputs": [
        {
          "output_type": "execute_result",
          "data": {
            "text/html": [
              "<div>\n",
              "<style scoped>\n",
              "    .dataframe tbody tr th:only-of-type {\n",
              "        vertical-align: middle;\n",
              "    }\n",
              "\n",
              "    .dataframe tbody tr th {\n",
              "        vertical-align: top;\n",
              "    }\n",
              "\n",
              "    .dataframe thead th {\n",
              "        text-align: right;\n",
              "    }\n",
              "</style>\n",
              "<table border=\"1\" class=\"dataframe\">\n",
              "  <thead>\n",
              "    <tr style=\"text-align: right;\">\n",
              "      <th></th>\n",
              "      <th>UserID</th>\n",
              "      <th>MovieID</th>\n",
              "      <th>Rating</th>\n",
              "      <th>Timestamp</th>\n",
              "    </tr>\n",
              "  </thead>\n",
              "  <tbody>\n",
              "    <tr>\n",
              "      <th>0</th>\n",
              "      <td>1</td>\n",
              "      <td>1193</td>\n",
              "      <td>5</td>\n",
              "      <td>978300760</td>\n",
              "    </tr>\n",
              "    <tr>\n",
              "      <th>1</th>\n",
              "      <td>1</td>\n",
              "      <td>661</td>\n",
              "      <td>3</td>\n",
              "      <td>978302109</td>\n",
              "    </tr>\n",
              "    <tr>\n",
              "      <th>2</th>\n",
              "      <td>1</td>\n",
              "      <td>914</td>\n",
              "      <td>3</td>\n",
              "      <td>978301968</td>\n",
              "    </tr>\n",
              "    <tr>\n",
              "      <th>3</th>\n",
              "      <td>1</td>\n",
              "      <td>3408</td>\n",
              "      <td>4</td>\n",
              "      <td>978300275</td>\n",
              "    </tr>\n",
              "    <tr>\n",
              "      <th>4</th>\n",
              "      <td>1</td>\n",
              "      <td>2355</td>\n",
              "      <td>5</td>\n",
              "      <td>978824291</td>\n",
              "    </tr>\n",
              "  </tbody>\n",
              "</table>\n",
              "</div>"
            ],
            "text/plain": [
              "   UserID  MovieID  Rating  Timestamp\n",
              "0       1     1193       5  978300760\n",
              "1       1      661       3  978302109\n",
              "2       1      914       3  978301968\n",
              "3       1     3408       4  978300275\n",
              "4       1     2355       5  978824291"
            ]
          },
          "metadata": {},
          "execution_count": 102
        }
      ]
    },
    {
      "cell_type": "code",
      "metadata": {
        "id": "SiTUWOlBrx8B"
      },
      "source": [
        "users = pd.read_csv('movie-data/users.dat', delimiter='::', header=None, \n",
        "                    names=['UserID', 'Gender', 'Age', 'Occupation', 'Zip-code'], engine='python')"
      ],
      "execution_count": null,
      "outputs": []
    },
    {
      "cell_type": "code",
      "metadata": {
        "colab": {
          "base_uri": "https://localhost:8080/",
          "height": 206
        },
        "id": "9t60F7sXtOxn",
        "outputId": "574bd95d-840e-4167-b886-1e659e0175ac"
      },
      "source": [
        "users.head()"
      ],
      "execution_count": null,
      "outputs": [
        {
          "output_type": "execute_result",
          "data": {
            "text/html": [
              "<div>\n",
              "<style scoped>\n",
              "    .dataframe tbody tr th:only-of-type {\n",
              "        vertical-align: middle;\n",
              "    }\n",
              "\n",
              "    .dataframe tbody tr th {\n",
              "        vertical-align: top;\n",
              "    }\n",
              "\n",
              "    .dataframe thead th {\n",
              "        text-align: right;\n",
              "    }\n",
              "</style>\n",
              "<table border=\"1\" class=\"dataframe\">\n",
              "  <thead>\n",
              "    <tr style=\"text-align: right;\">\n",
              "      <th></th>\n",
              "      <th>UserID</th>\n",
              "      <th>Gender</th>\n",
              "      <th>Age</th>\n",
              "      <th>Occupation</th>\n",
              "      <th>Zip-code</th>\n",
              "    </tr>\n",
              "  </thead>\n",
              "  <tbody>\n",
              "    <tr>\n",
              "      <th>0</th>\n",
              "      <td>1</td>\n",
              "      <td>F</td>\n",
              "      <td>1</td>\n",
              "      <td>10</td>\n",
              "      <td>48067</td>\n",
              "    </tr>\n",
              "    <tr>\n",
              "      <th>1</th>\n",
              "      <td>2</td>\n",
              "      <td>M</td>\n",
              "      <td>56</td>\n",
              "      <td>16</td>\n",
              "      <td>70072</td>\n",
              "    </tr>\n",
              "    <tr>\n",
              "      <th>2</th>\n",
              "      <td>3</td>\n",
              "      <td>M</td>\n",
              "      <td>25</td>\n",
              "      <td>15</td>\n",
              "      <td>55117</td>\n",
              "    </tr>\n",
              "    <tr>\n",
              "      <th>3</th>\n",
              "      <td>4</td>\n",
              "      <td>M</td>\n",
              "      <td>45</td>\n",
              "      <td>7</td>\n",
              "      <td>02460</td>\n",
              "    </tr>\n",
              "    <tr>\n",
              "      <th>4</th>\n",
              "      <td>5</td>\n",
              "      <td>M</td>\n",
              "      <td>25</td>\n",
              "      <td>20</td>\n",
              "      <td>55455</td>\n",
              "    </tr>\n",
              "  </tbody>\n",
              "</table>\n",
              "</div>"
            ],
            "text/plain": [
              "   UserID Gender  Age  Occupation Zip-code\n",
              "0       1      F    1          10    48067\n",
              "1       2      M   56          16    70072\n",
              "2       3      M   25          15    55117\n",
              "3       4      M   45           7    02460\n",
              "4       5      M   25          20    55455"
            ]
          },
          "metadata": {},
          "execution_count": 104
        }
      ]
    },
    {
      "cell_type": "code",
      "metadata": {
        "id": "DKFTDBQQr-jV"
      },
      "source": [
        "movies = pd.read_csv('movie-data/movies.dat', delimiter='::', header=None, \n",
        "                     names=['MovieID', 'Title', 'Genres'], engine='python')"
      ],
      "execution_count": null,
      "outputs": []
    },
    {
      "cell_type": "code",
      "metadata": {
        "colab": {
          "base_uri": "https://localhost:8080/",
          "height": 206
        },
        "id": "m7S5ju_-B7WX",
        "outputId": "4dfabf10-9be1-4214-a970-f83c19ae3c10"
      },
      "source": [
        "movies.head()"
      ],
      "execution_count": null,
      "outputs": [
        {
          "output_type": "execute_result",
          "data": {
            "text/html": [
              "<div>\n",
              "<style scoped>\n",
              "    .dataframe tbody tr th:only-of-type {\n",
              "        vertical-align: middle;\n",
              "    }\n",
              "\n",
              "    .dataframe tbody tr th {\n",
              "        vertical-align: top;\n",
              "    }\n",
              "\n",
              "    .dataframe thead th {\n",
              "        text-align: right;\n",
              "    }\n",
              "</style>\n",
              "<table border=\"1\" class=\"dataframe\">\n",
              "  <thead>\n",
              "    <tr style=\"text-align: right;\">\n",
              "      <th></th>\n",
              "      <th>MovieID</th>\n",
              "      <th>Title</th>\n",
              "      <th>Genres</th>\n",
              "    </tr>\n",
              "  </thead>\n",
              "  <tbody>\n",
              "    <tr>\n",
              "      <th>0</th>\n",
              "      <td>1</td>\n",
              "      <td>Toy Story (1995)</td>\n",
              "      <td>Animation|Children's|Comedy</td>\n",
              "    </tr>\n",
              "    <tr>\n",
              "      <th>1</th>\n",
              "      <td>2</td>\n",
              "      <td>Jumanji (1995)</td>\n",
              "      <td>Adventure|Children's|Fantasy</td>\n",
              "    </tr>\n",
              "    <tr>\n",
              "      <th>2</th>\n",
              "      <td>3</td>\n",
              "      <td>Grumpier Old Men (1995)</td>\n",
              "      <td>Comedy|Romance</td>\n",
              "    </tr>\n",
              "    <tr>\n",
              "      <th>3</th>\n",
              "      <td>4</td>\n",
              "      <td>Waiting to Exhale (1995)</td>\n",
              "      <td>Comedy|Drama</td>\n",
              "    </tr>\n",
              "    <tr>\n",
              "      <th>4</th>\n",
              "      <td>5</td>\n",
              "      <td>Father of the Bride Part II (1995)</td>\n",
              "      <td>Comedy</td>\n",
              "    </tr>\n",
              "  </tbody>\n",
              "</table>\n",
              "</div>"
            ],
            "text/plain": [
              "   MovieID                               Title                        Genres\n",
              "0        1                    Toy Story (1995)   Animation|Children's|Comedy\n",
              "1        2                      Jumanji (1995)  Adventure|Children's|Fantasy\n",
              "2        3             Grumpier Old Men (1995)                Comedy|Romance\n",
              "3        4            Waiting to Exhale (1995)                  Comedy|Drama\n",
              "4        5  Father of the Bride Part II (1995)                        Comedy"
            ]
          },
          "metadata": {},
          "execution_count": 106
        }
      ]
    },
    {
      "cell_type": "code",
      "metadata": {
        "id": "E3s4qpgmuwcT"
      },
      "source": [
        "row_indices = ratings['UserID'].values - 1\n",
        "col_indices = ratings['MovieID'].values - 1\n",
        "interaction_data = ratings['Rating'].values.astype(np.float32)"
      ],
      "execution_count": null,
      "outputs": []
    },
    {
      "cell_type": "code",
      "metadata": {
        "colab": {
          "base_uri": "https://localhost:8080/"
        },
        "id": "Zzrl41Tv7SCz",
        "outputId": "4ce651d6-cdb0-4666-a2ed-dcbb0358794d"
      },
      "source": [
        "np.max(col_indices) + 1, len(movies)"
      ],
      "execution_count": null,
      "outputs": [
        {
          "output_type": "execute_result",
          "data": {
            "text/plain": [
              "(3952, 3883)"
            ]
          },
          "metadata": {},
          "execution_count": 108
        }
      ]
    },
    {
      "cell_type": "code",
      "metadata": {
        "id": "Xl_UmrNbsKbg"
      },
      "source": [
        "M = sp.csr_matrix((interaction_data, (row_indices, col_indices)), shape=(np.max(row_indices) + 1, np.max(col_indices) + 1))"
      ],
      "execution_count": null,
      "outputs": []
    },
    {
      "cell_type": "code",
      "metadata": {
        "colab": {
          "base_uri": "https://localhost:8080/"
        },
        "id": "AAlhyoT6wb-l",
        "outputId": "9f585e30-4fb2-4b4c-ae3a-e4a38300dd43"
      },
      "source": [
        "M.shape"
      ],
      "execution_count": null,
      "outputs": [
        {
          "output_type": "execute_result",
          "data": {
            "text/plain": [
              "(6040, 3952)"
            ]
          },
          "metadata": {},
          "execution_count": 110
        }
      ]
    },
    {
      "cell_type": "markdown",
      "metadata": {
        "id": "Hqz7HctLCt4b"
      },
      "source": [
        "The rank for SVD should not be too large, as we want to compress only the most necessary information about movies. So let us use the median number \n",
        "of reviewers per movie, for example. Such number of latent features might properly reflect the interaction of each movie with some set of \n",
        "\"generalized\" viewers"
      ]
    },
    {
      "cell_type": "code",
      "metadata": {
        "id": "3zUd9OvBu7Cj"
      },
      "source": [
        "rank = int(np.median(ratings.groupby('MovieID').size()))\n",
        "u, s, v_t = linalgs.svds(M, k=rank)\n",
        "\n",
        "u[:, :] = u[:, ::-1]\n",
        "s = s[::-1]\n",
        "v_t[:, :] = v_t[::-1, :]"
      ],
      "execution_count": null,
      "outputs": []
    },
    {
      "cell_type": "code",
      "metadata": {
        "colab": {
          "base_uri": "https://localhost:8080/"
        },
        "id": "-i9JpHKpDcmT",
        "outputId": "63f837ee-2f7d-4352-99f8-24cad981cc22"
      },
      "source": [
        "rank"
      ],
      "execution_count": null,
      "outputs": [
        {
          "output_type": "execute_result",
          "data": {
            "text/plain": [
              "123"
            ]
          },
          "metadata": {},
          "execution_count": 112
        }
      ]
    },
    {
      "cell_type": "markdown",
      "metadata": {
        "id": "SMXnKF5Tu7Cj"
      },
      "source": [
        "3) (2 pts) In order to get weighted item-latent factors, we can multiply $S$ and $V^{T}$. Please, remember that $S$ is diagonal and multiply them efficiently."
      ]
    },
    {
      "cell_type": "code",
      "metadata": {
        "id": "VEW4M5Ovu7Cj"
      },
      "source": [
        "movie_embeddings = (s.reshape(-1, 1) * v_t).T"
      ],
      "execution_count": null,
      "outputs": []
    },
    {
      "cell_type": "code",
      "metadata": {
        "colab": {
          "base_uri": "https://localhost:8080/"
        },
        "id": "VZ4w_-Hz2z1u",
        "outputId": "fe033d70-4f96-42ee-aca8-3e1334690af6"
      },
      "source": [
        "movie_embeddings.shape"
      ],
      "execution_count": null,
      "outputs": [
        {
          "output_type": "execute_result",
          "data": {
            "text/plain": [
              "(3952, 123)"
            ]
          },
          "metadata": {},
          "execution_count": 114
        }
      ]
    },
    {
      "cell_type": "markdown",
      "metadata": {
        "id": "eEMDQkkqu7Ck"
      },
      "source": [
        "Now we have vectors that represent our item space. In other words we have $N$ movies and $N$ vectors which describe each movie, a.k.a. embeddings. \n",
        "In order to know if two movies are similar or not we need just to check if the corresponding vectors are similair or not. How we can do this?\n",
        "\n",
        "4) (2 pts)  Implement the cosine metric. If the cosine metric between two vectors equals to $1$ both vectors are collinear, if $0$ vectors are orthogonal, as a result corresponding movies are completely different.\n",
        "\n",
        "$$\n",
        "cosine(u,v) = \\frac{u^{\\top}v}{\\|u\\|_2\\|v\\|_2}\n",
        "$$"
      ]
    },
    {
      "cell_type": "code",
      "metadata": {
        "id": "lAR4dXMOOGI_"
      },
      "source": [
        "def cosine_similarity(u, v):\n",
        "    # here u is matrix and v is vector\n",
        "    u = np.apply_along_axis(lambda x: x / np.linalg.norm(x), 1, u)\n",
        "    v = v / np.linalg.norm(v)\n",
        "    return u @ v"
      ],
      "execution_count": null,
      "outputs": []
    },
    {
      "cell_type": "markdown",
      "metadata": {
        "id": "6wRZh8ALu7C1"
      },
      "source": [
        "5) (5 pts) Check your result. Implement the fuction, which finds and prints $k$ similar movies to the one you have chosen"
      ]
    },
    {
      "cell_type": "code",
      "metadata": {
        "id": "26g7MzeWu7C1"
      },
      "source": [
        "def find_similar_movies(movie_id, movie_embeddings, movies, k):\n",
        "    movie_index = movie_id - 1\n",
        "    specific_embedding = movie_embeddings[movie_index]\n",
        "\n",
        "    movie_indices = np.arange(len(movie_embeddings))\n",
        "    similarity_scores = cosine_similarity(movie_embeddings, specific_embedding)\n",
        "    \n",
        "    top_movie_indices = movie_indices[np.argsort(similarity_scores)][-(k + 1):-1] + 1\n",
        "    return movies.iloc[pd.Series(index=movies['MovieID'].values, data=movies['MovieID'].index)[top_movie_indices[::-1]]]"
      ],
      "execution_count": null,
      "outputs": []
    },
    {
      "cell_type": "code",
      "metadata": {
        "colab": {
          "base_uri": "https://localhost:8080/",
          "height": 423
        },
        "id": "FqACM1KX5TZG",
        "outputId": "398aa1c5-4a4b-450b-f0bc-2066d9661cf4"
      },
      "source": [
        "movies"
      ],
      "execution_count": null,
      "outputs": [
        {
          "output_type": "execute_result",
          "data": {
            "text/html": [
              "<div>\n",
              "<style scoped>\n",
              "    .dataframe tbody tr th:only-of-type {\n",
              "        vertical-align: middle;\n",
              "    }\n",
              "\n",
              "    .dataframe tbody tr th {\n",
              "        vertical-align: top;\n",
              "    }\n",
              "\n",
              "    .dataframe thead th {\n",
              "        text-align: right;\n",
              "    }\n",
              "</style>\n",
              "<table border=\"1\" class=\"dataframe\">\n",
              "  <thead>\n",
              "    <tr style=\"text-align: right;\">\n",
              "      <th></th>\n",
              "      <th>MovieID</th>\n",
              "      <th>Title</th>\n",
              "      <th>Genres</th>\n",
              "    </tr>\n",
              "  </thead>\n",
              "  <tbody>\n",
              "    <tr>\n",
              "      <th>0</th>\n",
              "      <td>1</td>\n",
              "      <td>Toy Story (1995)</td>\n",
              "      <td>Animation|Children's|Comedy</td>\n",
              "    </tr>\n",
              "    <tr>\n",
              "      <th>1</th>\n",
              "      <td>2</td>\n",
              "      <td>Jumanji (1995)</td>\n",
              "      <td>Adventure|Children's|Fantasy</td>\n",
              "    </tr>\n",
              "    <tr>\n",
              "      <th>2</th>\n",
              "      <td>3</td>\n",
              "      <td>Grumpier Old Men (1995)</td>\n",
              "      <td>Comedy|Romance</td>\n",
              "    </tr>\n",
              "    <tr>\n",
              "      <th>3</th>\n",
              "      <td>4</td>\n",
              "      <td>Waiting to Exhale (1995)</td>\n",
              "      <td>Comedy|Drama</td>\n",
              "    </tr>\n",
              "    <tr>\n",
              "      <th>4</th>\n",
              "      <td>5</td>\n",
              "      <td>Father of the Bride Part II (1995)</td>\n",
              "      <td>Comedy</td>\n",
              "    </tr>\n",
              "    <tr>\n",
              "      <th>...</th>\n",
              "      <td>...</td>\n",
              "      <td>...</td>\n",
              "      <td>...</td>\n",
              "    </tr>\n",
              "    <tr>\n",
              "      <th>3878</th>\n",
              "      <td>3948</td>\n",
              "      <td>Meet the Parents (2000)</td>\n",
              "      <td>Comedy</td>\n",
              "    </tr>\n",
              "    <tr>\n",
              "      <th>3879</th>\n",
              "      <td>3949</td>\n",
              "      <td>Requiem for a Dream (2000)</td>\n",
              "      <td>Drama</td>\n",
              "    </tr>\n",
              "    <tr>\n",
              "      <th>3880</th>\n",
              "      <td>3950</td>\n",
              "      <td>Tigerland (2000)</td>\n",
              "      <td>Drama</td>\n",
              "    </tr>\n",
              "    <tr>\n",
              "      <th>3881</th>\n",
              "      <td>3951</td>\n",
              "      <td>Two Family House (2000)</td>\n",
              "      <td>Drama</td>\n",
              "    </tr>\n",
              "    <tr>\n",
              "      <th>3882</th>\n",
              "      <td>3952</td>\n",
              "      <td>Contender, The (2000)</td>\n",
              "      <td>Drama|Thriller</td>\n",
              "    </tr>\n",
              "  </tbody>\n",
              "</table>\n",
              "<p>3883 rows × 3 columns</p>\n",
              "</div>"
            ],
            "text/plain": [
              "      MovieID                               Title                        Genres\n",
              "0           1                    Toy Story (1995)   Animation|Children's|Comedy\n",
              "1           2                      Jumanji (1995)  Adventure|Children's|Fantasy\n",
              "2           3             Grumpier Old Men (1995)                Comedy|Romance\n",
              "3           4            Waiting to Exhale (1995)                  Comedy|Drama\n",
              "4           5  Father of the Bride Part II (1995)                        Comedy\n",
              "...       ...                                 ...                           ...\n",
              "3878     3948             Meet the Parents (2000)                        Comedy\n",
              "3879     3949          Requiem for a Dream (2000)                         Drama\n",
              "3880     3950                    Tigerland (2000)                         Drama\n",
              "3881     3951             Two Family House (2000)                         Drama\n",
              "3882     3952               Contender, The (2000)                Drama|Thriller\n",
              "\n",
              "[3883 rows x 3 columns]"
            ]
          },
          "metadata": {},
          "execution_count": 185
        }
      ]
    },
    {
      "cell_type": "markdown",
      "metadata": {
        "id": "fbCz0zWb4_NJ"
      },
      "source": [
        "What if I enjoy the Toy Story?"
      ]
    },
    {
      "cell_type": "code",
      "metadata": {
        "colab": {
          "base_uri": "https://localhost:8080/",
          "height": 363
        },
        "id": "BeNMQGk56Bcu",
        "outputId": "a7b5c22e-6543-4aec-a8f7-40a793e7ed0a"
      },
      "source": [
        "movie_id, k = 1, 10\n",
        "find_similar_movies(movie_id, movie_embeddings, movies, k)"
      ],
      "execution_count": null,
      "outputs": [
        {
          "output_type": "execute_result",
          "data": {
            "text/html": [
              "<div>\n",
              "<style scoped>\n",
              "    .dataframe tbody tr th:only-of-type {\n",
              "        vertical-align: middle;\n",
              "    }\n",
              "\n",
              "    .dataframe tbody tr th {\n",
              "        vertical-align: top;\n",
              "    }\n",
              "\n",
              "    .dataframe thead th {\n",
              "        text-align: right;\n",
              "    }\n",
              "</style>\n",
              "<table border=\"1\" class=\"dataframe\">\n",
              "  <thead>\n",
              "    <tr style=\"text-align: right;\">\n",
              "      <th></th>\n",
              "      <th>MovieID</th>\n",
              "      <th>Title</th>\n",
              "      <th>Genres</th>\n",
              "    </tr>\n",
              "  </thead>\n",
              "  <tbody>\n",
              "    <tr>\n",
              "      <th>3045</th>\n",
              "      <td>3114</td>\n",
              "      <td>Toy Story 2 (1999)</td>\n",
              "      <td>Animation|Children's|Comedy</td>\n",
              "    </tr>\n",
              "    <tr>\n",
              "      <th>584</th>\n",
              "      <td>588</td>\n",
              "      <td>Aladdin (1992)</td>\n",
              "      <td>Animation|Children's|Comedy|Musical</td>\n",
              "    </tr>\n",
              "    <tr>\n",
              "      <th>2286</th>\n",
              "      <td>2355</td>\n",
              "      <td>Bug's Life, A (1998)</td>\n",
              "      <td>Animation|Children's|Comedy</td>\n",
              "    </tr>\n",
              "    <tr>\n",
              "      <th>360</th>\n",
              "      <td>364</td>\n",
              "      <td>Lion King, The (1994)</td>\n",
              "      <td>Animation|Children's|Musical</td>\n",
              "    </tr>\n",
              "    <tr>\n",
              "      <th>1245</th>\n",
              "      <td>1265</td>\n",
              "      <td>Groundhog Day (1993)</td>\n",
              "      <td>Comedy|Romance</td>\n",
              "    </tr>\n",
              "    <tr>\n",
              "      <th>2252</th>\n",
              "      <td>2321</td>\n",
              "      <td>Pleasantville (1998)</td>\n",
              "      <td>Comedy</td>\n",
              "    </tr>\n",
              "    <tr>\n",
              "      <th>591</th>\n",
              "      <td>595</td>\n",
              "      <td>Beauty and the Beast (1991)</td>\n",
              "      <td>Animation|Children's|Musical</td>\n",
              "    </tr>\n",
              "    <tr>\n",
              "      <th>3184</th>\n",
              "      <td>3253</td>\n",
              "      <td>Wayne's World (1992)</td>\n",
              "      <td>Comedy</td>\n",
              "    </tr>\n",
              "    <tr>\n",
              "      <th>363</th>\n",
              "      <td>367</td>\n",
              "      <td>Mask, The (1994)</td>\n",
              "      <td>Comedy|Crime|Fantasy</td>\n",
              "    </tr>\n",
              "    <tr>\n",
              "      <th>1854</th>\n",
              "      <td>1923</td>\n",
              "      <td>There's Something About Mary (1998)</td>\n",
              "      <td>Comedy</td>\n",
              "    </tr>\n",
              "  </tbody>\n",
              "</table>\n",
              "</div>"
            ],
            "text/plain": [
              "      MovieID  ...                               Genres\n",
              "3045     3114  ...          Animation|Children's|Comedy\n",
              "584       588  ...  Animation|Children's|Comedy|Musical\n",
              "2286     2355  ...          Animation|Children's|Comedy\n",
              "360       364  ...         Animation|Children's|Musical\n",
              "1245     1265  ...                       Comedy|Romance\n",
              "2252     2321  ...                               Comedy\n",
              "591       595  ...         Animation|Children's|Musical\n",
              "3184     3253  ...                               Comedy\n",
              "363       367  ...                 Comedy|Crime|Fantasy\n",
              "1854     1923  ...                               Comedy\n",
              "\n",
              "[10 rows x 3 columns]"
            ]
          },
          "metadata": {},
          "execution_count": 186
        }
      ]
    },
    {
      "cell_type": "markdown",
      "metadata": {
        "id": "PXXPogL9-FW-"
      },
      "source": [
        "The obtained recommendations are highly relevant, because I also enjoy Lion King and Aladdin"
      ]
    },
    {
      "cell_type": "markdown",
      "metadata": {
        "id": "oPIQfKcmu7C2"
      },
      "source": [
        "Enjoy watching the recommended movies!\n"
      ]
    },
    {
      "cell_type": "code",
      "metadata": {
        "id": "BGjDJJS_Ejib"
      },
      "source": [
        ""
      ],
      "execution_count": null,
      "outputs": []
    }
  ]
}